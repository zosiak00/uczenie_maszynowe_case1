{
  "nbformat": 4,
  "nbformat_minor": 0,
  "metadata": {
    "colab": {
      "provenance": [],
      "mount_file_id": "1n4qf6UIlDWG4tDlgKnZQdKNIEGzRGN5O",
      "authorship_tag": "ABX9TyNXjJYNw1/mSv74FRDJf4g8",
      "include_colab_link": true
    },
    "kernelspec": {
      "name": "python3",
      "display_name": "Python 3"
    },
    "language_info": {
      "name": "python"
    }
  },
  "cells": [
    {
      "cell_type": "markdown",
      "metadata": {
        "id": "view-in-github",
        "colab_type": "text"
      },
      "source": [
        "<a href=\"https://colab.research.google.com/github/zosiak00/uczenie_maszynowe_ZK/blob/case1/Koziczak_case1_v2.ipynb\" target=\"_parent\"><img src=\"https://colab.research.google.com/assets/colab-badge.svg\" alt=\"Open In Colab\"/></a>"
      ]
    },
    {
      "cell_type": "code",
      "execution_count": 33,
      "metadata": {
        "id": "Jz5eM-Im7x_k"
      },
      "outputs": [],
      "source": [
        "import pandas as pd\n",
        "import numpy as np\n",
        "import seaborn as sns\n",
        "import matplotlib.pyplot as plt\n",
        "from sklearn.preprocessing import StandardScaler\n",
        "import plotly.express as px\n",
        "from sklearn.model_selection import train_test_split, StratifiedKFold, GridSearchCV\n",
        "from sklearn.tree import DecisionTreeClassifier\n",
        "from sklearn.model_selection import cross_val_score, RepeatedStratifiedKFold\n",
        "from sklearn.metrics import precision_score, recall_score, f1_score, make_scorer, roc_auc_score, classification_report\n",
        "from imblearn.under_sampling import RandomUnderSampler\n",
        "from imblearn.over_sampling import RandomOverSampler, SMOTE\n",
        "from sklearn.neighbors import KNeighborsClassifier\n",
        "from sklearn.ensemble import RandomForestClassifier\n",
        "from sklearn.linear_model import LogisticRegression\n",
        "from sklearn.svm import SVC\n",
        "from imblearn.pipeline import Pipeline as ImbPipeline\n",
        "import time\n",
        "from imblearn.over_sampling import SMOTENC\n",
        "import xgboost as xgb\n",
        "from xgboost import XGBClassifier, plot_importance\n",
        "from sklearn.metrics import accuracy_score, confusion_matrix\n",
        "import plotly.graph_objects as go\n",
        "from sklearn.impute import KNNImputer\n",
        "from sklearn.metrics import confusion_matrix, classification_report\n",
        "from tabulate import tabulate\n",
        "from sklearn.preprocessing import MinMaxScaler, LabelEncoder"
      ]
    },
    {
      "cell_type": "code",
      "source": [
        "dane = pd.read_csv('/content/drive/MyDrive/UEP/ML w finansach/case1.csv', delimiter=\";\", index_col=[0])\n",
        "dane=dane.drop(columns=[ \"Index\", \"Address\"])\n",
        "\n",
        "display(dane.info())"
      ],
      "metadata": {
        "id": "KauczUso73IL",
        "colab": {
          "base_uri": "https://localhost:8080/",
          "height": 1000
        },
        "outputId": "83df1e35-8261-43dd-e8e9-599fd286f769"
      },
      "execution_count": 34,
      "outputs": [
        {
          "output_type": "stream",
          "name": "stdout",
          "text": [
            "<class 'pandas.core.frame.DataFrame'>\n",
            "Int64Index: 9841 entries, 0 to 9840\n",
            "Data columns (total 48 columns):\n",
            " #   Column                                                Non-Null Count  Dtype  \n",
            "---  ------                                                --------------  -----  \n",
            " 0   FLAG                                                  9841 non-null   int64  \n",
            " 1   Avg min between sent tnx                              9841 non-null   float64\n",
            " 2   Avg min between received tnx                          9841 non-null   float64\n",
            " 3   Time Diff between first and last (Mins)               9841 non-null   float64\n",
            " 4   Sent tnx                                              9841 non-null   int64  \n",
            " 5   Received Tnx                                          9841 non-null   int64  \n",
            " 6   Number of Created Contracts                           9841 non-null   int64  \n",
            " 7   Unique Received From Addresses                        9841 non-null   int64  \n",
            " 8   Unique Sent To Addresses                              9841 non-null   int64  \n",
            " 9   min value received                                    9841 non-null   float64\n",
            " 10  max value received                                    9841 non-null   float64\n",
            " 11  avg val received                                      9841 non-null   float64\n",
            " 12  min val sent                                          9841 non-null   float64\n",
            " 13  max val sent                                          9841 non-null   float64\n",
            " 14  avg val sent                                          9841 non-null   float64\n",
            " 15  min value sent to contract                            9841 non-null   float64\n",
            " 16  max val sent to contract                              9841 non-null   float64\n",
            " 17  avg value sent to contract                            9841 non-null   float64\n",
            " 18  total transactions (including tnx to create contract  9841 non-null   int64  \n",
            " 19  total Ether sent                                      9841 non-null   float64\n",
            " 20  total ether received                                  9841 non-null   float64\n",
            " 21  total ether sent contracts                            9841 non-null   float64\n",
            " 22  total ether balance                                   9841 non-null   float64\n",
            " 23  Total ERC20 tnxs                                      9012 non-null   float64\n",
            " 24  ERC20 total Ether received                            9012 non-null   float64\n",
            " 25  ERC20 total ether sent                                9012 non-null   float64\n",
            " 26  ERC20 total Ether sent contract                       9012 non-null   float64\n",
            " 27  ERC20 uniq sent addr                                  9012 non-null   float64\n",
            " 28  ERC20 uniq rec addr                                   9012 non-null   float64\n",
            " 29  ERC20 uniq sent addr.1                                9012 non-null   float64\n",
            " 30  ERC20 uniq rec contract addr                          9012 non-null   float64\n",
            " 31  ERC20 avg time between sent tnx                       9012 non-null   float64\n",
            " 32  ERC20 avg time between rec tnx                        9012 non-null   float64\n",
            " 33  ERC20 avg time between rec 2 tnx                      9012 non-null   float64\n",
            " 34  ERC20 avg time between contract tnx                   9012 non-null   float64\n",
            " 35  ERC20 min val rec                                     9012 non-null   float64\n",
            " 36  ERC20 max val rec                                     9012 non-null   float64\n",
            " 37  ERC20 avg val rec                                     9012 non-null   float64\n",
            " 38  ERC20 min val sent                                    9012 non-null   float64\n",
            " 39  ERC20 max val sent                                    9012 non-null   float64\n",
            " 40  ERC20 avg val sent                                    9012 non-null   float64\n",
            " 41  ERC20 min val sent contract                           9012 non-null   float64\n",
            " 42  ERC20 max val sent contract                           9012 non-null   float64\n",
            " 43  ERC20 avg val sent contract                           9012 non-null   float64\n",
            " 44  ERC20 uniq sent token name                            9012 non-null   float64\n",
            " 45  ERC20 uniq rec token name                             9012 non-null   float64\n",
            " 46  ERC20 most sent token type                            9000 non-null   object \n",
            " 47  ERC20_most_rec_token_type                             8990 non-null   object \n",
            "dtypes: float64(39), int64(7), object(2)\n",
            "memory usage: 3.7+ MB\n"
          ]
        },
        {
          "output_type": "display_data",
          "data": {
            "text/plain": [
              "None"
            ]
          },
          "metadata": {}
        }
      ]
    },
    {
      "cell_type": "markdown",
      "source": [
        "Zastąpienie braków danymi najczęściej występującymi wartościami:"
      ],
      "metadata": {
        "id": "NH27ZxFMiy2F"
      }
    },
    {
      "cell_type": "code",
      "source": [
        "from sklearn.impute import KNNImputer\n",
        "\n",
        "kolumny_nieliczbowe = dane.select_dtypes(exclude=['float64', 'int64']).columns\n",
        "dane_new = dane.copy()\n",
        "\n",
        "# Iterujemy przez kolumny zawierające wartości nieliczbowe i zastępujemy braki danych najczęściej występującą wartością\n",
        "for column in kolumny_nieliczbowe:\n",
        "    najczestsza_wartosc = dane[column].mode()[0]  # Pobieramy najczęściej występującą wartość\n",
        "    dane_new[column].fillna(najczestsza_wartosc, inplace=True)\n",
        "\n",
        "# Inicjalizuj KNNImputer tylko dla kolumn zawierających liczby\n",
        "imputer = KNNImputer(n_neighbors=5)\n",
        "dane_liczbowe = dane.select_dtypes(include=['float64', 'int64'])\n",
        "dane_new_liczbowe = pd.DataFrame(imputer.fit_transform(dane_liczbowe), columns=dane_liczbowe.columns)\n",
        "\n",
        "# Połączenie zastąpionych danych liczbowych z danymi nieliczbowymi\n",
        "dane_new[dane_liczbowe.columns] = dane_new_liczbowe\n",
        "dane_new.head()"
      ],
      "metadata": {
        "id": "fI7K6P-m8-Uw",
        "colab": {
          "base_uri": "https://localhost:8080/",
          "height": 342
        },
        "outputId": "57d7ba9d-633e-4d14-d24b-724abdbfc8e7"
      },
      "execution_count": 35,
      "outputs": [
        {
          "output_type": "execute_result",
          "data": {
            "text/plain": [
              "   FLAG  Avg min between sent tnx  Avg min between received tnx  \\\n",
              "0   0.0                    844.26                       1093.71   \n",
              "1   0.0                  12709.07                       2958.44   \n",
              "2   0.0                 246194.54                       2434.02   \n",
              "3   0.0                  10219.60                      15785.09   \n",
              "4   0.0                     36.61                      10707.77   \n",
              "\n",
              "   Time Diff between first and last (Mins)  Sent tnx  Received Tnx  \\\n",
              "0                                704785.63     721.0          89.0   \n",
              "1                               1218216.73      94.0           8.0   \n",
              "2                                516729.30       2.0          10.0   \n",
              "3                                397555.90      25.0           9.0   \n",
              "4                                382472.42    4598.0          20.0   \n",
              "\n",
              "   Number of Created Contracts  Unique Received From Addresses  \\\n",
              "0                          0.0                            40.0   \n",
              "1                          0.0                             5.0   \n",
              "2                          0.0                            10.0   \n",
              "3                          0.0                             7.0   \n",
              "4                          1.0                             7.0   \n",
              "\n",
              "   Unique Sent To Addresses  min value received  ...  ERC20 min val sent  \\\n",
              "0                     118.0            0.000000  ...            0.000000   \n",
              "1                      14.0            0.000000  ...            2.260809   \n",
              "2                       2.0            0.113119  ...            0.000000   \n",
              "3                      13.0            0.000000  ...          100.000000   \n",
              "4                      19.0            0.000000  ...            0.000000   \n",
              "\n",
              "   ERC20 max val sent  ERC20 avg val sent  ERC20 min val sent contract  \\\n",
              "0        1.683100e+07       271779.920000                          0.0   \n",
              "1        2.260809e+00            2.260809                          0.0   \n",
              "2        0.000000e+00            0.000000                          0.0   \n",
              "3        9.029231e+03         3804.076893                          0.0   \n",
              "4        4.500000e+04        13726.659220                          0.0   \n",
              "\n",
              "   ERC20 max val sent contract  ERC20 avg val sent contract  \\\n",
              "0                          0.0                          0.0   \n",
              "1                          0.0                          0.0   \n",
              "2                          0.0                          0.0   \n",
              "3                          0.0                          0.0   \n",
              "4                          0.0                          0.0   \n",
              "\n",
              "   ERC20 uniq sent token name  ERC20 uniq rec token name  \\\n",
              "0                        39.0                       57.0   \n",
              "1                         1.0                        7.0   \n",
              "2                         0.0                        8.0   \n",
              "3                         1.0                       11.0   \n",
              "4                         6.0                       27.0   \n",
              "\n",
              "   ERC20 most sent token type  ERC20_most_rec_token_type  \n",
              "0                   Cofoundit                  Numeraire  \n",
              "1              Livepeer Token             Livepeer Token  \n",
              "2                        None                      XENON  \n",
              "3                      Raiden                      XENON  \n",
              "4               StatusNetwork                        EOS  \n",
              "\n",
              "[5 rows x 48 columns]"
            ],
            "text/html": [
              "\n",
              "  <div id=\"df-fde1464c-474b-44b4-8c3d-65b7fbb5fe59\" class=\"colab-df-container\">\n",
              "    <div>\n",
              "<style scoped>\n",
              "    .dataframe tbody tr th:only-of-type {\n",
              "        vertical-align: middle;\n",
              "    }\n",
              "\n",
              "    .dataframe tbody tr th {\n",
              "        vertical-align: top;\n",
              "    }\n",
              "\n",
              "    .dataframe thead th {\n",
              "        text-align: right;\n",
              "    }\n",
              "</style>\n",
              "<table border=\"1\" class=\"dataframe\">\n",
              "  <thead>\n",
              "    <tr style=\"text-align: right;\">\n",
              "      <th></th>\n",
              "      <th>FLAG</th>\n",
              "      <th>Avg min between sent tnx</th>\n",
              "      <th>Avg min between received tnx</th>\n",
              "      <th>Time Diff between first and last (Mins)</th>\n",
              "      <th>Sent tnx</th>\n",
              "      <th>Received Tnx</th>\n",
              "      <th>Number of Created Contracts</th>\n",
              "      <th>Unique Received From Addresses</th>\n",
              "      <th>Unique Sent To Addresses</th>\n",
              "      <th>min value received</th>\n",
              "      <th>...</th>\n",
              "      <th>ERC20 min val sent</th>\n",
              "      <th>ERC20 max val sent</th>\n",
              "      <th>ERC20 avg val sent</th>\n",
              "      <th>ERC20 min val sent contract</th>\n",
              "      <th>ERC20 max val sent contract</th>\n",
              "      <th>ERC20 avg val sent contract</th>\n",
              "      <th>ERC20 uniq sent token name</th>\n",
              "      <th>ERC20 uniq rec token name</th>\n",
              "      <th>ERC20 most sent token type</th>\n",
              "      <th>ERC20_most_rec_token_type</th>\n",
              "    </tr>\n",
              "  </thead>\n",
              "  <tbody>\n",
              "    <tr>\n",
              "      <th>0</th>\n",
              "      <td>0.0</td>\n",
              "      <td>844.26</td>\n",
              "      <td>1093.71</td>\n",
              "      <td>704785.63</td>\n",
              "      <td>721.0</td>\n",
              "      <td>89.0</td>\n",
              "      <td>0.0</td>\n",
              "      <td>40.0</td>\n",
              "      <td>118.0</td>\n",
              "      <td>0.000000</td>\n",
              "      <td>...</td>\n",
              "      <td>0.000000</td>\n",
              "      <td>1.683100e+07</td>\n",
              "      <td>271779.920000</td>\n",
              "      <td>0.0</td>\n",
              "      <td>0.0</td>\n",
              "      <td>0.0</td>\n",
              "      <td>39.0</td>\n",
              "      <td>57.0</td>\n",
              "      <td>Cofoundit</td>\n",
              "      <td>Numeraire</td>\n",
              "    </tr>\n",
              "    <tr>\n",
              "      <th>1</th>\n",
              "      <td>0.0</td>\n",
              "      <td>12709.07</td>\n",
              "      <td>2958.44</td>\n",
              "      <td>1218216.73</td>\n",
              "      <td>94.0</td>\n",
              "      <td>8.0</td>\n",
              "      <td>0.0</td>\n",
              "      <td>5.0</td>\n",
              "      <td>14.0</td>\n",
              "      <td>0.000000</td>\n",
              "      <td>...</td>\n",
              "      <td>2.260809</td>\n",
              "      <td>2.260809e+00</td>\n",
              "      <td>2.260809</td>\n",
              "      <td>0.0</td>\n",
              "      <td>0.0</td>\n",
              "      <td>0.0</td>\n",
              "      <td>1.0</td>\n",
              "      <td>7.0</td>\n",
              "      <td>Livepeer Token</td>\n",
              "      <td>Livepeer Token</td>\n",
              "    </tr>\n",
              "    <tr>\n",
              "      <th>2</th>\n",
              "      <td>0.0</td>\n",
              "      <td>246194.54</td>\n",
              "      <td>2434.02</td>\n",
              "      <td>516729.30</td>\n",
              "      <td>2.0</td>\n",
              "      <td>10.0</td>\n",
              "      <td>0.0</td>\n",
              "      <td>10.0</td>\n",
              "      <td>2.0</td>\n",
              "      <td>0.113119</td>\n",
              "      <td>...</td>\n",
              "      <td>0.000000</td>\n",
              "      <td>0.000000e+00</td>\n",
              "      <td>0.000000</td>\n",
              "      <td>0.0</td>\n",
              "      <td>0.0</td>\n",
              "      <td>0.0</td>\n",
              "      <td>0.0</td>\n",
              "      <td>8.0</td>\n",
              "      <td>None</td>\n",
              "      <td>XENON</td>\n",
              "    </tr>\n",
              "    <tr>\n",
              "      <th>3</th>\n",
              "      <td>0.0</td>\n",
              "      <td>10219.60</td>\n",
              "      <td>15785.09</td>\n",
              "      <td>397555.90</td>\n",
              "      <td>25.0</td>\n",
              "      <td>9.0</td>\n",
              "      <td>0.0</td>\n",
              "      <td>7.0</td>\n",
              "      <td>13.0</td>\n",
              "      <td>0.000000</td>\n",
              "      <td>...</td>\n",
              "      <td>100.000000</td>\n",
              "      <td>9.029231e+03</td>\n",
              "      <td>3804.076893</td>\n",
              "      <td>0.0</td>\n",
              "      <td>0.0</td>\n",
              "      <td>0.0</td>\n",
              "      <td>1.0</td>\n",
              "      <td>11.0</td>\n",
              "      <td>Raiden</td>\n",
              "      <td>XENON</td>\n",
              "    </tr>\n",
              "    <tr>\n",
              "      <th>4</th>\n",
              "      <td>0.0</td>\n",
              "      <td>36.61</td>\n",
              "      <td>10707.77</td>\n",
              "      <td>382472.42</td>\n",
              "      <td>4598.0</td>\n",
              "      <td>20.0</td>\n",
              "      <td>1.0</td>\n",
              "      <td>7.0</td>\n",
              "      <td>19.0</td>\n",
              "      <td>0.000000</td>\n",
              "      <td>...</td>\n",
              "      <td>0.000000</td>\n",
              "      <td>4.500000e+04</td>\n",
              "      <td>13726.659220</td>\n",
              "      <td>0.0</td>\n",
              "      <td>0.0</td>\n",
              "      <td>0.0</td>\n",
              "      <td>6.0</td>\n",
              "      <td>27.0</td>\n",
              "      <td>StatusNetwork</td>\n",
              "      <td>EOS</td>\n",
              "    </tr>\n",
              "  </tbody>\n",
              "</table>\n",
              "<p>5 rows × 48 columns</p>\n",
              "</div>\n",
              "    <div class=\"colab-df-buttons\">\n",
              "\n",
              "  <div class=\"colab-df-container\">\n",
              "    <button class=\"colab-df-convert\" onclick=\"convertToInteractive('df-fde1464c-474b-44b4-8c3d-65b7fbb5fe59')\"\n",
              "            title=\"Convert this dataframe to an interactive table.\"\n",
              "            style=\"display:none;\">\n",
              "\n",
              "  <svg xmlns=\"http://www.w3.org/2000/svg\" height=\"24px\" viewBox=\"0 -960 960 960\">\n",
              "    <path d=\"M120-120v-720h720v720H120Zm60-500h600v-160H180v160Zm220 220h160v-160H400v160Zm0 220h160v-160H400v160ZM180-400h160v-160H180v160Zm440 0h160v-160H620v160ZM180-180h160v-160H180v160Zm440 0h160v-160H620v160Z\"/>\n",
              "  </svg>\n",
              "    </button>\n",
              "\n",
              "  <style>\n",
              "    .colab-df-container {\n",
              "      display:flex;\n",
              "      gap: 12px;\n",
              "    }\n",
              "\n",
              "    .colab-df-convert {\n",
              "      background-color: #E8F0FE;\n",
              "      border: none;\n",
              "      border-radius: 50%;\n",
              "      cursor: pointer;\n",
              "      display: none;\n",
              "      fill: #1967D2;\n",
              "      height: 32px;\n",
              "      padding: 0 0 0 0;\n",
              "      width: 32px;\n",
              "    }\n",
              "\n",
              "    .colab-df-convert:hover {\n",
              "      background-color: #E2EBFA;\n",
              "      box-shadow: 0px 1px 2px rgba(60, 64, 67, 0.3), 0px 1px 3px 1px rgba(60, 64, 67, 0.15);\n",
              "      fill: #174EA6;\n",
              "    }\n",
              "\n",
              "    .colab-df-buttons div {\n",
              "      margin-bottom: 4px;\n",
              "    }\n",
              "\n",
              "    [theme=dark] .colab-df-convert {\n",
              "      background-color: #3B4455;\n",
              "      fill: #D2E3FC;\n",
              "    }\n",
              "\n",
              "    [theme=dark] .colab-df-convert:hover {\n",
              "      background-color: #434B5C;\n",
              "      box-shadow: 0px 1px 3px 1px rgba(0, 0, 0, 0.15);\n",
              "      filter: drop-shadow(0px 1px 2px rgba(0, 0, 0, 0.3));\n",
              "      fill: #FFFFFF;\n",
              "    }\n",
              "  </style>\n",
              "\n",
              "    <script>\n",
              "      const buttonEl =\n",
              "        document.querySelector('#df-fde1464c-474b-44b4-8c3d-65b7fbb5fe59 button.colab-df-convert');\n",
              "      buttonEl.style.display =\n",
              "        google.colab.kernel.accessAllowed ? 'block' : 'none';\n",
              "\n",
              "      async function convertToInteractive(key) {\n",
              "        const element = document.querySelector('#df-fde1464c-474b-44b4-8c3d-65b7fbb5fe59');\n",
              "        const dataTable =\n",
              "          await google.colab.kernel.invokeFunction('convertToInteractive',\n",
              "                                                    [key], {});\n",
              "        if (!dataTable) return;\n",
              "\n",
              "        const docLinkHtml = 'Like what you see? Visit the ' +\n",
              "          '<a target=\"_blank\" href=https://colab.research.google.com/notebooks/data_table.ipynb>data table notebook</a>'\n",
              "          + ' to learn more about interactive tables.';\n",
              "        element.innerHTML = '';\n",
              "        dataTable['output_type'] = 'display_data';\n",
              "        await google.colab.output.renderOutput(dataTable, element);\n",
              "        const docLink = document.createElement('div');\n",
              "        docLink.innerHTML = docLinkHtml;\n",
              "        element.appendChild(docLink);\n",
              "      }\n",
              "    </script>\n",
              "  </div>\n",
              "\n",
              "\n",
              "<div id=\"df-c2b925de-96c8-4734-95c2-db5a32a4a7ca\">\n",
              "  <button class=\"colab-df-quickchart\" onclick=\"quickchart('df-c2b925de-96c8-4734-95c2-db5a32a4a7ca')\"\n",
              "            title=\"Suggest charts\"\n",
              "            style=\"display:none;\">\n",
              "\n",
              "<svg xmlns=\"http://www.w3.org/2000/svg\" height=\"24px\"viewBox=\"0 0 24 24\"\n",
              "     width=\"24px\">\n",
              "    <g>\n",
              "        <path d=\"M19 3H5c-1.1 0-2 .9-2 2v14c0 1.1.9 2 2 2h14c1.1 0 2-.9 2-2V5c0-1.1-.9-2-2-2zM9 17H7v-7h2v7zm4 0h-2V7h2v10zm4 0h-2v-4h2v4z\"/>\n",
              "    </g>\n",
              "</svg>\n",
              "  </button>\n",
              "\n",
              "<style>\n",
              "  .colab-df-quickchart {\n",
              "      --bg-color: #E8F0FE;\n",
              "      --fill-color: #1967D2;\n",
              "      --hover-bg-color: #E2EBFA;\n",
              "      --hover-fill-color: #174EA6;\n",
              "      --disabled-fill-color: #AAA;\n",
              "      --disabled-bg-color: #DDD;\n",
              "  }\n",
              "\n",
              "  [theme=dark] .colab-df-quickchart {\n",
              "      --bg-color: #3B4455;\n",
              "      --fill-color: #D2E3FC;\n",
              "      --hover-bg-color: #434B5C;\n",
              "      --hover-fill-color: #FFFFFF;\n",
              "      --disabled-bg-color: #3B4455;\n",
              "      --disabled-fill-color: #666;\n",
              "  }\n",
              "\n",
              "  .colab-df-quickchart {\n",
              "    background-color: var(--bg-color);\n",
              "    border: none;\n",
              "    border-radius: 50%;\n",
              "    cursor: pointer;\n",
              "    display: none;\n",
              "    fill: var(--fill-color);\n",
              "    height: 32px;\n",
              "    padding: 0;\n",
              "    width: 32px;\n",
              "  }\n",
              "\n",
              "  .colab-df-quickchart:hover {\n",
              "    background-color: var(--hover-bg-color);\n",
              "    box-shadow: 0 1px 2px rgba(60, 64, 67, 0.3), 0 1px 3px 1px rgba(60, 64, 67, 0.15);\n",
              "    fill: var(--button-hover-fill-color);\n",
              "  }\n",
              "\n",
              "  .colab-df-quickchart-complete:disabled,\n",
              "  .colab-df-quickchart-complete:disabled:hover {\n",
              "    background-color: var(--disabled-bg-color);\n",
              "    fill: var(--disabled-fill-color);\n",
              "    box-shadow: none;\n",
              "  }\n",
              "\n",
              "  .colab-df-spinner {\n",
              "    border: 2px solid var(--fill-color);\n",
              "    border-color: transparent;\n",
              "    border-bottom-color: var(--fill-color);\n",
              "    animation:\n",
              "      spin 1s steps(1) infinite;\n",
              "  }\n",
              "\n",
              "  @keyframes spin {\n",
              "    0% {\n",
              "      border-color: transparent;\n",
              "      border-bottom-color: var(--fill-color);\n",
              "      border-left-color: var(--fill-color);\n",
              "    }\n",
              "    20% {\n",
              "      border-color: transparent;\n",
              "      border-left-color: var(--fill-color);\n",
              "      border-top-color: var(--fill-color);\n",
              "    }\n",
              "    30% {\n",
              "      border-color: transparent;\n",
              "      border-left-color: var(--fill-color);\n",
              "      border-top-color: var(--fill-color);\n",
              "      border-right-color: var(--fill-color);\n",
              "    }\n",
              "    40% {\n",
              "      border-color: transparent;\n",
              "      border-right-color: var(--fill-color);\n",
              "      border-top-color: var(--fill-color);\n",
              "    }\n",
              "    60% {\n",
              "      border-color: transparent;\n",
              "      border-right-color: var(--fill-color);\n",
              "    }\n",
              "    80% {\n",
              "      border-color: transparent;\n",
              "      border-right-color: var(--fill-color);\n",
              "      border-bottom-color: var(--fill-color);\n",
              "    }\n",
              "    90% {\n",
              "      border-color: transparent;\n",
              "      border-bottom-color: var(--fill-color);\n",
              "    }\n",
              "  }\n",
              "</style>\n",
              "\n",
              "  <script>\n",
              "    async function quickchart(key) {\n",
              "      const quickchartButtonEl =\n",
              "        document.querySelector('#' + key + ' button');\n",
              "      quickchartButtonEl.disabled = true;  // To prevent multiple clicks.\n",
              "      quickchartButtonEl.classList.add('colab-df-spinner');\n",
              "      try {\n",
              "        const charts = await google.colab.kernel.invokeFunction(\n",
              "            'suggestCharts', [key], {});\n",
              "      } catch (error) {\n",
              "        console.error('Error during call to suggestCharts:', error);\n",
              "      }\n",
              "      quickchartButtonEl.classList.remove('colab-df-spinner');\n",
              "      quickchartButtonEl.classList.add('colab-df-quickchart-complete');\n",
              "    }\n",
              "    (() => {\n",
              "      let quickchartButtonEl =\n",
              "        document.querySelector('#df-c2b925de-96c8-4734-95c2-db5a32a4a7ca button');\n",
              "      quickchartButtonEl.style.display =\n",
              "        google.colab.kernel.accessAllowed ? 'block' : 'none';\n",
              "    })();\n",
              "  </script>\n",
              "</div>\n",
              "    </div>\n",
              "  </div>\n"
            ],
            "application/vnd.google.colaboratory.intrinsic+json": {
              "type": "dataframe",
              "variable_name": "dane_new"
            }
          },
          "metadata": {},
          "execution_count": 35
        }
      ]
    },
    {
      "cell_type": "code",
      "source": [
        "# Przekodowanie zmiennych tekstowych na zmienne liczbowe\n",
        "encoder = LabelEncoder()\n",
        "\n",
        "# Skopiowanie danych do nowej zmiennej\n",
        "dane_new_encoded = dane_new.copy()\n",
        "\n",
        "# Iteracja przez wybrane kolumny i dokonanie kodowania etykiet\n",
        "for column in ['ERC20 most sent token type', 'ERC20_most_rec_token_type']:\n",
        "    dane_new_encoded[column] = encoder.fit_transform(dane_new_encoded[column])\n",
        "\n",
        "dane_new_encoded['FLAG']=dane_new['FLAG']\n",
        "# Wyświetlenie pierwszych kilku wierszy przekształconych danych\n",
        "print(dane_new_encoded.head())\n"
      ],
      "metadata": {
        "id": "dhzOC11LkUG7",
        "colab": {
          "base_uri": "https://localhost:8080/"
        },
        "outputId": "2e5d6f11-00bd-4b5d-a17c-2b61fe600fd6"
      },
      "execution_count": 7,
      "outputs": [
        {
          "output_type": "stream",
          "name": "stdout",
          "text": [
            "   FLAG  Avg min between sent tnx  Avg min between received tnx  \\\n",
            "0   0.0                    844.26                       1093.71   \n",
            "1   0.0                  12709.07                       2958.44   \n",
            "2   0.0                 246194.54                       2434.02   \n",
            "3   0.0                  10219.60                      15785.09   \n",
            "4   0.0                     36.61                      10707.77   \n",
            "\n",
            "   Time Diff between first and last (Mins)  Sent tnx  Received Tnx  \\\n",
            "0                                704785.63     721.0          89.0   \n",
            "1                               1218216.73      94.0           8.0   \n",
            "2                                516729.30       2.0          10.0   \n",
            "3                                397555.90      25.0           9.0   \n",
            "4                                382472.42    4598.0          20.0   \n",
            "\n",
            "   Number of Created Contracts  Unique Received From Addresses  \\\n",
            "0                          0.0                            40.0   \n",
            "1                          0.0                             5.0   \n",
            "2                          0.0                            10.0   \n",
            "3                          0.0                             7.0   \n",
            "4                          1.0                             7.0   \n",
            "\n",
            "   Unique Sent To Addresses  min value received  ...  ERC20 min val sent  \\\n",
            "0                     118.0            0.000000  ...            0.000000   \n",
            "1                      14.0            0.000000  ...            2.260809   \n",
            "2                       2.0            0.113119  ...            0.000000   \n",
            "3                      13.0            0.000000  ...          100.000000   \n",
            "4                      19.0            0.000000  ...            0.000000   \n",
            "\n",
            "   ERC20 max val sent  ERC20 avg val sent  ERC20 min val sent contract  \\\n",
            "0        1.683100e+07       271779.920000                          0.0   \n",
            "1        2.260809e+00            2.260809                          0.0   \n",
            "2        0.000000e+00            0.000000                          0.0   \n",
            "3        9.029231e+03         3804.076893                          0.0   \n",
            "4        4.500000e+04        13726.659220                          0.0   \n",
            "\n",
            "   ERC20 max val sent contract  ERC20 avg val sent contract  \\\n",
            "0                          0.0                          0.0   \n",
            "1                          0.0                          0.0   \n",
            "2                          0.0                          0.0   \n",
            "3                          0.0                          0.0   \n",
            "4                          0.0                          0.0   \n",
            "\n",
            "   ERC20 uniq sent token name  ERC20 uniq rec token name  \\\n",
            "0                        39.0                       57.0   \n",
            "1                         1.0                        7.0   \n",
            "2                         0.0                        8.0   \n",
            "3                         1.0                       11.0   \n",
            "4                         6.0                       27.0   \n",
            "\n",
            "   ERC20 most sent token type  ERC20_most_rec_token_type  \n",
            "0                          63                        300  \n",
            "1                         154                        257  \n",
            "2                         185                        436  \n",
            "3                         217                        436  \n",
            "4                         238                        154  \n",
            "\n",
            "[5 rows x 48 columns]\n"
          ]
        }
      ]
    },
    {
      "cell_type": "code",
      "source": [
        "dane_new_encoded.shape"
      ],
      "metadata": {
        "colab": {
          "base_uri": "https://localhost:8080/"
        },
        "id": "cZQO0T56izIj",
        "outputId": "99241113-1315-4c16-b325-0fd012f88c57"
      },
      "execution_count": 8,
      "outputs": [
        {
          "output_type": "execute_result",
          "data": {
            "text/plain": [
              "(9841, 48)"
            ]
          },
          "metadata": {},
          "execution_count": 8
        }
      ]
    },
    {
      "cell_type": "code",
      "source": [
        "scaler = MinMaxScaler()\n",
        "\n",
        "# logarytmowanie danych - aby zmniejszyć wpływ wartości odstających i poprawić stabilność modelu\n",
        "columns = dane_new.columns\n",
        "for c in columns:\n",
        "  dane_new_encoded[c] = dane_new_encoded[c].apply(lambda x: np.log(x) if x > 0 else 0)\n",
        "\n",
        "# normalizacja (skalowanie) - może poprawić działanie algorytmów, które wykorzystują miary odległości, np. k-nearest neighbors, SVM\n",
        "dane_new_encoded  = scaler.fit_transform(dane_new_encoded)\n"
      ],
      "metadata": {
        "id": "J9gcQriRZHBW"
      },
      "execution_count": 9,
      "outputs": []
    },
    {
      "cell_type": "code",
      "source": [
        "token_types = dane_new['ERC20 most sent token type'].astype(str)\n",
        "uniq_values, uniq_idx, counts = np.unique(token_types.to_numpy(), return_index=True, return_counts=True)\n",
        "non_unique_ERC20_idx = uniq_idx[counts > 1]\n",
        "print(\"liczba nieunikatowych wartości zmiennej 'ERC20 most sent token type': {}\".format(len(non_unique_ERC20_idx)), end='\\n\\n')\n"
      ],
      "metadata": {
        "colab": {
          "base_uri": "https://localhost:8080/"
        },
        "id": "l7AABxRPkJzh",
        "outputId": "c7b0f26e-272a-4842-b8e3-a0a94f605ee9"
      },
      "execution_count": 30,
      "outputs": [
        {
          "output_type": "stream",
          "name": "stdout",
          "text": [
            "liczba nieunikatowych wartości zmiennej 'ERC20 most sent token type': 125\n",
            "\n"
          ]
        }
      ]
    },
    {
      "cell_type": "code",
      "source": [
        "token_types = dane_new['ERC20_most_rec_token_type'].astype(str)\n",
        "uniq_values, uniq_idx, counts = np.unique(token_types.to_numpy(), return_index=True, return_counts=True)\n",
        "non_unique_ERC20_idx = uniq_idx[counts > 1]\n",
        "print(\"liczba nieunikatowych wartości zmiennej 'ERC20_most_rec_token_type': {}\".format(len(non_unique_ERC20_idx)), end='\\n\\n')\n"
      ],
      "metadata": {
        "colab": {
          "base_uri": "https://localhost:8080/"
        },
        "id": "pHknYxgzkSOw",
        "outputId": "58d1b6f3-e3db-48bb-eb7b-37f085300527"
      },
      "execution_count": 31,
      "outputs": [
        {
          "output_type": "stream",
          "name": "stdout",
          "text": [
            "liczba nieunikatowych wartości zmiennej 'ERC20_most_rec_token_type': 187\n",
            "\n"
          ]
        }
      ]
    },
    {
      "cell_type": "markdown",
      "source": [
        "Zmienne kategoryczne 'ERC20 most sent token type' oraz 'ERC20_most_rec_token_type' zawierają informacje o tokenach, które w większości przyjmują wartości unikatowe, w związku z czym można przyjąć założenie, że nie będą one wpływały na wykrywanie przestępstw, dlatego zostaną usunięte."
      ],
      "metadata": {
        "id": "Vo2Gio1okWIO"
      }
    },
    {
      "cell_type": "code",
      "source": [
        "dane_new.drop(columns=['ERC20 most sent token type', 'ERC20_most_rec_token_type'], inplace=True)"
      ],
      "metadata": {
        "id": "Yzb10coCkgiS"
      },
      "execution_count": 36,
      "outputs": []
    },
    {
      "cell_type": "code",
      "source": [
        "y_data=dane[[\"FLAG\"]]\n",
        "X_data=dane_new.iloc[:, 1:]"
      ],
      "metadata": {
        "id": "VWg34TKA84GJ"
      },
      "execution_count": 40,
      "outputs": []
    },
    {
      "cell_type": "code",
      "source": [
        "print(X_data.shape)"
      ],
      "metadata": {
        "colab": {
          "base_uri": "https://localhost:8080/"
        },
        "id": "ksAeYklxW5W_",
        "outputId": "4e87eef2-4e63-48c2-b63f-c41f92c44473"
      },
      "execution_count": 41,
      "outputs": [
        {
          "output_type": "stream",
          "name": "stdout",
          "text": [
            "(9841, 45)\n"
          ]
        }
      ]
    },
    {
      "cell_type": "code",
      "source": [
        "y_data.value_counts()/y_data.value_counts().sum()"
      ],
      "metadata": {
        "colab": {
          "base_uri": "https://localhost:8080/"
        },
        "id": "eCq-VeiI8Apf",
        "outputId": "d91b8c4f-3eca-4131-f109-182a4ffb4e5e"
      },
      "execution_count": 42,
      "outputs": [
        {
          "output_type": "execute_result",
          "data": {
            "text/plain": [
              "FLAG\n",
              "0       0.778579\n",
              "1       0.221421\n",
              "dtype: float64"
            ]
          },
          "metadata": {},
          "execution_count": 42
        }
      ]
    },
    {
      "cell_type": "code",
      "source": [
        "X_train, X_test, y_train, y_test = train_test_split(X_data, y_data, test_size=0.2, random_state=42)"
      ],
      "metadata": {
        "id": "2GdcCm-A8CdV"
      },
      "execution_count": 21,
      "outputs": []
    },
    {
      "cell_type": "code",
      "source": [
        "#Funkcja do wizualizacji macierzy pomyłek i oceny modelu\n",
        "def ConfusionMatrix (y_test, y_pred):\n",
        "    cm = confusion_matrix(y_test, y_pred)\n",
        "    class_names = ['Brak', 'Oszustwo']\n",
        "    plt.figure(figsize=(8, 6))\n",
        "    sns.set(font_scale=1.2)\n",
        "    sns.heatmap(cm, annot=True, fmt=\"d\", cmap=\"Blues\", xticklabels=class_names, yticklabels=class_names)\n",
        "    plt.xlabel('Przewidywane')\n",
        "    plt.ylabel('Rzeczysiste')\n",
        "    plt.show()\n",
        "\n",
        "    class_rep=classification_report(y_test, y_pred)\n",
        "    print(class_rep)"
      ],
      "metadata": {
        "id": "P-c3aHFEeRd5"
      },
      "execution_count": 23,
      "outputs": []
    },
    {
      "cell_type": "code",
      "source": [
        "#Funkcja do wizualizacji macierzy pomyłek i oceny modelu\n",
        "def ConfusionMatrix(y_test, y_pred):\n",
        "    cm = confusion_matrix(y_test, y_pred)\n",
        "    class_names = ['Brak', 'Oszustwo']\n",
        "    plt.figure(figsize=(6, 4))\n",
        "    sns.set(font_scale=0.8, style=\"whitegrid\", palette=\"pastel\")\n",
        "    sns.heatmap(cm, annot=True, fmt=\"d\", cmap=\"GnBu\", xticklabels=class_names, yticklabels=class_names)\n",
        "    plt.xlabel('Przewidywane')\n",
        "    plt.ylabel('Rzeczywiste')\n",
        "    plt.title('Macierz pomyłek')\n",
        "    plt.show()"
      ],
      "metadata": {
        "id": "MiYjYXbYfO6G"
      },
      "execution_count": 24,
      "outputs": []
    },
    {
      "cell_type": "code",
      "source": [
        "# Funkcja do wyświetlania macierzy pomyłek:\n",
        "def formatuj_macierz (y_test, y_pred):\n",
        "  class_rep = classification_report(y_test, y_pred)\n",
        "  class_names = ['Brak', 'Oszustwo']\n",
        "  print(\"Wynik klasyfikacji:\")\n",
        "  print(tabulate([[''] * (len(class_names) + 1)] + [[class_names[i]] + values.split()[-3:] for i, values in enumerate(class_rep.split('\\n')[2:-5])], headers=['Klasa', 'Precyzja', 'Czułość', 'F1-score'], tablefmt='grid'))"
      ],
      "metadata": {
        "id": "GStV7wgrG2-y"
      },
      "execution_count": 25,
      "outputs": []
    },
    {
      "cell_type": "markdown",
      "source": [
        "XGBoost"
      ],
      "metadata": {
        "id": "5l0bPVsIJg9G"
      }
    },
    {
      "cell_type": "code",
      "source": [
        "clf = xgb.XGBClassifier(tree_method=\"hist\", enable_categorical=True)\n",
        "\n",
        "clf.fit(X_train, y_train)\n",
        "y_pred = clf.predict(X_test)\n",
        "class_names = ['Brak', 'Oszustwo']\n",
        "ConfusionMatrix(y_test, y_pred)\n",
        "formatuj_macierz(y_test, y_pred)\n"
      ],
      "metadata": {
        "colab": {
          "base_uri": "https://localhost:8080/",
          "height": 585
        },
        "id": "hM06B5NK8VMN",
        "outputId": "ecd5a512-719e-4a16-b14f-59acc081b5a7"
      },
      "execution_count": 27,
      "outputs": [
        {
          "output_type": "display_data",
          "data": {
            "text/plain": [
              "<Figure size 600x400 with 2 Axes>"
            ],
            "image/png": "[encoded data removed]"
          },
          "metadata": {}
        },
        {
          "output_type": "stream",
          "name": "stdout",
          "text": [
            "Wynik klasyfikacji:\n",
            "+----------+------------+-----------+------------+\n",
            "| Klasa    | Precyzja   | Czułość   |   F1-score |\n",
            "+==========+============+===========+============+\n",
            "|          |            |           |            |\n",
            "+----------+------------+-----------+------------+\n",
            "| Brak     | 1.00       | 0.99      |       1542 |\n",
            "+----------+------------+-----------+------------+\n",
            "| Oszustwo | 0.96       | 0.98      |        427 |\n",
            "+----------+------------+-----------+------------+\n"
          ]
        }
      ]
    },
    {
      "cell_type": "code",
      "source": [
        "model=clf\n",
        "importance = model.feature_importances_\n",
        "\n",
        "feature_names = X_train.columns\n",
        "feature_importance_df = pd.DataFrame({'Feature': feature_names, 'Importance': importance})\n",
        "feature_importance_df = feature_importance_df.sort_values(by='Importance', ascending=False)\n",
        "\n",
        "plt.figure(figsize=(20, 6))\n",
        "plt.barh(feature_importance_df['Feature'][:20], feature_importance_df['Importance'][:20])\n",
        "plt.xlabel('Importance')\n",
        "plt.ylabel('Feature')\n",
        "plt.title('Feature Importance')\n",
        "plt.show()"
      ],
      "metadata": {
        "colab": {
          "base_uri": "https://localhost:8080/",
          "height": 275
        },
        "id": "VZ8wc_Vs8mx1",
        "outputId": "d343286f-0e30-4c54-8abc-7fc9beb2e4d3"
      },
      "execution_count": null,
      "outputs": [
        {
          "output_type": "display_data",
          "data": {
            "text/plain": [
              "<Figure size 2000x600 with 1 Axes>"
            ],
            "image/png": "[encoded data removed]"
          },
          "metadata": {}
        }
      ]
    },
    {
      "cell_type": "code",
      "source": [
        "# szukanie optymalnej konfiguracji hiperparametrów dla klasyfikatora XGBoost w celu uzyskania jak najlepszego wyniku na zbiorze testowym\n",
        "clf = XGBClassifier(\n",
        "    objective= 'binary:logistic',\n",
        "    seed=42\n",
        ")\n",
        "params = {\n",
        "    'max_depth': range (2, 10, 1),\n",
        "    'n_estimators': range(1000,1500,100),\n",
        "    'learning_rate': [0.1, 0.01, 0.05]\n",
        "}\n",
        "tuned_clf = GridSearchCV(estimator=clf,\n",
        "                         param_grid=params,\n",
        "                         scoring='f1',\n",
        "                         cv=5,\n",
        "                         verbose=2,\n",
        "                         )\n",
        "\n",
        "tuned_clf.fit(X_train,y_train)\n",
        "\n"
      ],
      "metadata": {
        "colab": {
          "base_uri": "https://localhost:8080/"
        },
        "id": "etgvSX7hVMew",
        "outputId": "9341ab93-c872-4ee1-d053-64ee3725bc89"
      },
      "execution_count": null,
      "outputs": [
        {
          "output_type": "stream",
          "name": "stdout",
          "text": [
            "Fitting 5 folds for each of 120 candidates, totalling 600 fits\n",
            "[CV] END ..learning_rate=0.1, max_depth=2, n_estimators=1000; total time=   5.3s\n",
            "[CV] END ..learning_rate=0.1, max_depth=2, n_estimators=1000; total time=   6.1s\n",
            "[CV] END ..learning_rate=0.1, max_depth=2, n_estimators=1000; total time=   4.5s\n",
            "[CV] END ..learning_rate=0.1, max_depth=2, n_estimators=1000; total time=   6.8s\n",
            "[CV] END ..learning_rate=0.1, max_depth=2, n_estimators=1000; total time=   5.4s\n",
            "[CV] END ..learning_rate=0.1, max_depth=2, n_estimators=1100; total time=   7.3s\n",
            "[CV] END ..learning_rate=0.1, max_depth=2, n_estimators=1100; total time=   6.1s\n",
            "[CV] END ..learning_rate=0.1, max_depth=2, n_estimators=1100; total time=   8.3s\n",
            "[CV] END ..learning_rate=0.1, max_depth=2, n_estimators=1100; total time=   4.7s\n",
            "[CV] END ..learning_rate=0.1, max_depth=2, n_estimators=1100; total time=  10.3s\n",
            "[CV] END ..learning_rate=0.1, max_depth=2, n_estimators=1200; total time=   7.8s\n",
            "[CV] END ..learning_rate=0.1, max_depth=2, n_estimators=1200; total time=   1.8s\n",
            "[CV] END ..learning_rate=0.1, max_depth=2, n_estimators=1200; total time=   1.8s\n",
            "[CV] END ..learning_rate=0.1, max_depth=2, n_estimators=1200; total time=   1.8s\n",
            "[CV] END ..learning_rate=0.1, max_depth=2, n_estimators=1200; total time=   1.8s\n",
            "[CV] END ..learning_rate=0.1, max_depth=2, n_estimators=1300; total time=   2.9s\n",
            "[CV] END ..learning_rate=0.1, max_depth=2, n_estimators=1300; total time=   3.8s\n",
            "[CV] END ..learning_rate=0.1, max_depth=2, n_estimators=1300; total time=   1.9s\n",
            "[CV] END ..learning_rate=0.1, max_depth=2, n_estimators=1300; total time=   1.9s\n",
            "[CV] END ..learning_rate=0.1, max_depth=2, n_estimators=1300; total time=   2.0s\n",
            "[CV] END ..learning_rate=0.1, max_depth=2, n_estimators=1400; total time=   2.1s\n",
            "[CV] END ..learning_rate=0.1, max_depth=2, n_estimators=1400; total time=   3.9s\n",
            "[CV] END ..learning_rate=0.1, max_depth=2, n_estimators=1400; total time=   2.0s\n",
            "[CV] END ..learning_rate=0.1, max_depth=2, n_estimators=1400; total time=   2.0s\n",
            "[CV] END ..learning_rate=0.1, max_depth=2, n_estimators=1400; total time=   2.1s\n",
            "[CV] END ..learning_rate=0.1, max_depth=3, n_estimators=1000; total time=   1.9s\n",
            "[CV] END ..learning_rate=0.1, max_depth=3, n_estimators=1000; total time=  10.4s\n",
            "[CV] END ..learning_rate=0.1, max_depth=3, n_estimators=1000; total time=  11.9s\n",
            "[CV] END ..learning_rate=0.1, max_depth=3, n_estimators=1000; total time=   1.9s\n",
            "[CV] END ..learning_rate=0.1, max_depth=3, n_estimators=1000; total time=   2.0s\n",
            "[CV] END ..learning_rate=0.1, max_depth=3, n_estimators=1100; total time=   3.8s\n",
            "[CV] END ..learning_rate=0.1, max_depth=3, n_estimators=1100; total time=   2.2s\n",
            "[CV] END ..learning_rate=0.1, max_depth=3, n_estimators=1100; total time=   2.1s\n",
            "[CV] END ..learning_rate=0.1, max_depth=3, n_estimators=1100; total time=   2.1s\n",
            "[CV] END ..learning_rate=0.1, max_depth=3, n_estimators=1100; total time=   2.1s\n",
            "[CV] END ..learning_rate=0.1, max_depth=3, n_estimators=1200; total time=   4.0s\n",
            "[CV] END ..learning_rate=0.1, max_depth=3, n_estimators=1200; total time=   2.4s\n",
            "[CV] END ..learning_rate=0.1, max_depth=3, n_estimators=1200; total time=   2.3s\n",
            "[CV] END ..learning_rate=0.1, max_depth=3, n_estimators=1200; total time=   2.3s\n",
            "[CV] END ..learning_rate=0.1, max_depth=3, n_estimators=1200; total time=   2.3s\n",
            "[CV] END ..learning_rate=0.1, max_depth=3, n_estimators=1300; total time=   4.1s\n",
            "[CV] END ..learning_rate=0.1, max_depth=3, n_estimators=1300; total time=   2.6s\n",
            "[CV] END ..learning_rate=0.1, max_depth=3, n_estimators=1300; total time=   2.6s\n",
            "[CV] END ..learning_rate=0.1, max_depth=3, n_estimators=1300; total time=   2.5s\n",
            "[CV] END ..learning_rate=0.1, max_depth=3, n_estimators=1300; total time=   4.3s\n",
            "[CV] END ..learning_rate=0.1, max_depth=3, n_estimators=1400; total time=   2.6s\n",
            "[CV] END ..learning_rate=0.1, max_depth=3, n_estimators=1400; total time=   3.7s\n",
            "[CV] END ..learning_rate=0.1, max_depth=3, n_estimators=1400; total time=   3.1s\n",
            "[CV] END ..learning_rate=0.1, max_depth=3, n_estimators=1400; total time=   3.9s\n",
            "[CV] END ..learning_rate=0.1, max_depth=3, n_estimators=1400; total time=   2.6s\n",
            "[CV] END ..learning_rate=0.1, max_depth=4, n_estimators=1000; total time=   2.2s\n",
            "[CV] END ..learning_rate=0.1, max_depth=4, n_estimators=1000; total time=   2.1s\n",
            "[CV] END ..learning_rate=0.1, max_depth=4, n_estimators=1000; total time=   4.2s\n",
            "[CV] END ..learning_rate=0.1, max_depth=4, n_estimators=1000; total time=   2.2s\n",
            "[CV] END ..learning_rate=0.1, max_depth=4, n_estimators=1000; total time=   2.2s\n",
            "[CV] END ..learning_rate=0.1, max_depth=4, n_estimators=1100; total time=   2.3s\n",
            "[CV] END ..learning_rate=0.1, max_depth=4, n_estimators=1100; total time=   2.5s\n",
            "[CV] END ..learning_rate=0.1, max_depth=4, n_estimators=1100; total time=   4.2s\n",
            "[CV] END ..learning_rate=0.1, max_depth=4, n_estimators=1100; total time=   2.4s\n",
            "[CV] END ..learning_rate=0.1, max_depth=4, n_estimators=1100; total time=   2.3s\n",
            "[CV] END ..learning_rate=0.1, max_depth=4, n_estimators=1200; total time=   3.5s\n",
            "[CV] END ..learning_rate=0.1, max_depth=4, n_estimators=1200; total time=   4.4s\n",
            "[CV] END ..learning_rate=0.1, max_depth=4, n_estimators=1200; total time=   2.6s\n",
            "[CV] END ..learning_rate=0.1, max_depth=4, n_estimators=1200; total time=   2.5s\n",
            "[CV] END ..learning_rate=0.1, max_depth=4, n_estimators=1200; total time=   2.6s\n",
            "[CV] END ..learning_rate=0.1, max_depth=4, n_estimators=1300; total time=   4.5s\n",
            "[CV] END ..learning_rate=0.1, max_depth=4, n_estimators=1300; total time=   2.7s\n",
            "[CV] END ..learning_rate=0.1, max_depth=4, n_estimators=1300; total time=   2.7s\n",
            "[CV] END ..learning_rate=0.1, max_depth=4, n_estimators=1300; total time=   2.7s\n",
            "[CV] END ..learning_rate=0.1, max_depth=4, n_estimators=1300; total time=   4.5s\n",
            "[CV] END ..learning_rate=0.1, max_depth=4, n_estimators=1400; total time=   2.8s\n",
            "[CV] END ..learning_rate=0.1, max_depth=4, n_estimators=1400; total time=   2.9s\n",
            "[CV] END ..learning_rate=0.1, max_depth=4, n_estimators=1400; total time=   4.1s\n",
            "[CV] END ..learning_rate=0.1, max_depth=4, n_estimators=1400; total time=   3.5s\n",
            "[CV] END ..learning_rate=0.1, max_depth=4, n_estimators=1400; total time=   3.0s\n",
            "[CV] END ..learning_rate=0.1, max_depth=5, n_estimators=1000; total time=   2.3s\n",
            "[CV] END ..learning_rate=0.1, max_depth=5, n_estimators=1000; total time=   2.4s\n",
            "[CV] END ..learning_rate=0.1, max_depth=5, n_estimators=1000; total time=   3.8s\n",
            "[CV] END ..learning_rate=0.1, max_depth=5, n_estimators=1000; total time=   2.3s\n",
            "[CV] END ..learning_rate=0.1, max_depth=5, n_estimators=1000; total time=   2.3s\n",
            "[CV] END ..learning_rate=0.1, max_depth=5, n_estimators=1100; total time=   2.5s\n",
            "[CV] END ..learning_rate=0.1, max_depth=5, n_estimators=1100; total time=   5.0s\n",
            "[CV] END ..learning_rate=0.1, max_depth=5, n_estimators=1100; total time=   2.4s\n",
            "[CV] END ..learning_rate=0.1, max_depth=5, n_estimators=1100; total time=   2.5s\n",
            "[CV] END ..learning_rate=0.1, max_depth=5, n_estimators=1100; total time=   3.1s\n",
            "[CV] END ..learning_rate=0.1, max_depth=5, n_estimators=1200; total time=   4.4s\n",
            "[CV] END ..learning_rate=0.1, max_depth=5, n_estimators=1200; total time=   2.5s\n",
            "[CV] END ..learning_rate=0.1, max_depth=5, n_estimators=1200; total time=   2.6s\n",
            "[CV] END ..learning_rate=0.1, max_depth=5, n_estimators=1200; total time=   2.6s\n",
            "[CV] END ..learning_rate=0.1, max_depth=5, n_estimators=1200; total time=   4.6s\n",
            "[CV] END ..learning_rate=0.1, max_depth=5, n_estimators=1300; total time=   2.7s\n",
            "[CV] END ..learning_rate=0.1, max_depth=5, n_estimators=1300; total time=   2.8s\n",
            "[CV] END ..learning_rate=0.1, max_depth=5, n_estimators=1300; total time=   2.9s\n",
            "[CV] END ..learning_rate=0.1, max_depth=5, n_estimators=1300; total time=   4.4s\n",
            "[CV] END ..learning_rate=0.1, max_depth=5, n_estimators=1300; total time=   2.8s\n",
            "[CV] END ..learning_rate=0.1, max_depth=5, n_estimators=1400; total time=   2.8s\n",
            "[CV] END ..learning_rate=0.1, max_depth=5, n_estimators=1400; total time=   2.8s\n",
            "[CV] END ..learning_rate=0.1, max_depth=5, n_estimators=1400; total time=   4.8s\n",
            "[CV] END ..learning_rate=0.1, max_depth=5, n_estimators=1400; total time=   2.9s\n",
            "[CV] END ..learning_rate=0.1, max_depth=5, n_estimators=1400; total time=   3.0s\n",
            "[CV] END ..learning_rate=0.1, max_depth=6, n_estimators=1000; total time=   4.0s\n",
            "[CV] END ..learning_rate=0.1, max_depth=6, n_estimators=1000; total time=   2.5s\n",
            "[CV] END ..learning_rate=0.1, max_depth=6, n_estimators=1000; total time=   2.4s\n",
            "[CV] END ..learning_rate=0.1, max_depth=6, n_estimators=1000; total time=   2.4s\n",
            "[CV] END ..learning_rate=0.1, max_depth=6, n_estimators=1000; total time=   2.5s\n",
            "[CV] END ..learning_rate=0.1, max_depth=6, n_estimators=1100; total time=   4.3s\n",
            "[CV] END ..learning_rate=0.1, max_depth=6, n_estimators=1100; total time=   2.5s\n",
            "[CV] END ..learning_rate=0.1, max_depth=6, n_estimators=1100; total time=   2.5s\n",
            "[CV] END ..learning_rate=0.1, max_depth=6, n_estimators=1100; total time=   2.5s\n",
            "[CV] END ..learning_rate=0.1, max_depth=6, n_estimators=1100; total time=   4.3s\n",
            "[CV] END ..learning_rate=0.1, max_depth=6, n_estimators=1200; total time=   2.7s\n",
            "[CV] END ..learning_rate=0.1, max_depth=6, n_estimators=1200; total time=   2.5s\n",
            "[CV] END ..learning_rate=0.1, max_depth=6, n_estimators=1200; total time=   2.7s\n",
            "[CV] END ..learning_rate=0.1, max_depth=6, n_estimators=1200; total time=   4.5s\n",
            "[CV] END ..learning_rate=0.1, max_depth=6, n_estimators=1200; total time=   2.8s\n",
            "[CV] END ..learning_rate=0.1, max_depth=6, n_estimators=1300; total time=   2.9s\n",
            "[CV] END ..learning_rate=0.1, max_depth=6, n_estimators=1300; total time=   3.0s\n",
            "[CV] END ..learning_rate=0.1, max_depth=6, n_estimators=1300; total time=   4.6s\n",
            "[CV] END ..learning_rate=0.1, max_depth=6, n_estimators=1300; total time=   2.8s\n",
            "[CV] END ..learning_rate=0.1, max_depth=6, n_estimators=1300; total time=   3.0s\n",
            "[CV] END ..learning_rate=0.1, max_depth=6, n_estimators=1400; total time=   3.5s\n",
            "[CV] END ..learning_rate=0.1, max_depth=6, n_estimators=1400; total time=   4.2s\n",
            "[CV] END ..learning_rate=0.1, max_depth=6, n_estimators=1400; total time=   2.9s\n",
            "[CV] END ..learning_rate=0.1, max_depth=6, n_estimators=1400; total time=   3.1s\n",
            "[CV] END ..learning_rate=0.1, max_depth=6, n_estimators=1400; total time=   4.9s\n",
            "[CV] END ..learning_rate=0.1, max_depth=7, n_estimators=1000; total time=   2.3s\n",
            "[CV] END ..learning_rate=0.1, max_depth=7, n_estimators=1000; total time=   2.3s\n",
            "[CV] END ..learning_rate=0.1, max_depth=7, n_estimators=1000; total time=   2.4s\n",
            "[CV] END ..learning_rate=0.1, max_depth=7, n_estimators=1000; total time=   2.4s\n",
            "[CV] END ..learning_rate=0.1, max_depth=7, n_estimators=1000; total time=   4.0s\n",
            "[CV] END ..learning_rate=0.1, max_depth=7, n_estimators=1100; total time=   2.5s\n",
            "[CV] END ..learning_rate=0.1, max_depth=7, n_estimators=1100; total time=   2.4s\n",
            "[CV] END ..learning_rate=0.1, max_depth=7, n_estimators=1100; total time=   2.6s\n",
            "[CV] END ..learning_rate=0.1, max_depth=7, n_estimators=1100; total time=   8.2s\n",
            "[CV] END ..learning_rate=0.1, max_depth=7, n_estimators=1100; total time=  16.0s\n",
            "[CV] END ..learning_rate=0.1, max_depth=7, n_estimators=1200; total time=   7.8s\n",
            "[CV] END ..learning_rate=0.1, max_depth=7, n_estimators=1200; total time=   2.6s\n",
            "[CV] END ..learning_rate=0.1, max_depth=7, n_estimators=1200; total time=   2.6s\n",
            "[CV] END ..learning_rate=0.1, max_depth=7, n_estimators=1200; total time=   4.6s\n",
            "[CV] END ..learning_rate=0.1, max_depth=7, n_estimators=1200; total time=   2.7s\n",
            "[CV] END ..learning_rate=0.1, max_depth=7, n_estimators=1300; total time=   2.9s\n",
            "[CV] END ..learning_rate=0.1, max_depth=7, n_estimators=1300; total time=   2.8s\n",
            "[CV] END ..learning_rate=0.1, max_depth=7, n_estimators=1300; total time=   4.7s\n",
            "[CV] END ..learning_rate=0.1, max_depth=7, n_estimators=1300; total time=   2.8s\n",
            "[CV] END ..learning_rate=0.1, max_depth=7, n_estimators=1300; total time=   2.8s\n",
            "[CV] END ..learning_rate=0.1, max_depth=7, n_estimators=1400; total time=   3.8s\n",
            "[CV] END ..learning_rate=0.1, max_depth=7, n_estimators=1400; total time=   3.9s\n",
            "[CV] END ..learning_rate=0.1, max_depth=7, n_estimators=1400; total time=   3.1s\n",
            "[CV] END ..learning_rate=0.1, max_depth=7, n_estimators=1400; total time=   3.0s\n",
            "[CV] END ..learning_rate=0.1, max_depth=7, n_estimators=1400; total time=   4.8s\n",
            "[CV] END ..learning_rate=0.1, max_depth=8, n_estimators=1000; total time=   2.4s\n",
            "[CV] END ..learning_rate=0.1, max_depth=8, n_estimators=1000; total time=   2.4s\n",
            "[CV] END ..learning_rate=0.1, max_depth=8, n_estimators=1000; total time=   2.4s\n",
            "[CV] END ..learning_rate=0.1, max_depth=8, n_estimators=1000; total time=   4.2s\n",
            "[CV] END ..learning_rate=0.1, max_depth=8, n_estimators=1000; total time=   2.5s\n",
            "[CV] END ..learning_rate=0.1, max_depth=8, n_estimators=1100; total time=   2.7s\n",
            "[CV] END ..learning_rate=0.1, max_depth=8, n_estimators=1100; total time=   2.6s\n",
            "[CV] END ..learning_rate=0.1, max_depth=8, n_estimators=1100; total time=   4.2s\n",
            "[CV] END ..learning_rate=0.1, max_depth=8, n_estimators=1100; total time=   2.7s\n",
            "[CV] END ..learning_rate=0.1, max_depth=8, n_estimators=1100; total time=   2.6s\n",
            "[CV] END ..learning_rate=0.1, max_depth=8, n_estimators=1200; total time=   2.7s\n",
            "[CV] END ..learning_rate=0.1, max_depth=8, n_estimators=1200; total time=   4.0s\n",
            "[CV] END ..learning_rate=0.1, max_depth=8, n_estimators=1200; total time=   3.0s\n",
            "[CV] END ..learning_rate=0.1, max_depth=8, n_estimators=1200; total time=   2.7s\n",
            "[CV] END ..learning_rate=0.1, max_depth=8, n_estimators=1200; total time=   2.8s\n",
            "[CV] END ..learning_rate=0.1, max_depth=8, n_estimators=1300; total time=   4.7s\n",
            "[CV] END ..learning_rate=0.1, max_depth=8, n_estimators=1300; total time=   2.9s\n",
            "[CV] END ..learning_rate=0.1, max_depth=8, n_estimators=1300; total time=   2.9s\n",
            "[CV] END ..learning_rate=0.1, max_depth=8, n_estimators=1300; total time=   2.8s\n",
            "[CV] END ..learning_rate=0.1, max_depth=8, n_estimators=1300; total time=   4.7s\n",
            "[CV] END ..learning_rate=0.1, max_depth=8, n_estimators=1400; total time=   3.0s\n",
            "[CV] END ..learning_rate=0.1, max_depth=8, n_estimators=1400; total time=   2.8s\n",
            "[CV] END ..learning_rate=0.1, max_depth=8, n_estimators=1400; total time=   3.8s\n",
            "[CV] END ..learning_rate=0.1, max_depth=8, n_estimators=1400; total time=   3.9s\n",
            "[CV] END ..learning_rate=0.1, max_depth=8, n_estimators=1400; total time=   3.1s\n",
            "[CV] END ..learning_rate=0.1, max_depth=9, n_estimators=1000; total time=   2.5s\n",
            "[CV] END ..learning_rate=0.1, max_depth=9, n_estimators=1000; total time=   3.2s\n",
            "[CV] END ..learning_rate=0.1, max_depth=9, n_estimators=1000; total time=   3.2s\n",
            "[CV] END ..learning_rate=0.1, max_depth=9, n_estimators=1000; total time=   2.4s\n",
            "[CV] END ..learning_rate=0.1, max_depth=9, n_estimators=1000; total time=   2.5s\n",
            "[CV] END ..learning_rate=0.1, max_depth=9, n_estimators=1100; total time=   2.6s\n",
            "[CV] END ..learning_rate=0.1, max_depth=9, n_estimators=1100; total time=   4.3s\n",
            "[CV] END ..learning_rate=0.1, max_depth=9, n_estimators=1100; total time=   2.6s\n",
            "[CV] END ..learning_rate=0.1, max_depth=9, n_estimators=1100; total time=   2.8s\n",
            "[CV] END ..learning_rate=0.1, max_depth=9, n_estimators=1100; total time=   2.6s\n",
            "[CV] END ..learning_rate=0.1, max_depth=9, n_estimators=1200; total time=   4.9s\n",
            "[CV] END ..learning_rate=0.1, max_depth=9, n_estimators=1200; total time=   2.8s\n",
            "[CV] END ..learning_rate=0.1, max_depth=9, n_estimators=1200; total time=   2.8s\n",
            "[CV] END ..learning_rate=0.1, max_depth=9, n_estimators=1200; total time=   2.8s\n",
            "[CV] END ..learning_rate=0.1, max_depth=9, n_estimators=1200; total time=   4.5s\n",
            "[CV] END ..learning_rate=0.1, max_depth=9, n_estimators=1300; total time=   2.9s\n",
            "[CV] END ..learning_rate=0.1, max_depth=9, n_estimators=1300; total time=   2.8s\n",
            "[CV] END ..learning_rate=0.1, max_depth=9, n_estimators=1300; total time=   4.5s\n",
            "[CV] END ..learning_rate=0.1, max_depth=9, n_estimators=1300; total time=   3.0s\n",
            "[CV] END ..learning_rate=0.1, max_depth=9, n_estimators=1300; total time=   3.1s\n",
            "[CV] END ..learning_rate=0.1, max_depth=9, n_estimators=1400; total time=   3.0s\n",
            "[CV] END ..learning_rate=0.1, max_depth=9, n_estimators=1400; total time=   4.6s\n",
            "[CV] END ..learning_rate=0.1, max_depth=9, n_estimators=1400; total time=   3.0s\n",
            "[CV] END ..learning_rate=0.1, max_depth=9, n_estimators=1400; total time=   3.1s\n",
            "[CV] END ..learning_rate=0.1, max_depth=9, n_estimators=1400; total time=   4.4s\n",
            "[CV] END .learning_rate=0.01, max_depth=2, n_estimators=1000; total time=   1.7s\n",
            "[CV] END .learning_rate=0.01, max_depth=2, n_estimators=1000; total time=   1.6s\n",
            "[CV] END .learning_rate=0.01, max_depth=2, n_estimators=1000; total time=   1.5s\n",
            "[CV] END .learning_rate=0.01, max_depth=2, n_estimators=1000; total time=   1.5s\n",
            "[CV] END .learning_rate=0.01, max_depth=2, n_estimators=1000; total time=   1.5s\n",
            "[CV] END .learning_rate=0.01, max_depth=2, n_estimators=1100; total time=   1.7s\n",
            "[CV] END .learning_rate=0.01, max_depth=2, n_estimators=1100; total time=   3.4s\n",
            "[CV] END .learning_rate=0.01, max_depth=2, n_estimators=1100; total time=   1.6s\n",
            "[CV] END .learning_rate=0.01, max_depth=2, n_estimators=1100; total time=   1.6s\n",
            "[CV] END .learning_rate=0.01, max_depth=2, n_estimators=1100; total time=   1.6s\n",
            "[CV] END .learning_rate=0.01, max_depth=2, n_estimators=1200; total time=   1.9s\n",
            "[CV] END .learning_rate=0.01, max_depth=2, n_estimators=1200; total time=   1.9s\n",
            "[CV] END .learning_rate=0.01, max_depth=2, n_estimators=1200; total time=   3.8s\n",
            "[CV] END .learning_rate=0.01, max_depth=2, n_estimators=1200; total time=   1.8s\n",
            "[CV] END .learning_rate=0.01, max_depth=2, n_estimators=1200; total time=   1.7s\n",
            "[CV] END .learning_rate=0.01, max_depth=2, n_estimators=1300; total time=   1.9s\n",
            "[CV] END .learning_rate=0.01, max_depth=2, n_estimators=1300; total time=   1.9s\n",
            "[CV] END .learning_rate=0.01, max_depth=2, n_estimators=1300; total time=   2.0s\n",
            "[CV] END .learning_rate=0.01, max_depth=2, n_estimators=1300; total time=   3.6s\n",
            "[CV] END .learning_rate=0.01, max_depth=2, n_estimators=1300; total time=   2.0s\n",
            "[CV] END .learning_rate=0.01, max_depth=2, n_estimators=1400; total time=   2.0s\n",
            "[CV] END .learning_rate=0.01, max_depth=2, n_estimators=1400; total time=   2.1s\n",
            "[CV] END .learning_rate=0.01, max_depth=2, n_estimators=1400; total time=   2.0s\n",
            "[CV] END .learning_rate=0.01, max_depth=2, n_estimators=1400; total time=   3.9s\n",
            "[CV] END .learning_rate=0.01, max_depth=2, n_estimators=1400; total time=   2.0s\n",
            "[CV] END .learning_rate=0.01, max_depth=3, n_estimators=1000; total time=   2.1s\n",
            "[CV] END .learning_rate=0.01, max_depth=3, n_estimators=1000; total time=   2.2s\n",
            "[CV] END .learning_rate=0.01, max_depth=3, n_estimators=1000; total time=   2.1s\n"
          ]
        }
      ]
    },
    {
      "cell_type": "code",
      "source": [
        "print(\"Tuned Hyperparameters :\", tuned_clf.best_params_)\n",
        "print(\"Train F1 Score :\",tuned_clf.best_score_)\n",
        "best_y_pr = tuned_clf.predict(X_test)\n",
        "print('Test F1 Score: ', f1_score(y_test, best_y_pr))"
      ],
      "metadata": {
        "id": "yNenHdmyWZeI"
      },
      "execution_count": null,
      "outputs": []
    },
    {
      "cell_type": "code",
      "source": [
        "tuned_clf.best_estimator_"
      ],
      "metadata": {
        "id": "YKDruS5SXsfO"
      },
      "execution_count": null,
      "outputs": []
    },
    {
      "cell_type": "code",
      "source": [
        "tuned_clf.best_score_"
      ],
      "metadata": {
        "id": "he9hh6_vXtK5"
      },
      "execution_count": null,
      "outputs": []
    },
    {
      "cell_type": "code",
      "source": [
        "import warnings\n",
        "warnings.filterwarnings(\"ignore\", category=Warning)"
      ],
      "metadata": {
        "id": "_jIP3igdliOZ"
      },
      "execution_count": null,
      "outputs": []
    },
    {
      "cell_type": "code",
      "source": [
        "#szacowanie test error rate za pomocą k-fold cross_validation:\n",
        "\n",
        "classifier = LogisticRegression()\n",
        "k_fold = StratifiedKFold(n_splits=5, shuffle=True, random_state=42)\n",
        "\n",
        "cv_results = cross_val_score(classifier, X_data, y_data, cv=k_fold, scoring='accuracy')\n",
        "\n",
        "print(\"Cross-validation results:\", cv_results)\n",
        "print(\"Mean accuracy:\", cv_results.mean())"
      ],
      "metadata": {
        "id": "t01cPMmMiuif",
        "colab": {
          "base_uri": "https://localhost:8080/"
        },
        "outputId": "1ae02fec-a6d2-446a-8022-3b8b482c28a6"
      },
      "execution_count": null,
      "outputs": [
        {
          "output_type": "stream",
          "name": "stdout",
          "text": [
            "Cross-validation results: [0.80650076 0.79878049 0.8023374  0.80182927 0.80284553]\n",
            "Mean accuracy: 0.8024586889469708\n"
          ]
        }
      ]
    },
    {
      "cell_type": "markdown",
      "source": [
        " Regresja logistyczna:"
      ],
      "metadata": {
        "id": "XrOh21R5itmn"
      }
    },
    {
      "cell_type": "code",
      "source": [
        "# Inicjalizacja modelu regresji logistycznej\n",
        "model2 = LogisticRegression()\n",
        "\n",
        "# Dopasowanie modelu do danych treningowych\n",
        "model2.fit(X_train, y_train)\n",
        "\n",
        "# Przewidywanie na zbiorze testowym\n",
        "y_pred = model2.predict(X_test)\n",
        "class_names=['Brak', 'Oszustwo']\n",
        "\n",
        "# Ocena wyników klasyfikacji\n",
        "print(\"Macierz pomyłek:\")\n",
        "cm = confusion_matrix(y_test, y_pred)\n",
        "plt.figure(figsize=(6, 4))\n",
        "sns.heatmap(cm, annot=True, cmap=\"GnBu\", fmt='g', cbar=False)\n",
        "plt.xlabel('Przewidywane')\n",
        "plt.ylabel('Rzeczywiste')\n",
        "plt.title('Macierz pomyłek')\n",
        "plt.show()\n",
        "formatuj_macierz(y_test, y_pred, class_names)"
      ],
      "metadata": {
        "colab": {
          "base_uri": "https://localhost:8080/",
          "height": 603
        },
        "id": "4IShEpI4ieMl",
        "outputId": "89fbbfbb-adde-4885-95b4-328c47520dda"
      },
      "execution_count": null,
      "outputs": [
        {
          "output_type": "stream",
          "name": "stdout",
          "text": [
            "Macierz pomyłek:\n"
          ]
        },
        {
          "output_type": "display_data",
          "data": {
            "text/plain": [
              "<Figure size 600x400 with 1 Axes>"
            ],
            "image/png": "[encoded data removed]"
          },
          "metadata": {}
        },
        {
          "output_type": "stream",
          "name": "stdout",
          "text": [
            "Wynik klasyfikacji:\n",
            "+----------+------------+-----------+------------+\n",
            "| Klasa    | Precyzja   | Czułość   |   F1-score |\n",
            "+==========+============+===========+============+\n",
            "|          |            |           |            |\n",
            "+----------+------------+-----------+------------+\n",
            "| Brak     | 0.99       | 0.89      |       1542 |\n",
            "+----------+------------+-----------+------------+\n",
            "| Oszustwo | 0.13       | 0.23      |        427 |\n",
            "+----------+------------+-----------+------------+\n"
          ]
        }
      ]
    },
    {
      "cell_type": "code",
      "source": [
        "from sklearn.tree import DecisionTreeClassifier\n",
        "from sklearn.metrics import accuracy_score\n",
        "\n",
        "# Podział danych na zbiór treningowy i testowy\n",
        "X_train, X_test, y_train, y_test = train_test_split(X_data, y_data, test_size=0.2, random_state=42)\n",
        "\n",
        "# Inicjalizacja modelu drzewa decyzyjnego\n",
        "model = DecisionTreeClassifier(random_state=42)\n",
        "\n",
        "# Dopasowanie modelu do danych treningowych\n",
        "model.fit(X_train, y_train)\n",
        "\n",
        "# Przewidywanie na danych testowych\n",
        "y_pred = model.predict(X_test)\n",
        "\n",
        "# Ocena dokładności modelu\n",
        "accuracy = accuracy_score(y_test, y_pred)\n",
        "print(\"Dokładność modelu drzewa decyzyjnego:\", accuracy)\n"
      ],
      "metadata": {
        "colab": {
          "base_uri": "https://localhost:8080/"
        },
        "id": "381_zsLmM949",
        "outputId": "86d90af0-35e0-4f8e-df11-1078cf5d39a7"
      },
      "execution_count": null,
      "outputs": [
        {
          "output_type": "stream",
          "name": "stdout",
          "text": [
            "Dokładność modelu drzewa decyzyjnego: 0.8908075165058406\n"
          ]
        }
      ]
    },
    {
      "cell_type": "code",
      "source": [
        "# Macierz pomyłek dla drzewa decyzyjnego:\n",
        "print(\"Macierz pomyłek:\")\n",
        "formatuj_macierz(y_test, y_pred)"
      ],
      "metadata": {
        "colab": {
          "base_uri": "https://localhost:8080/"
        },
        "id": "mqoHqPIlmW8x",
        "outputId": "5eae8830-848f-4ad1-a5a2-e0b97c364c3c"
      },
      "execution_count": null,
      "outputs": [
        {
          "output_type": "stream",
          "name": "stdout",
          "text": [
            "Macierz pomyłek:\n",
            "Wynik klasyfikacji:\n",
            "+----------+------------+-----------+------------+\n",
            "| Klasa    | Precyzja   | Czułość   |   F1-score |\n",
            "+==========+============+===========+============+\n",
            "|          |            |           |            |\n",
            "+----------+------------+-----------+------------+\n",
            "| Brak     | 0.99       | 0.93      |       1542 |\n",
            "+----------+------------+-----------+------------+\n",
            "| Oszustwo | 0.55       | 0.69      |        427 |\n",
            "+----------+------------+-----------+------------+\n"
          ]
        }
      ]
    },
    {
      "cell_type": "code",
      "source": [
        "from sklearn.tree import export_graphviz\n",
        "import graphviz\n",
        "\n",
        "# Eksport drzewa decyzyjnego do pliku dot\n",
        "dot_data = export_graphviz(model, out_file=None,\n",
        "                           feature_names=X_data_encoded.columns,\n",
        "                           class_names=['0', '1'],\n",
        "                           filled=True, rounded=True,\n",
        "                           special_characters=True)\n",
        "\n",
        "# Konwersja danych dot do obiektu grafu\n",
        "graph = graphviz.Source(dot_data)\n",
        "\n",
        "# Wyświetlenie grafu\n",
        "graph.render(\"decision_tree\")  # Zapis do pliku PNG\n",
        "graph.view()  # Wyświetlenie grafu\n"
      ],
      "metadata": {
        "colab": {
          "base_uri": "https://localhost:8080/",
          "height": 35
        },
        "id": "XOMVdLQCNpKG",
        "outputId": "7d907dc6-b24d-45c9-b7d4-d709a6514b77"
      },
      "execution_count": null,
      "outputs": [
        {
          "output_type": "execute_result",
          "data": {
            "text/plain": [
              "'decision_tree.pdf'"
            ],
            "application/vnd.google.colaboratory.intrinsic+json": {
              "type": "string"
            }
          },
          "metadata": {},
          "execution_count": 29
        }
      ]
    }
  ]
}