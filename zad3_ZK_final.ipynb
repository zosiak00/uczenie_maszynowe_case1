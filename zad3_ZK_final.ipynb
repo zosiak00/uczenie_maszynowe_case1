{
  "nbformat": 4,
  "nbformat_minor": 0,
  "metadata": {
    "colab": {
      "provenance": [],
      "include_colab_link": true
    },
    "kernelspec": {
      "name": "python3",
      "display_name": "Python 3"
    },
    "language_info": {
      "name": "python"
    }
  },
  "cells": [
    {
      "cell_type": "markdown",
      "metadata": {
        "id": "view-in-github",
        "colab_type": "text"
      },
      "source": [
        "<a href=\"https://colab.research.google.com/github/zosiak00/uczenie_maszynowe_ZK/blob/case3/zad3_ZK_final.ipynb\" target=\"_parent\"><img src=\"https://colab.research.google.com/assets/colab-badge.svg\" alt=\"Open In Colab\"/></a>"
      ]
    },
    {
      "cell_type": "markdown",
      "source": [
        "W poprzednich wersjach pliku w statystykach pojawiąły się wartości null, dlatego zrobiłam notatnik jeszcze raz, z trochę innym podejściem\n",
        "\n",
        "Dodatkowo w Githubie widzę, że nie wygenerował się wykres, który w Colabie się generujem więc wrzucam link: https://colab.research.google.com/drive/1V_MRbi3zDSmNq9OoYsw1d1IuLRgefyyO?usp=sharing"
      ],
      "metadata": {
        "id": "MalT2x2kHJzM"
      }
    },
    {
      "cell_type": "code",
      "source": [
        "!pip3 install ta\n",
        "!pip3 install backtesting"
      ],
      "metadata": {
        "colab": {
          "base_uri": "https://localhost:8080/"
        },
        "id": "X-ViXQncRhsN",
        "outputId": "e90409b3-3ef1-48bb-d7d4-4b5343192af7",
        "collapsed": true
      },
      "execution_count": 2,
      "outputs": [
        {
          "output_type": "stream",
          "name": "stdout",
          "text": [
            "Requirement already satisfied: ta in /usr/local/lib/python3.10/dist-packages (0.11.0)\n",
            "Requirement already satisfied: numpy in /usr/local/lib/python3.10/dist-packages (from ta) (1.25.2)\n",
            "Requirement already satisfied: pandas in /usr/local/lib/python3.10/dist-packages (from ta) (2.0.3)\n",
            "Requirement already satisfied: python-dateutil>=2.8.2 in /usr/local/lib/python3.10/dist-packages (from pandas->ta) (2.8.2)\n",
            "Requirement already satisfied: pytz>=2020.1 in /usr/local/lib/python3.10/dist-packages (from pandas->ta) (2023.4)\n",
            "Requirement already satisfied: tzdata>=2022.1 in /usr/local/lib/python3.10/dist-packages (from pandas->ta) (2024.1)\n",
            "Requirement already satisfied: six>=1.5 in /usr/local/lib/python3.10/dist-packages (from python-dateutil>=2.8.2->pandas->ta) (1.16.0)\n",
            "Collecting backtesting\n",
            "  Using cached Backtesting-0.3.3-py3-none-any.whl\n",
            "Requirement already satisfied: numpy>=1.17.0 in /usr/local/lib/python3.10/dist-packages (from backtesting) (1.25.2)\n",
            "Requirement already satisfied: pandas!=0.25.0,>=0.25.0 in /usr/local/lib/python3.10/dist-packages (from backtesting) (2.0.3)\n",
            "Requirement already satisfied: bokeh>=1.4.0 in /usr/local/lib/python3.10/dist-packages (from backtesting) (3.3.4)\n",
            "Requirement already satisfied: Jinja2>=2.9 in /usr/local/lib/python3.10/dist-packages (from bokeh>=1.4.0->backtesting) (3.1.4)\n",
            "Requirement already satisfied: contourpy>=1 in /usr/local/lib/python3.10/dist-packages (from bokeh>=1.4.0->backtesting) (1.2.1)\n",
            "Requirement already satisfied: packaging>=16.8 in /usr/local/lib/python3.10/dist-packages (from bokeh>=1.4.0->backtesting) (24.1)\n",
            "Requirement already satisfied: pillow>=7.1.0 in /usr/local/lib/python3.10/dist-packages (from bokeh>=1.4.0->backtesting) (9.4.0)\n",
            "Requirement already satisfied: PyYAML>=3.10 in /usr/local/lib/python3.10/dist-packages (from bokeh>=1.4.0->backtesting) (6.0.1)\n",
            "Requirement already satisfied: tornado>=5.1 in /usr/local/lib/python3.10/dist-packages (from bokeh>=1.4.0->backtesting) (6.3.3)\n",
            "Requirement already satisfied: xyzservices>=2021.09.1 in /usr/local/lib/python3.10/dist-packages (from bokeh>=1.4.0->backtesting) (2024.6.0)\n",
            "Requirement already satisfied: python-dateutil>=2.8.2 in /usr/local/lib/python3.10/dist-packages (from pandas!=0.25.0,>=0.25.0->backtesting) (2.8.2)\n",
            "Requirement already satisfied: pytz>=2020.1 in /usr/local/lib/python3.10/dist-packages (from pandas!=0.25.0,>=0.25.0->backtesting) (2023.4)\n",
            "Requirement already satisfied: tzdata>=2022.1 in /usr/local/lib/python3.10/dist-packages (from pandas!=0.25.0,>=0.25.0->backtesting) (2024.1)\n",
            "Requirement already satisfied: MarkupSafe>=2.0 in /usr/local/lib/python3.10/dist-packages (from Jinja2>=2.9->bokeh>=1.4.0->backtesting) (2.1.5)\n",
            "Requirement already satisfied: six>=1.5 in /usr/local/lib/python3.10/dist-packages (from python-dateutil>=2.8.2->pandas!=0.25.0,>=0.25.0->backtesting) (1.16.0)\n",
            "Installing collected packages: backtesting\n",
            "Successfully installed backtesting-0.3.3\n"
          ]
        }
      ]
    },
    {
      "cell_type": "code",
      "source": [
        "pip install backtrader"
      ],
      "metadata": {
        "colab": {
          "base_uri": "https://localhost:8080/"
        },
        "collapsed": true,
        "id": "7kABFqatGdr8",
        "outputId": "349b74f2-226a-45a5-a43d-fcb0a8ec1c58"
      },
      "execution_count": 43,
      "outputs": [
        {
          "output_type": "stream",
          "name": "stdout",
          "text": [
            "Collecting backtrader\n",
            "  Downloading backtrader-1.9.78.123-py2.py3-none-any.whl (419 kB)\n",
            "\u001b[2K     \u001b[90m━━━━━━━━━━━━━━━━━━━━━━━━━━━━━━━━━━━━━━━━\u001b[0m \u001b[32m419.5/419.5 kB\u001b[0m \u001b[31m4.0 MB/s\u001b[0m eta \u001b[36m0:00:00\u001b[0m\n",
            "\u001b[?25hInstalling collected packages: backtrader\n",
            "Successfully installed backtrader-1.9.78.123\n"
          ]
        }
      ]
    },
    {
      "cell_type": "code",
      "source": [
        "import yfinance as yf\n",
        "import pandas as pd\n",
        "import ta\n",
        "from xgboost import XGBClassifier\n",
        "from sklearn.model_selection import GridSearchCV\n",
        "import numpy as np\n",
        "import matplotlib.pyplot as plt\n",
        "from backtesting import Backtest, Strategy\n",
        "from backtesting.lib import crossover\n"
      ],
      "metadata": {
        "id": "W7nY5tcAJ4Dx"
      },
      "execution_count": 28,
      "outputs": []
    },
    {
      "cell_type": "code",
      "source": [
        "ticker = 'AAPL'\n",
        "data = yf.download(ticker, start='2014-01-01', end='2024-05-06')"
      ],
      "metadata": {
        "colab": {
          "base_uri": "https://localhost:8080/"
        },
        "id": "NDE-BO0LPw96",
        "outputId": "144b3085-1cee-4ccd-f373-392ba4dc4a26"
      },
      "execution_count": 29,
      "outputs": [
        {
          "output_type": "stream",
          "name": "stderr",
          "text": [
            "\r[*********************100%%**********************]  1 of 1 completed\n"
          ]
        }
      ]
    },
    {
      "cell_type": "code",
      "source": [
        "data['SMA20'] = ta.trend.sma_indicator(data['Close'], window=20)\n",
        "data['SMA50'] = ta.trend.sma_indicator(data['Close'], window=50)\n",
        "data['RSI'] = ta.momentum.rsi(data['Close'], window=14)\n",
        "data['MACD'] = ta.trend.macd_diff(data['Close'])\n",
        "data['StochK'] = ta.momentum.stoch(data['High'], data['Low'], data['Close'], window=14, smooth_window=3)\n",
        "data['StochD'] = ta.momentum.stoch_signal(data['High'], data['Low'], data['Close'], window=14, smooth_window=3)\n",
        "data['CCI'] = ta.trend.cci(data['High'], data['Low'], data['Close'], window=20)\n",
        "data['ATR'] = ta.volatility.average_true_range(data['High'], data['Low'], data['Close'], window=14)\n",
        "data['MFI'] = ta.volume.money_flow_index(data['High'], data['Low'], data['Close'], data['Volume'], window=14)\n",
        "data = data.dropna()\n",
        "data['Signal'] = np.where(data['Close'].shift(-1) > data['Close'], 1, 0)"
      ],
      "metadata": {
        "id": "5yTh_bgoPzcl",
        "colab": {
          "base_uri": "https://localhost:8080/"
        },
        "collapsed": true,
        "outputId": "b01efa0b-88f5-4edb-fb18-5d765ae0337d"
      },
      "execution_count": 30,
      "outputs": [
        {
          "output_type": "stream",
          "name": "stderr",
          "text": [
            "<ipython-input-30-0890dc6aa6a0>:11: SettingWithCopyWarning: \n",
            "A value is trying to be set on a copy of a slice from a DataFrame.\n",
            "Try using .loc[row_indexer,col_indexer] = value instead\n",
            "\n",
            "See the caveats in the documentation: https://pandas.pydata.org/pandas-docs/stable/user_guide/indexing.html#returning-a-view-versus-a-copy\n",
            "  data['Signal'] = np.where(data['Close'].shift(-1) > data['Close'], 1, 0)\n"
          ]
        }
      ]
    },
    {
      "cell_type": "code",
      "source": [
        "# podział danych na tremnigowy i testowy\n",
        "train_data = data['2014-01-01':'2023-12-31']\n",
        "test_data = data['2024-01-01':'2024-05-06']\n",
        "\n",
        "X_train = train_data[['SMA20', 'SMA50', 'RSI', 'MACD', 'StochK', 'StochD', 'CCI', 'ATR', 'MFI']]\n",
        "y_train = train_data['Signal']\n",
        "X_test = test_data[['SMA20', 'SMA50', 'RSI', 'MACD', 'StochK', 'StochD', 'CCI', 'ATR', 'MFI']]\n",
        "y_test = test_data['Signal']"
      ],
      "metadata": {
        "id": "Tu9o5BQeOF2R"
      },
      "execution_count": 31,
      "outputs": []
    },
    {
      "cell_type": "code",
      "source": [
        "# Hiperparametryzacja modelu\n",
        "param_grid = {\n",
        "     'n_estimators': [100, 200, 300],\n",
        "     'learning_rate': [0.1, 0.01, 0.05],\n",
        "     'colsample_bytree': [0.5, 0.75, 1.0],\n",
        "     'max_depth': range(1,5,9)\n",
        "}"
      ],
      "metadata": {
        "id": "ZY_VwrgbRSlJ"
      },
      "execution_count": 32,
      "outputs": []
    },
    {
      "cell_type": "code",
      "source": [
        "model = XGBClassifier()\n",
        "grid_search = GridSearchCV(estimator=model, param_grid=param_grid, cv=3)\n",
        "grid_search.fit(X_train, y_train)"
      ],
      "metadata": {
        "colab": {
          "base_uri": "https://localhost:8080/",
          "height": 117
        },
        "id": "v6z845aPRtHl",
        "outputId": "f3ec8850-8118-4853-fe92-01293cf5d08b"
      },
      "execution_count": 33,
      "outputs": [
        {
          "output_type": "execute_result",
          "data": {
            "text/plain": [
              "GridSearchCV(cv=3,\n",
              "             estimator=XGBClassifier(base_score=None, booster=None,\n",
              "                                     callbacks=None, colsample_bylevel=None,\n",
              "                                     colsample_bynode=None,\n",
              "                                     colsample_bytree=None, device=None,\n",
              "                                     early_stopping_rounds=None,\n",
              "                                     enable_categorical=False, eval_metric=None,\n",
              "                                     feature_types=None, gamma=None,\n",
              "                                     grow_policy=None, importance_type=None,\n",
              "                                     interaction_constraints=None,\n",
              "                                     learning_rate=None,...\n",
              "                                     max_cat_to_onehot=None,\n",
              "                                     max_delta_step=None, max_depth=None,\n",
              "                                     max_leaves=None, min_child_weight=None,\n",
              "                                     missing=nan, monotone_constraints=None,\n",
              "                                     multi_strategy=None, n_estimators=None,\n",
              "                                     n_jobs=None, num_parallel_tree=None,\n",
              "                                     random_state=None, ...),\n",
              "             param_grid={'colsample_bytree': [0.5, 0.75, 1.0],\n",
              "                         'learning_rate': [0.1, 0.01, 0.05],\n",
              "                         'max_depth': range(1, 5, 9),\n",
              "                         'n_estimators': [100, 200, 300]})"
            ],
            "text/html": [
              "<style>#sk-container-id-4 {color: black;background-color: white;}#sk-container-id-4 pre{padding: 0;}#sk-container-id-4 div.sk-toggleable {background-color: white;}#sk-container-id-4 label.sk-toggleable__label {cursor: pointer;display: block;width: 100%;margin-bottom: 0;padding: 0.3em;box-sizing: border-box;text-align: center;}#sk-container-id-4 label.sk-toggleable__label-arrow:before {content: \"▸\";float: left;margin-right: 0.25em;color: #696969;}#sk-container-id-4 label.sk-toggleable__label-arrow:hover:before {color: black;}#sk-container-id-4 div.sk-estimator:hover label.sk-toggleable__label-arrow:before {color: black;}#sk-container-id-4 div.sk-toggleable__content {max-height: 0;max-width: 0;overflow: hidden;text-align: left;background-color: #f0f8ff;}#sk-container-id-4 div.sk-toggleable__content pre {margin: 0.2em;color: black;border-radius: 0.25em;background-color: #f0f8ff;}#sk-container-id-4 input.sk-toggleable__control:checked~div.sk-toggleable__content {max-height: 200px;max-width: 100%;overflow: auto;}#sk-container-id-4 input.sk-toggleable__control:checked~label.sk-toggleable__label-arrow:before {content: \"▾\";}#sk-container-id-4 div.sk-estimator input.sk-toggleable__control:checked~label.sk-toggleable__label {background-color: #d4ebff;}#sk-container-id-4 div.sk-label input.sk-toggleable__control:checked~label.sk-toggleable__label {background-color: #d4ebff;}#sk-container-id-4 input.sk-hidden--visually {border: 0;clip: rect(1px 1px 1px 1px);clip: rect(1px, 1px, 1px, 1px);height: 1px;margin: -1px;overflow: hidden;padding: 0;position: absolute;width: 1px;}#sk-container-id-4 div.sk-estimator {font-family: monospace;background-color: #f0f8ff;border: 1px dotted black;border-radius: 0.25em;box-sizing: border-box;margin-bottom: 0.5em;}#sk-container-id-4 div.sk-estimator:hover {background-color: #d4ebff;}#sk-container-id-4 div.sk-parallel-item::after {content: \"\";width: 100%;border-bottom: 1px solid gray;flex-grow: 1;}#sk-container-id-4 div.sk-label:hover label.sk-toggleable__label {background-color: #d4ebff;}#sk-container-id-4 div.sk-serial::before {content: \"\";position: absolute;border-left: 1px solid gray;box-sizing: border-box;top: 0;bottom: 0;left: 50%;z-index: 0;}#sk-container-id-4 div.sk-serial {display: flex;flex-direction: column;align-items: center;background-color: white;padding-right: 0.2em;padding-left: 0.2em;position: relative;}#sk-container-id-4 div.sk-item {position: relative;z-index: 1;}#sk-container-id-4 div.sk-parallel {display: flex;align-items: stretch;justify-content: center;background-color: white;position: relative;}#sk-container-id-4 div.sk-item::before, #sk-container-id-4 div.sk-parallel-item::before {content: \"\";position: absolute;border-left: 1px solid gray;box-sizing: border-box;top: 0;bottom: 0;left: 50%;z-index: -1;}#sk-container-id-4 div.sk-parallel-item {display: flex;flex-direction: column;z-index: 1;position: relative;background-color: white;}#sk-container-id-4 div.sk-parallel-item:first-child::after {align-self: flex-end;width: 50%;}#sk-container-id-4 div.sk-parallel-item:last-child::after {align-self: flex-start;width: 50%;}#sk-container-id-4 div.sk-parallel-item:only-child::after {width: 0;}#sk-container-id-4 div.sk-dashed-wrapped {border: 1px dashed gray;margin: 0 0.4em 0.5em 0.4em;box-sizing: border-box;padding-bottom: 0.4em;background-color: white;}#sk-container-id-4 div.sk-label label {font-family: monospace;font-weight: bold;display: inline-block;line-height: 1.2em;}#sk-container-id-4 div.sk-label-container {text-align: center;}#sk-container-id-4 div.sk-container {/* jupyter's `normalize.less` sets `[hidden] { display: none; }` but bootstrap.min.css set `[hidden] { display: none !important; }` so we also need the `!important` here to be able to override the default hidden behavior on the sphinx rendered scikit-learn.org. See: https://github.com/scikit-learn/scikit-learn/issues/21755 */display: inline-block !important;position: relative;}#sk-container-id-4 div.sk-text-repr-fallback {display: none;}</style><div id=\"sk-container-id-4\" class=\"sk-top-container\"><div class=\"sk-text-repr-fallback\"><pre>GridSearchCV(cv=3,\n",
              "             estimator=XGBClassifier(base_score=None, booster=None,\n",
              "                                     callbacks=None, colsample_bylevel=None,\n",
              "                                     colsample_bynode=None,\n",
              "                                     colsample_bytree=None, device=None,\n",
              "                                     early_stopping_rounds=None,\n",
              "                                     enable_categorical=False, eval_metric=None,\n",
              "                                     feature_types=None, gamma=None,\n",
              "                                     grow_policy=None, importance_type=None,\n",
              "                                     interaction_constraints=None,\n",
              "                                     learning_rate=None,...\n",
              "                                     max_cat_to_onehot=None,\n",
              "                                     max_delta_step=None, max_depth=None,\n",
              "                                     max_leaves=None, min_child_weight=None,\n",
              "                                     missing=nan, monotone_constraints=None,\n",
              "                                     multi_strategy=None, n_estimators=None,\n",
              "                                     n_jobs=None, num_parallel_tree=None,\n",
              "                                     random_state=None, ...),\n",
              "             param_grid={&#x27;colsample_bytree&#x27;: [0.5, 0.75, 1.0],\n",
              "                         &#x27;learning_rate&#x27;: [0.1, 0.01, 0.05],\n",
              "                         &#x27;max_depth&#x27;: range(1, 5, 9),\n",
              "                         &#x27;n_estimators&#x27;: [100, 200, 300]})</pre><b>In a Jupyter environment, please rerun this cell to show the HTML representation or trust the notebook. <br />On GitHub, the HTML representation is unable to render, please try loading this page with nbviewer.org.</b></div><div class=\"sk-container\" hidden><div class=\"sk-item sk-dashed-wrapped\"><div class=\"sk-label-container\"><div class=\"sk-label sk-toggleable\"><input class=\"sk-toggleable__control sk-hidden--visually\" id=\"sk-estimator-id-8\" type=\"checkbox\" ><label for=\"sk-estimator-id-8\" class=\"sk-toggleable__label sk-toggleable__label-arrow\">GridSearchCV</label><div class=\"sk-toggleable__content\"><pre>GridSearchCV(cv=3,\n",
              "             estimator=XGBClassifier(base_score=None, booster=None,\n",
              "                                     callbacks=None, colsample_bylevel=None,\n",
              "                                     colsample_bynode=None,\n",
              "                                     colsample_bytree=None, device=None,\n",
              "                                     early_stopping_rounds=None,\n",
              "                                     enable_categorical=False, eval_metric=None,\n",
              "                                     feature_types=None, gamma=None,\n",
              "                                     grow_policy=None, importance_type=None,\n",
              "                                     interaction_constraints=None,\n",
              "                                     learning_rate=None,...\n",
              "                                     max_cat_to_onehot=None,\n",
              "                                     max_delta_step=None, max_depth=None,\n",
              "                                     max_leaves=None, min_child_weight=None,\n",
              "                                     missing=nan, monotone_constraints=None,\n",
              "                                     multi_strategy=None, n_estimators=None,\n",
              "                                     n_jobs=None, num_parallel_tree=None,\n",
              "                                     random_state=None, ...),\n",
              "             param_grid={&#x27;colsample_bytree&#x27;: [0.5, 0.75, 1.0],\n",
              "                         &#x27;learning_rate&#x27;: [0.1, 0.01, 0.05],\n",
              "                         &#x27;max_depth&#x27;: range(1, 5, 9),\n",
              "                         &#x27;n_estimators&#x27;: [100, 200, 300]})</pre></div></div></div><div class=\"sk-parallel\"><div class=\"sk-parallel-item\"><div class=\"sk-item\"><div class=\"sk-label-container\"><div class=\"sk-label sk-toggleable\"><input class=\"sk-toggleable__control sk-hidden--visually\" id=\"sk-estimator-id-9\" type=\"checkbox\" ><label for=\"sk-estimator-id-9\" class=\"sk-toggleable__label sk-toggleable__label-arrow\">estimator: XGBClassifier</label><div class=\"sk-toggleable__content\"><pre>XGBClassifier(base_score=None, booster=None, callbacks=None,\n",
              "              colsample_bylevel=None, colsample_bynode=None,\n",
              "              colsample_bytree=None, device=None, early_stopping_rounds=None,\n",
              "              enable_categorical=False, eval_metric=None, feature_types=None,\n",
              "              gamma=None, grow_policy=None, importance_type=None,\n",
              "              interaction_constraints=None, learning_rate=None, max_bin=None,\n",
              "              max_cat_threshold=None, max_cat_to_onehot=None,\n",
              "              max_delta_step=None, max_depth=None, max_leaves=None,\n",
              "              min_child_weight=None, missing=nan, monotone_constraints=None,\n",
              "              multi_strategy=None, n_estimators=None, n_jobs=None,\n",
              "              num_parallel_tree=None, random_state=None, ...)</pre></div></div></div><div class=\"sk-serial\"><div class=\"sk-item\"><div class=\"sk-estimator sk-toggleable\"><input class=\"sk-toggleable__control sk-hidden--visually\" id=\"sk-estimator-id-10\" type=\"checkbox\" ><label for=\"sk-estimator-id-10\" class=\"sk-toggleable__label sk-toggleable__label-arrow\">XGBClassifier</label><div class=\"sk-toggleable__content\"><pre>XGBClassifier(base_score=None, booster=None, callbacks=None,\n",
              "              colsample_bylevel=None, colsample_bynode=None,\n",
              "              colsample_bytree=None, device=None, early_stopping_rounds=None,\n",
              "              enable_categorical=False, eval_metric=None, feature_types=None,\n",
              "              gamma=None, grow_policy=None, importance_type=None,\n",
              "              interaction_constraints=None, learning_rate=None, max_bin=None,\n",
              "              max_cat_threshold=None, max_cat_to_onehot=None,\n",
              "              max_delta_step=None, max_depth=None, max_leaves=None,\n",
              "              min_child_weight=None, missing=nan, monotone_constraints=None,\n",
              "              multi_strategy=None, n_estimators=None, n_jobs=None,\n",
              "              num_parallel_tree=None, random_state=None, ...)</pre></div></div></div></div></div></div></div></div></div></div>"
            ]
          },
          "metadata": {},
          "execution_count": 33
        }
      ]
    },
    {
      "cell_type": "code",
      "source": [
        "best_model = grid_search.best_estimator_\n",
        "\n",
        "model = XGBClassifier(**grid_search.best_params_)\n",
        "model.fit(X_train, y_train)"
      ],
      "metadata": {
        "colab": {
          "base_uri": "https://localhost:8080/",
          "height": 248
        },
        "id": "oBJq6eIIOL_0",
        "outputId": "cc051629-6a8e-4025-97d7-28f2e5129967"
      },
      "execution_count": 34,
      "outputs": [
        {
          "output_type": "execute_result",
          "data": {
            "text/plain": [
              "XGBClassifier(base_score=None, booster=None, callbacks=None,\n",
              "              colsample_bylevel=None, colsample_bynode=None,\n",
              "              colsample_bytree=0.75, device=None, early_stopping_rounds=None,\n",
              "              enable_categorical=False, eval_metric=None, feature_types=None,\n",
              "              gamma=None, grow_policy=None, importance_type=None,\n",
              "              interaction_constraints=None, learning_rate=0.01, max_bin=None,\n",
              "              max_cat_threshold=None, max_cat_to_onehot=None,\n",
              "              max_delta_step=None, max_depth=1, max_leaves=None,\n",
              "              min_child_weight=None, missing=nan, monotone_constraints=None,\n",
              "              multi_strategy=None, n_estimators=100, n_jobs=None,\n",
              "              num_parallel_tree=None, random_state=None, ...)"
            ],
            "text/html": [
              "<style>#sk-container-id-5 {color: black;background-color: white;}#sk-container-id-5 pre{padding: 0;}#sk-container-id-5 div.sk-toggleable {background-color: white;}#sk-container-id-5 label.sk-toggleable__label {cursor: pointer;display: block;width: 100%;margin-bottom: 0;padding: 0.3em;box-sizing: border-box;text-align: center;}#sk-container-id-5 label.sk-toggleable__label-arrow:before {content: \"▸\";float: left;margin-right: 0.25em;color: #696969;}#sk-container-id-5 label.sk-toggleable__label-arrow:hover:before {color: black;}#sk-container-id-5 div.sk-estimator:hover label.sk-toggleable__label-arrow:before {color: black;}#sk-container-id-5 div.sk-toggleable__content {max-height: 0;max-width: 0;overflow: hidden;text-align: left;background-color: #f0f8ff;}#sk-container-id-5 div.sk-toggleable__content pre {margin: 0.2em;color: black;border-radius: 0.25em;background-color: #f0f8ff;}#sk-container-id-5 input.sk-toggleable__control:checked~div.sk-toggleable__content {max-height: 200px;max-width: 100%;overflow: auto;}#sk-container-id-5 input.sk-toggleable__control:checked~label.sk-toggleable__label-arrow:before {content: \"▾\";}#sk-container-id-5 div.sk-estimator input.sk-toggleable__control:checked~label.sk-toggleable__label {background-color: #d4ebff;}#sk-container-id-5 div.sk-label input.sk-toggleable__control:checked~label.sk-toggleable__label {background-color: #d4ebff;}#sk-container-id-5 input.sk-hidden--visually {border: 0;clip: rect(1px 1px 1px 1px);clip: rect(1px, 1px, 1px, 1px);height: 1px;margin: -1px;overflow: hidden;padding: 0;position: absolute;width: 1px;}#sk-container-id-5 div.sk-estimator {font-family: monospace;background-color: #f0f8ff;border: 1px dotted black;border-radius: 0.25em;box-sizing: border-box;margin-bottom: 0.5em;}#sk-container-id-5 div.sk-estimator:hover {background-color: #d4ebff;}#sk-container-id-5 div.sk-parallel-item::after {content: \"\";width: 100%;border-bottom: 1px solid gray;flex-grow: 1;}#sk-container-id-5 div.sk-label:hover label.sk-toggleable__label {background-color: #d4ebff;}#sk-container-id-5 div.sk-serial::before {content: \"\";position: absolute;border-left: 1px solid gray;box-sizing: border-box;top: 0;bottom: 0;left: 50%;z-index: 0;}#sk-container-id-5 div.sk-serial {display: flex;flex-direction: column;align-items: center;background-color: white;padding-right: 0.2em;padding-left: 0.2em;position: relative;}#sk-container-id-5 div.sk-item {position: relative;z-index: 1;}#sk-container-id-5 div.sk-parallel {display: flex;align-items: stretch;justify-content: center;background-color: white;position: relative;}#sk-container-id-5 div.sk-item::before, #sk-container-id-5 div.sk-parallel-item::before {content: \"\";position: absolute;border-left: 1px solid gray;box-sizing: border-box;top: 0;bottom: 0;left: 50%;z-index: -1;}#sk-container-id-5 div.sk-parallel-item {display: flex;flex-direction: column;z-index: 1;position: relative;background-color: white;}#sk-container-id-5 div.sk-parallel-item:first-child::after {align-self: flex-end;width: 50%;}#sk-container-id-5 div.sk-parallel-item:last-child::after {align-self: flex-start;width: 50%;}#sk-container-id-5 div.sk-parallel-item:only-child::after {width: 0;}#sk-container-id-5 div.sk-dashed-wrapped {border: 1px dashed gray;margin: 0 0.4em 0.5em 0.4em;box-sizing: border-box;padding-bottom: 0.4em;background-color: white;}#sk-container-id-5 div.sk-label label {font-family: monospace;font-weight: bold;display: inline-block;line-height: 1.2em;}#sk-container-id-5 div.sk-label-container {text-align: center;}#sk-container-id-5 div.sk-container {/* jupyter's `normalize.less` sets `[hidden] { display: none; }` but bootstrap.min.css set `[hidden] { display: none !important; }` so we also need the `!important` here to be able to override the default hidden behavior on the sphinx rendered scikit-learn.org. See: https://github.com/scikit-learn/scikit-learn/issues/21755 */display: inline-block !important;position: relative;}#sk-container-id-5 div.sk-text-repr-fallback {display: none;}</style><div id=\"sk-container-id-5\" class=\"sk-top-container\"><div class=\"sk-text-repr-fallback\"><pre>XGBClassifier(base_score=None, booster=None, callbacks=None,\n",
              "              colsample_bylevel=None, colsample_bynode=None,\n",
              "              colsample_bytree=0.75, device=None, early_stopping_rounds=None,\n",
              "              enable_categorical=False, eval_metric=None, feature_types=None,\n",
              "              gamma=None, grow_policy=None, importance_type=None,\n",
              "              interaction_constraints=None, learning_rate=0.01, max_bin=None,\n",
              "              max_cat_threshold=None, max_cat_to_onehot=None,\n",
              "              max_delta_step=None, max_depth=1, max_leaves=None,\n",
              "              min_child_weight=None, missing=nan, monotone_constraints=None,\n",
              "              multi_strategy=None, n_estimators=100, n_jobs=None,\n",
              "              num_parallel_tree=None, random_state=None, ...)</pre><b>In a Jupyter environment, please rerun this cell to show the HTML representation or trust the notebook. <br />On GitHub, the HTML representation is unable to render, please try loading this page with nbviewer.org.</b></div><div class=\"sk-container\" hidden><div class=\"sk-item\"><div class=\"sk-estimator sk-toggleable\"><input class=\"sk-toggleable__control sk-hidden--visually\" id=\"sk-estimator-id-11\" type=\"checkbox\" checked><label for=\"sk-estimator-id-11\" class=\"sk-toggleable__label sk-toggleable__label-arrow\">XGBClassifier</label><div class=\"sk-toggleable__content\"><pre>XGBClassifier(base_score=None, booster=None, callbacks=None,\n",
              "              colsample_bylevel=None, colsample_bynode=None,\n",
              "              colsample_bytree=0.75, device=None, early_stopping_rounds=None,\n",
              "              enable_categorical=False, eval_metric=None, feature_types=None,\n",
              "              gamma=None, grow_policy=None, importance_type=None,\n",
              "              interaction_constraints=None, learning_rate=0.01, max_bin=None,\n",
              "              max_cat_threshold=None, max_cat_to_onehot=None,\n",
              "              max_delta_step=None, max_depth=1, max_leaves=None,\n",
              "              min_child_weight=None, missing=nan, monotone_constraints=None,\n",
              "              multi_strategy=None, n_estimators=100, n_jobs=None,\n",
              "              num_parallel_tree=None, random_state=None, ...)</pre></div></div></div></div></div>"
            ]
          },
          "metadata": {},
          "execution_count": 34
        }
      ]
    },
    {
      "cell_type": "code",
      "source": [
        "from sklearn.metrics import balanced_accuracy_score\n",
        "y_pred_train = best_model.predict(X_train)\n",
        "y_pred_test = best_model.predict(X_test)\n",
        "\n",
        "# Ocena modelu\n",
        "train_accuracy = balanced_accuracy_score(y_train, y_pred_train)\n",
        "test_accuracy = balanced_accuracy_score(y_test, y_pred_test)\n",
        "\n",
        "print(train_accuracy)\n",
        "print(test_accuracy)"
      ],
      "metadata": {
        "colab": {
          "base_uri": "https://localhost:8080/"
        },
        "id": "wn87KNldF-GG",
        "outputId": "2a153d48-11c4-4e2f-bc98-528f28c26fb9"
      },
      "execution_count": 40,
      "outputs": [
        {
          "output_type": "stream",
          "name": "stdout",
          "text": [
            "0.509509305591266\n",
            "0.5\n"
          ]
        }
      ]
    },
    {
      "cell_type": "code",
      "source": [
        "class MLStrategy(Strategy):\n",
        "    def init(self):\n",
        "        self.sma20 = self.I(ta.trend.sma_indicator, pd.Series(self.data.Close), window=20)\n",
        "        self.sma50 = self.I(ta.trend.sma_indicator, pd.Series(self.data.Close), window=50)\n",
        "        self.rsi = self.I(ta.momentum.rsi, pd.Series(self.data.Close), window=14)\n",
        "        self.macd = self.I(ta.trend.macd_diff, pd.Series(self.data.Close))\n",
        "        self.stochk = self.I(ta.momentum.stoch, pd.Series(self.data.High), pd.Series(self.data.Low), pd.Series(self.data.Close), window=14)\n",
        "        self.stochd = self.I(ta.momentum.stoch_signal, pd.Series(self.data.High), pd.Series(self.data.Low), pd.Series(self.data.Close), window=14)\n",
        "        self.cci = self.I(ta.trend.cci, pd.Series(self.data.High), pd.Series(self.data.Low), pd.Series(self.data.Close), window=20)\n",
        "        self.atr = self.I(ta.volatility.average_true_range, pd.Series(self.data.High), pd.Series(self.data.Low), pd.Series(self.data.Close), window=14)\n",
        "        self.mfi = self.I(ta.volume.money_flow_index, pd.Series(self.data.High), pd.Series(self.data.Low), pd.Series(self.data.Close), pd.Series(self.data.Volume), window=14)\n",
        "\n",
        "    def next(self):\n",
        "        features = [\n",
        "            self.sma20[-1], self.sma50[-1],\n",
        "            self.rsi[-1], self.macd[-1],\n",
        "            self.stochk[-1], self.stochd[-1],\n",
        "            self.cci[-1], self.atr[-1],\n",
        "            self.mfi[-1]\n",
        "        ]\n",
        "\n",
        "        signal = model.predict([features])[0]\n",
        "\n",
        "        if signal == 1 and not self.position:\n",
        "            self.buy()\n",
        "        elif signal == 0 and self.position:\n",
        "            self.sell()"
      ],
      "metadata": {
        "id": "1GW0mY8JOGnK"
      },
      "execution_count": 35,
      "outputs": []
    },
    {
      "cell_type": "code",
      "source": [
        "# Bactesting\n",
        "bt = Backtest(test_data, MLStrategy, cash=100000, commission=0.002)\n",
        "stats = bt.run()\n",
        "bt.plot()\n",
        "plt.show()"
      ],
      "metadata": {
        "colab": {
          "base_uri": "https://localhost:8080/",
          "height": 1000
        },
        "id": "L2x0C2AAO20x",
        "outputId": "e1564c0c-0441-4f1f-ad2e-807a03255e12"
      },
      "execution_count": 45,
      "outputs": [
        {
          "output_type": "stream",
          "name": "stderr",
          "text": [
            "BokehDeprecationWarning: Passing lists of formats for DatetimeTickFormatter scales was deprecated in Bokeh 3.0. Configure a single string format for each scale\n",
            "/usr/local/lib/python3.10/dist-packages/backtesting/_plotting.py:250: UserWarning: DatetimeFormatter scales now only accept a single format. Using the first provided: '%d %b'\n",
            "  formatter=DatetimeTickFormatter(days=['%d %b', '%a %d'],\n",
            "BokehDeprecationWarning: Passing lists of formats for DatetimeTickFormatter scales was deprecated in Bokeh 3.0. Configure a single string format for each scale\n",
            "/usr/local/lib/python3.10/dist-packages/backtesting/_plotting.py:250: UserWarning: DatetimeFormatter scales now only accept a single format. Using the first provided: '%m/%Y'\n",
            "  formatter=DatetimeTickFormatter(days=['%d %b', '%a %d'],\n",
            "/usr/local/lib/python3.10/dist-packages/backtesting/_plotting.py:659: UserWarning: found multiple competing values for 'toolbar.active_drag' property; using the latest value\n",
            "  fig = gridplot(\n",
            "/usr/local/lib/python3.10/dist-packages/backtesting/_plotting.py:659: UserWarning: found multiple competing values for 'toolbar.active_scroll' property; using the latest value\n",
            "  fig = gridplot(\n"
          ]
        },
        {
          "output_type": "display_data",
          "data": {
            "application/javascript": [
              "(function(root) {\n",
              "  function now() {\n",
              "    return new Date();\n",
              "  }\n",
              "\n",
              "  const force = true;\n",
              "\n",
              "  if (typeof root._bokeh_onload_callbacks === \"undefined\" || force === true) {\n",
              "    root._bokeh_onload_callbacks = [];\n",
              "    root._bokeh_is_loading = undefined;\n",
              "  }\n",
              "\n",
              "const JS_MIME_TYPE = 'application/javascript';\n",
              "  const HTML_MIME_TYPE = 'text/html';\n",
              "  const EXEC_MIME_TYPE = 'application/vnd.bokehjs_exec.v0+json';\n",
              "  const CLASS_NAME = 'output_bokeh rendered_html';\n",
              "\n",
              "  /**\n",
              "   * Render data to the DOM node\n",
              "   */\n",
              "  function render(props, node) {\n",
              "    const script = document.createElement(\"script\");\n",
              "    node.appendChild(script);\n",
              "  }\n",
              "\n",
              "  /**\n",
              "   * Handle when an output is cleared or removed\n",
              "   */\n",
              "  function handleClearOutput(event, handle) {\n",
              "    function drop(id) {\n",
              "      const view = Bokeh.index.get_by_id(id)\n",
              "      if (view != null) {\n",
              "        view.model.document.clear()\n",
              "        Bokeh.index.delete(view)\n",
              "      }\n",
              "    }\n",
              "\n",
              "    const cell = handle.cell;\n",
              "\n",
              "    const id = cell.output_area._bokeh_element_id;\n",
              "    const server_id = cell.output_area._bokeh_server_id;\n",
              "\n",
              "    // Clean up Bokeh references\n",
              "    if (id != null) {\n",
              "      drop(id)\n",
              "    }\n",
              "\n",
              "    if (server_id !== undefined) {\n",
              "      // Clean up Bokeh references\n",
              "      const cmd_clean = \"from bokeh.io.state import curstate; print(curstate().uuid_to_server['\" + server_id + \"'].get_sessions()[0].document.roots[0]._id)\";\n",
              "      cell.notebook.kernel.execute(cmd_clean, {\n",
              "        iopub: {\n",
              "          output: function(msg) {\n",
              "            const id = msg.content.text.trim()\n",
              "            drop(id)\n",
              "          }\n",
              "        }\n",
              "      });\n",
              "      // Destroy server and session\n",
              "      const cmd_destroy = \"import bokeh.io.notebook as ion; ion.destroy_server('\" + server_id + \"')\";\n",
              "      cell.notebook.kernel.execute(cmd_destroy);\n",
              "    }\n",
              "  }\n",
              "\n",
              "  /**\n",
              "   * Handle when a new output is added\n",
              "   */\n",
              "  function handleAddOutput(event, handle) {\n",
              "    const output_area = handle.output_area;\n",
              "    const output = handle.output;\n",
              "\n",
              "    // limit handleAddOutput to display_data with EXEC_MIME_TYPE content only\n",
              "    if ((output.output_type != \"display_data\") || (!Object.prototype.hasOwnProperty.call(output.data, EXEC_MIME_TYPE))) {\n",
              "      return\n",
              "    }\n",
              "\n",
              "    const toinsert = output_area.element.find(\".\" + CLASS_NAME.split(' ')[0]);\n",
              "\n",
              "    if (output.metadata[EXEC_MIME_TYPE][\"id\"] !== undefined) {\n",
              "      toinsert[toinsert.length - 1].firstChild.textContent = output.data[JS_MIME_TYPE];\n",
              "      // store reference to embed id on output_area\n",
              "      output_area._bokeh_element_id = output.metadata[EXEC_MIME_TYPE][\"id\"];\n",
              "    }\n",
              "    if (output.metadata[EXEC_MIME_TYPE][\"server_id\"] !== undefined) {\n",
              "      const bk_div = document.createElement(\"div\");\n",
              "      bk_div.innerHTML = output.data[HTML_MIME_TYPE];\n",
              "      const script_attrs = bk_div.children[0].attributes;\n",
              "      for (let i = 0; i < script_attrs.length; i++) {\n",
              "        toinsert[toinsert.length - 1].firstChild.setAttribute(script_attrs[i].name, script_attrs[i].value);\n",
              "        toinsert[toinsert.length - 1].firstChild.textContent = bk_div.children[0].textContent\n",
              "      }\n",
              "      // store reference to server id on output_area\n",
              "      output_area._bokeh_server_id = output.metadata[EXEC_MIME_TYPE][\"server_id\"];\n",
              "    }\n",
              "  }\n",
              "\n",
              "  function register_renderer(events, OutputArea) {\n",
              "\n",
              "    function append_mime(data, metadata, element) {\n",
              "      // create a DOM node to render to\n",
              "      const toinsert = this.create_output_subarea(\n",
              "        metadata,\n",
              "        CLASS_NAME,\n",
              "        EXEC_MIME_TYPE\n",
              "      );\n",
              "      this.keyboard_manager.register_events(toinsert);\n",
              "      // Render to node\n",
              "      const props = {data: data, metadata: metadata[EXEC_MIME_TYPE]};\n",
              "      render(props, toinsert[toinsert.length - 1]);\n",
              "      element.append(toinsert);\n",
              "      return toinsert\n",
              "    }\n",
              "\n",
              "    /* Handle when an output is cleared or removed */\n",
              "    events.on('clear_output.CodeCell', handleClearOutput);\n",
              "    events.on('delete.Cell', handleClearOutput);\n",
              "\n",
              "    /* Handle when a new output is added */\n",
              "    events.on('output_added.OutputArea', handleAddOutput);\n",
              "\n",
              "    /**\n",
              "     * Register the mime type and append_mime function with output_area\n",
              "     */\n",
              "    OutputArea.prototype.register_mime_type(EXEC_MIME_TYPE, append_mime, {\n",
              "      /* Is output safe? */\n",
              "      safe: true,\n",
              "      /* Index of renderer in `output_area.display_order` */\n",
              "      index: 0\n",
              "    });\n",
              "  }\n",
              "\n",
              "  // register the mime type if in Jupyter Notebook environment and previously unregistered\n",
              "  if (root.Jupyter !== undefined) {\n",
              "    const events = require('base/js/events');\n",
              "    const OutputArea = require('notebook/js/outputarea').OutputArea;\n",
              "\n",
              "    if (OutputArea.prototype.mime_types().indexOf(EXEC_MIME_TYPE) == -1) {\n",
              "      register_renderer(events, OutputArea);\n",
              "    }\n",
              "  }\n",
              "  if (typeof (root._bokeh_timeout) === \"undefined\" || force === true) {\n",
              "    root._bokeh_timeout = Date.now() + 5000;\n",
              "    root._bokeh_failed_load = false;\n",
              "  }\n",
              "\n",
              "  const NB_LOAD_WARNING = {'data': {'text/html':\n",
              "     \"<div style='background-color: #fdd'>\\n\"+\n",
              "     \"<p>\\n\"+\n",
              "     \"BokehJS does not appear to have successfully loaded. If loading BokehJS from CDN, this \\n\"+\n",
              "     \"may be due to a slow or bad network connection. Possible fixes:\\n\"+\n",
              "     \"</p>\\n\"+\n",
              "     \"<ul>\\n\"+\n",
              "     \"<li>re-rerun `output_notebook()` to attempt to load from CDN again, or</li>\\n\"+\n",
              "     \"<li>use INLINE resources instead, as so:</li>\\n\"+\n",
              "     \"</ul>\\n\"+\n",
              "     \"<code>\\n\"+\n",
              "     \"from bokeh.resources import INLINE\\n\"+\n",
              "     \"output_notebook(resources=INLINE)\\n\"+\n",
              "     \"</code>\\n\"+\n",
              "     \"</div>\"}};\n",
              "\n",
              "  function display_loaded() {\n",
              "    const el = document.getElementById(null);\n",
              "    if (el != null) {\n",
              "      el.textContent = \"BokehJS is loading...\";\n",
              "    }\n",
              "    if (root.Bokeh !== undefined) {\n",
              "      if (el != null) {\n",
              "        el.textContent = \"BokehJS \" + root.Bokeh.version + \" successfully loaded.\";\n",
              "      }\n",
              "    } else if (Date.now() < root._bokeh_timeout) {\n",
              "      setTimeout(display_loaded, 100)\n",
              "    }\n",
              "  }\n",
              "\n",
              "  function run_callbacks() {\n",
              "    try {\n",
              "      root._bokeh_onload_callbacks.forEach(function(callback) {\n",
              "        if (callback != null)\n",
              "          callback();\n",
              "      });\n",
              "    } finally {\n",
              "      delete root._bokeh_onload_callbacks\n",
              "    }\n",
              "    console.debug(\"Bokeh: all callbacks have finished\");\n",
              "  }\n",
              "\n",
              "  function load_libs(css_urls, js_urls, callback) {\n",
              "    if (css_urls == null) css_urls = [];\n",
              "    if (js_urls == null) js_urls = [];\n",
              "\n",
              "    root._bokeh_onload_callbacks.push(callback);\n",
              "    if (root._bokeh_is_loading > 0) {\n",
              "      console.debug(\"Bokeh: BokehJS is being loaded, scheduling callback at\", now());\n",
              "      return null;\n",
              "    }\n",
              "    if (js_urls == null || js_urls.length === 0) {\n",
              "      run_callbacks();\n",
              "      return null;\n",
              "    }\n",
              "    console.debug(\"Bokeh: BokehJS not loaded, scheduling load and callback at\", now());\n",
              "    root._bokeh_is_loading = css_urls.length + js_urls.length;\n",
              "\n",
              "    function on_load() {\n",
              "      root._bokeh_is_loading--;\n",
              "      if (root._bokeh_is_loading === 0) {\n",
              "        console.debug(\"Bokeh: all BokehJS libraries/stylesheets loaded\");\n",
              "        run_callbacks()\n",
              "      }\n",
              "    }\n",
              "\n",
              "    function on_error(url) {\n",
              "      console.error(\"failed to load \" + url);\n",
              "    }\n",
              "\n",
              "    for (let i = 0; i < css_urls.length; i++) {\n",
              "      const url = css_urls[i];\n",
              "      const element = document.createElement(\"link\");\n",
              "      element.onload = on_load;\n",
              "      element.onerror = on_error.bind(null, url);\n",
              "      element.rel = \"stylesheet\";\n",
              "      element.type = \"text/css\";\n",
              "      element.href = url;\n",
              "      console.debug(\"Bokeh: injecting link tag for BokehJS stylesheet: \", url);\n",
              "      document.body.appendChild(element);\n",
              "    }\n",
              "\n",
              "    for (let i = 0; i < js_urls.length; i++) {\n",
              "      const url = js_urls[i];\n",
              "      const element = document.createElement('script');\n",
              "      element.onload = on_load;\n",
              "      element.onerror = on_error.bind(null, url);\n",
              "      element.async = false;\n",
              "      element.src = url;\n",
              "      console.debug(\"Bokeh: injecting script tag for BokehJS library: \", url);\n",
              "      document.head.appendChild(element);\n",
              "    }\n",
              "  };\n",
              "\n",
              "  function inject_raw_css(css) {\n",
              "    const element = document.createElement(\"style\");\n",
              "    element.appendChild(document.createTextNode(css));\n",
              "    document.body.appendChild(element);\n",
              "  }\n",
              "\n",
              "  const js_urls = [\"https://cdn.bokeh.org/bokeh/release/bokeh-3.3.4.min.js\", \"https://cdn.bokeh.org/bokeh/release/bokeh-gl-3.3.4.min.js\", \"https://cdn.bokeh.org/bokeh/release/bokeh-widgets-3.3.4.min.js\", \"https://cdn.bokeh.org/bokeh/release/bokeh-tables-3.3.4.min.js\", \"https://cdn.bokeh.org/bokeh/release/bokeh-mathjax-3.3.4.min.js\"];\n",
              "  const css_urls = [];\n",
              "\n",
              "  const inline_js = [    function(Bokeh) {\n",
              "      Bokeh.set_log_level(\"info\");\n",
              "    },\n",
              "function(Bokeh) {\n",
              "    }\n",
              "  ];\n",
              "\n",
              "  function run_inline_js() {\n",
              "    if (root.Bokeh !== undefined || force === true) {\n",
              "          for (let i = 0; i < inline_js.length; i++) {\n",
              "      inline_js[i].call(root, root.Bokeh);\n",
              "    }\n",
              "} else if (Date.now() < root._bokeh_timeout) {\n",
              "      setTimeout(run_inline_js, 100);\n",
              "    } else if (!root._bokeh_failed_load) {\n",
              "      console.log(\"Bokeh: BokehJS failed to load within specified timeout.\");\n",
              "      root._bokeh_failed_load = true;\n",
              "    } else if (force !== true) {\n",
              "      const cell = $(document.getElementById(null)).parents('.cell').data().cell;\n",
              "      cell.output_area.append_execute_result(NB_LOAD_WARNING)\n",
              "    }\n",
              "  }\n",
              "\n",
              "  if (root._bokeh_is_loading === 0) {\n",
              "    console.debug(\"Bokeh: BokehJS loaded, going straight to plotting\");\n",
              "    run_inline_js();\n",
              "  } else {\n",
              "    load_libs(css_urls, js_urls, function() {\n",
              "      console.debug(\"Bokeh: BokehJS plotting callback run at\", now());\n",
              "      run_inline_js();\n",
              "    });\n",
              "  }\n",
              "}(window));"
            ],
            "application/vnd.bokehjs_load.v0+json": "(function(root) {\n  function now() {\n    return new Date();\n  }\n\n  const force = true;\n\n  if (typeof root._bokeh_onload_callbacks === \"undefined\" || force === true) {\n    root._bokeh_onload_callbacks = [];\n    root._bokeh_is_loading = undefined;\n  }\n\n\n  if (typeof (root._bokeh_timeout) === \"undefined\" || force === true) {\n    root._bokeh_timeout = Date.now() + 5000;\n    root._bokeh_failed_load = false;\n  }\n\n  const NB_LOAD_WARNING = {'data': {'text/html':\n     \"<div style='background-color: #fdd'>\\n\"+\n     \"<p>\\n\"+\n     \"BokehJS does not appear to have successfully loaded. If loading BokehJS from CDN, this \\n\"+\n     \"may be due to a slow or bad network connection. Possible fixes:\\n\"+\n     \"</p>\\n\"+\n     \"<ul>\\n\"+\n     \"<li>re-rerun `output_notebook()` to attempt to load from CDN again, or</li>\\n\"+\n     \"<li>use INLINE resources instead, as so:</li>\\n\"+\n     \"</ul>\\n\"+\n     \"<code>\\n\"+\n     \"from bokeh.resources import INLINE\\n\"+\n     \"output_notebook(resources=INLINE)\\n\"+\n     \"</code>\\n\"+\n     \"</div>\"}};\n\n  function display_loaded() {\n    const el = document.getElementById(null);\n    if (el != null) {\n      el.textContent = \"BokehJS is loading...\";\n    }\n    if (root.Bokeh !== undefined) {\n      if (el != null) {\n        el.textContent = \"BokehJS \" + root.Bokeh.version + \" successfully loaded.\";\n      }\n    } else if (Date.now() < root._bokeh_timeout) {\n      setTimeout(display_loaded, 100)\n    }\n  }\n\n  function run_callbacks() {\n    try {\n      root._bokeh_onload_callbacks.forEach(function(callback) {\n        if (callback != null)\n          callback();\n      });\n    } finally {\n      delete root._bokeh_onload_callbacks\n    }\n    console.debug(\"Bokeh: all callbacks have finished\");\n  }\n\n  function load_libs(css_urls, js_urls, callback) {\n    if (css_urls == null) css_urls = [];\n    if (js_urls == null) js_urls = [];\n\n    root._bokeh_onload_callbacks.push(callback);\n    if (root._bokeh_is_loading > 0) {\n      console.debug(\"Bokeh: BokehJS is being loaded, scheduling callback at\", now());\n      return null;\n    }\n    if (js_urls == null || js_urls.length === 0) {\n      run_callbacks();\n      return null;\n    }\n    console.debug(\"Bokeh: BokehJS not loaded, scheduling load and callback at\", now());\n    root._bokeh_is_loading = css_urls.length + js_urls.length;\n\n    function on_load() {\n      root._bokeh_is_loading--;\n      if (root._bokeh_is_loading === 0) {\n        console.debug(\"Bokeh: all BokehJS libraries/stylesheets loaded\");\n        run_callbacks()\n      }\n    }\n\n    function on_error(url) {\n      console.error(\"failed to load \" + url);\n    }\n\n    for (let i = 0; i < css_urls.length; i++) {\n      const url = css_urls[i];\n      const element = document.createElement(\"link\");\n      element.onload = on_load;\n      element.onerror = on_error.bind(null, url);\n      element.rel = \"stylesheet\";\n      element.type = \"text/css\";\n      element.href = url;\n      console.debug(\"Bokeh: injecting link tag for BokehJS stylesheet: \", url);\n      document.body.appendChild(element);\n    }\n\n    for (let i = 0; i < js_urls.length; i++) {\n      const url = js_urls[i];\n      const element = document.createElement('script');\n      element.onload = on_load;\n      element.onerror = on_error.bind(null, url);\n      element.async = false;\n      element.src = url;\n      console.debug(\"Bokeh: injecting script tag for BokehJS library: \", url);\n      document.head.appendChild(element);\n    }\n  };\n\n  function inject_raw_css(css) {\n    const element = document.createElement(\"style\");\n    element.appendChild(document.createTextNode(css));\n    document.body.appendChild(element);\n  }\n\n  const js_urls = [\"https://cdn.bokeh.org/bokeh/release/bokeh-3.3.4.min.js\", \"https://cdn.bokeh.org/bokeh/release/bokeh-gl-3.3.4.min.js\", \"https://cdn.bokeh.org/bokeh/release/bokeh-widgets-3.3.4.min.js\", \"https://cdn.bokeh.org/bokeh/release/bokeh-tables-3.3.4.min.js\", \"https://cdn.bokeh.org/bokeh/release/bokeh-mathjax-3.3.4.min.js\"];\n  const css_urls = [];\n\n  const inline_js = [    function(Bokeh) {\n      Bokeh.set_log_level(\"info\");\n    },\nfunction(Bokeh) {\n    }\n  ];\n\n  function run_inline_js() {\n    if (root.Bokeh !== undefined || force === true) {\n          for (let i = 0; i < inline_js.length; i++) {\n      inline_js[i].call(root, root.Bokeh);\n    }\n} else if (Date.now() < root._bokeh_timeout) {\n      setTimeout(run_inline_js, 100);\n    } else if (!root._bokeh_failed_load) {\n      console.log(\"Bokeh: BokehJS failed to load within specified timeout.\");\n      root._bokeh_failed_load = true;\n    } else if (force !== true) {\n      const cell = $(document.getElementById(null)).parents('.cell').data().cell;\n      cell.output_area.append_execute_result(NB_LOAD_WARNING)\n    }\n  }\n\n  if (root._bokeh_is_loading === 0) {\n    console.debug(\"Bokeh: BokehJS loaded, going straight to plotting\");\n    run_inline_js();\n  } else {\n    load_libs(css_urls, js_urls, function() {\n      console.debug(\"Bokeh: BokehJS plotting callback run at\", now());\n      run_inline_js();\n    });\n  }\n}(window));"
          },
          "metadata": {}
        },
        {
          "output_type": "display_data",
          "data": {
            "text/html": [
              "\n",
              "  <div id=\"db5b25e6-b316-43a0-899f-6f7b25f4097a\" data-root-id=\"p3100\" style=\"display: contents;\"></div>\n"
            ]
          },
          "metadata": {}
        },
        {
          "output_type": "display_data",
          "data": {
            "application/javascript": [
              "(function(root) {\n",
              "  function embed_document(root) {\n",
              "  const docs_json = {\"cb89d39a-2ebf-4c28-bdf6-ca5e1f6e599e\":{\"version\":\"3.3.4\",\"title\":\"Bokeh Application\",\"roots\":[{\"type\":\"object\",\"name\":\"GridPlot\",\"id\":\"p3100\",\"attributes\":{\"rows\":null,\"cols\":null,\"sizing_mode\":\"stretch_width\",\"toolbar\":{\"type\":\"object\",\"name\":\"Toolbar\",\"id\":\"p3099\",\"attributes\":{\"logo\":null,\"tools\":[{\"type\":\"object\",\"name\":\"ToolProxy\",\"id\":\"p3091\",\"attributes\":{\"tools\":[{\"type\":\"object\",\"name\":\"PanTool\",\"id\":\"p2491\",\"attributes\":{\"dimensions\":\"width\"}},{\"type\":\"object\",\"name\":\"PanTool\",\"id\":\"p2588\",\"attributes\":{\"dimensions\":\"width\"}},{\"type\":\"object\",\"name\":\"PanTool\",\"id\":\"p2447\",\"attributes\":{\"dimensions\":\"width\"}},{\"type\":\"object\",\"name\":\"PanTool\",\"id\":\"p2643\",\"attributes\":{\"dimensions\":\"width\"}},{\"type\":\"object\",\"name\":\"PanTool\",\"id\":\"p2748\",\"attributes\":{\"dimensions\":\"width\"}},{\"type\":\"object\",\"name\":\"PanTool\",\"id\":\"p2793\",\"attributes\":{\"dimensions\":\"width\"}},{\"type\":\"object\",\"name\":\"PanTool\",\"id\":\"p2838\",\"attributes\":{\"dimensions\":\"width\"}},{\"type\":\"object\",\"name\":\"PanTool\",\"id\":\"p2884\",\"attributes\":{\"dimensions\":\"width\"}},{\"type\":\"object\",\"name\":\"PanTool\",\"id\":\"p2929\",\"attributes\":{\"dimensions\":\"width\"}},{\"type\":\"object\",\"name\":\"PanTool\",\"id\":\"p2974\",\"attributes\":{\"dimensions\":\"width\"}},{\"type\":\"object\",\"name\":\"PanTool\",\"id\":\"p3019\",\"attributes\":{\"dimensions\":\"width\"}},{\"type\":\"object\",\"name\":\"PanTool\",\"id\":\"p3064\",\"attributes\":{\"dimensions\":\"width\"}}]}},{\"type\":\"object\",\"name\":\"ToolProxy\",\"id\":\"p3092\",\"attributes\":{\"tools\":[{\"type\":\"object\",\"name\":\"WheelZoomTool\",\"id\":\"p2492\",\"attributes\":{\"dimensions\":\"width\",\"renderers\":\"auto\",\"maintain_focus\":false}},{\"type\":\"object\",\"name\":\"WheelZoomTool\",\"id\":\"p2589\",\"attributes\":{\"dimensions\":\"width\",\"renderers\":\"auto\",\"maintain_focus\":false}},{\"type\":\"object\",\"name\":\"WheelZoomTool\",\"id\":\"p2448\",\"attributes\":{\"dimensions\":\"width\",\"renderers\":\"auto\",\"maintain_focus\":false}},{\"type\":\"object\",\"name\":\"WheelZoomTool\",\"id\":\"p2644\",\"attributes\":{\"dimensions\":\"width\",\"renderers\":\"auto\",\"maintain_focus\":false}},{\"type\":\"object\",\"name\":\"WheelZoomTool\",\"id\":\"p2749\",\"attributes\":{\"dimensions\":\"width\",\"renderers\":\"auto\",\"maintain_focus\":false}},{\"type\":\"object\",\"name\":\"WheelZoomTool\",\"id\":\"p2794\",\"attributes\":{\"dimensions\":\"width\",\"renderers\":\"auto\",\"maintain_focus\":false}},{\"type\":\"object\",\"name\":\"WheelZoomTool\",\"id\":\"p2839\",\"attributes\":{\"dimensions\":\"width\",\"renderers\":\"auto\",\"maintain_focus\":false}},{\"type\":\"object\",\"name\":\"WheelZoomTool\",\"id\":\"p2885\",\"attributes\":{\"dimensions\":\"width\",\"renderers\":\"auto\",\"maintain_focus\":false}},{\"type\":\"object\",\"name\":\"WheelZoomTool\",\"id\":\"p2930\",\"attributes\":{\"dimensions\":\"width\",\"renderers\":\"auto\",\"maintain_focus\":false}},{\"type\":\"object\",\"name\":\"WheelZoomTool\",\"id\":\"p2975\",\"attributes\":{\"dimensions\":\"width\",\"renderers\":\"auto\",\"maintain_focus\":false}},{\"type\":\"object\",\"name\":\"WheelZoomTool\",\"id\":\"p3020\",\"attributes\":{\"dimensions\":\"width\",\"renderers\":\"auto\",\"maintain_focus\":false}},{\"type\":\"object\",\"name\":\"WheelZoomTool\",\"id\":\"p3065\",\"attributes\":{\"dimensions\":\"width\",\"renderers\":\"auto\",\"maintain_focus\":false}}]}},{\"type\":\"object\",\"name\":\"ToolProxy\",\"id\":\"p3093\",\"attributes\":{\"tools\":[{\"type\":\"object\",\"name\":\"BoxZoomTool\",\"id\":\"p2493\",\"attributes\":{\"overlay\":{\"type\":\"object\",\"name\":\"BoxAnnotation\",\"id\":\"p2494\",\"attributes\":{\"syncable\":false,\"level\":\"overlay\",\"visible\":false,\"left\":{\"type\":\"number\",\"value\":\"nan\"},\"right\":{\"type\":\"number\",\"value\":\"nan\"},\"top\":{\"type\":\"number\",\"value\":\"nan\"},\"bottom\":{\"type\":\"number\",\"value\":\"nan\"},\"left_units\":\"canvas\",\"right_units\":\"canvas\",\"top_units\":\"canvas\",\"bottom_units\":\"canvas\",\"line_color\":\"black\",\"line_alpha\":1.0,\"line_width\":2,\"line_dash\":[4,4],\"fill_color\":\"lightgrey\",\"fill_alpha\":0.5}}}},{\"type\":\"object\",\"name\":\"BoxZoomTool\",\"id\":\"p2590\",\"attributes\":{\"overlay\":{\"type\":\"object\",\"name\":\"BoxAnnotation\",\"id\":\"p2591\",\"attributes\":{\"syncable\":false,\"level\":\"overlay\",\"visible\":false,\"left\":{\"type\":\"number\",\"value\":\"nan\"},\"right\":{\"type\":\"number\",\"value\":\"nan\"},\"top\":{\"type\":\"number\",\"value\":\"nan\"},\"bottom\":{\"type\":\"number\",\"value\":\"nan\"},\"left_units\":\"canvas\",\"right_units\":\"canvas\",\"top_units\":\"canvas\",\"bottom_units\":\"canvas\",\"line_color\":\"black\",\"line_alpha\":1.0,\"line_width\":2,\"line_dash\":[4,4],\"fill_color\":\"lightgrey\",\"fill_alpha\":0.5}}}},{\"type\":\"object\",\"name\":\"BoxZoomTool\",\"id\":\"p2449\",\"attributes\":{\"overlay\":{\"type\":\"object\",\"name\":\"BoxAnnotation\",\"id\":\"p2450\",\"attributes\":{\"syncable\":false,\"level\":\"overlay\",\"visible\":false,\"left\":{\"type\":\"number\",\"value\":\"nan\"},\"right\":{\"type\":\"number\",\"value\":\"nan\"},\"top\":{\"type\":\"number\",\"value\":\"nan\"},\"bottom\":{\"type\":\"number\",\"value\":\"nan\"},\"left_units\":\"canvas\",\"right_units\":\"canvas\",\"top_units\":\"canvas\",\"bottom_units\":\"canvas\",\"line_color\":\"black\",\"line_alpha\":1.0,\"line_width\":2,\"line_dash\":[4,4],\"fill_color\":\"lightgrey\",\"fill_alpha\":0.5}}}},{\"type\":\"object\",\"name\":\"BoxZoomTool\",\"id\":\"p2645\",\"attributes\":{\"overlay\":{\"type\":\"object\",\"name\":\"BoxAnnotation\",\"id\":\"p2646\",\"attributes\":{\"syncable\":false,\"level\":\"overlay\",\"visible\":false,\"left\":{\"type\":\"number\",\"value\":\"nan\"},\"right\":{\"type\":\"number\",\"value\":\"nan\"},\"top\":{\"type\":\"number\",\"value\":\"nan\"},\"bottom\":{\"type\":\"number\",\"value\":\"nan\"},\"left_units\":\"canvas\",\"right_units\":\"canvas\",\"top_units\":\"canvas\",\"bottom_units\":\"canvas\",\"line_color\":\"black\",\"line_alpha\":1.0,\"line_width\":2,\"line_dash\":[4,4],\"fill_color\":\"lightgrey\",\"fill_alpha\":0.5}}}},{\"type\":\"object\",\"name\":\"BoxZoomTool\",\"id\":\"p2750\",\"attributes\":{\"overlay\":{\"type\":\"object\",\"name\":\"BoxAnnotation\",\"id\":\"p2751\",\"attributes\":{\"syncable\":false,\"level\":\"overlay\",\"visible\":false,\"left\":{\"type\":\"number\",\"value\":\"nan\"},\"right\":{\"type\":\"number\",\"value\":\"nan\"},\"top\":{\"type\":\"number\",\"value\":\"nan\"},\"bottom\":{\"type\":\"number\",\"value\":\"nan\"},\"left_units\":\"canvas\",\"right_units\":\"canvas\",\"top_units\":\"canvas\",\"bottom_units\":\"canvas\",\"line_color\":\"black\",\"line_alpha\":1.0,\"line_width\":2,\"line_dash\":[4,4],\"fill_color\":\"lightgrey\",\"fill_alpha\":0.5}}}},{\"type\":\"object\",\"name\":\"BoxZoomTool\",\"id\":\"p2795\",\"attributes\":{\"overlay\":{\"type\":\"object\",\"name\":\"BoxAnnotation\",\"id\":\"p2796\",\"attributes\":{\"syncable\":false,\"level\":\"overlay\",\"visible\":false,\"left\":{\"type\":\"number\",\"value\":\"nan\"},\"right\":{\"type\":\"number\",\"value\":\"nan\"},\"top\":{\"type\":\"number\",\"value\":\"nan\"},\"bottom\":{\"type\":\"number\",\"value\":\"nan\"},\"left_units\":\"canvas\",\"right_units\":\"canvas\",\"top_units\":\"canvas\",\"bottom_units\":\"canvas\",\"line_color\":\"black\",\"line_alpha\":1.0,\"line_width\":2,\"line_dash\":[4,4],\"fill_color\":\"lightgrey\",\"fill_alpha\":0.5}}}},{\"type\":\"object\",\"name\":\"BoxZoomTool\",\"id\":\"p2840\",\"attributes\":{\"overlay\":{\"type\":\"object\",\"name\":\"BoxAnnotation\",\"id\":\"p2841\",\"attributes\":{\"syncable\":false,\"level\":\"overlay\",\"visible\":false,\"left\":{\"type\":\"number\",\"value\":\"nan\"},\"right\":{\"type\":\"number\",\"value\":\"nan\"},\"top\":{\"type\":\"number\",\"value\":\"nan\"},\"bottom\":{\"type\":\"number\",\"value\":\"nan\"},\"left_units\":\"canvas\",\"right_units\":\"canvas\",\"top_units\":\"canvas\",\"bottom_units\":\"canvas\",\"line_color\":\"black\",\"line_alpha\":1.0,\"line_width\":2,\"line_dash\":[4,4],\"fill_color\":\"lightgrey\",\"fill_alpha\":0.5}}}},{\"type\":\"object\",\"name\":\"BoxZoomTool\",\"id\":\"p2886\",\"attributes\":{\"overlay\":{\"type\":\"object\",\"name\":\"BoxAnnotation\",\"id\":\"p2887\",\"attributes\":{\"syncable\":false,\"level\":\"overlay\",\"visible\":false,\"left\":{\"type\":\"number\",\"value\":\"nan\"},\"right\":{\"type\":\"number\",\"value\":\"nan\"},\"top\":{\"type\":\"number\",\"value\":\"nan\"},\"bottom\":{\"type\":\"number\",\"value\":\"nan\"},\"left_units\":\"canvas\",\"right_units\":\"canvas\",\"top_units\":\"canvas\",\"bottom_units\":\"canvas\",\"line_color\":\"black\",\"line_alpha\":1.0,\"line_width\":2,\"line_dash\":[4,4],\"fill_color\":\"lightgrey\",\"fill_alpha\":0.5}}}},{\"type\":\"object\",\"name\":\"BoxZoomTool\",\"id\":\"p2931\",\"attributes\":{\"overlay\":{\"type\":\"object\",\"name\":\"BoxAnnotation\",\"id\":\"p2932\",\"attributes\":{\"syncable\":false,\"level\":\"overlay\",\"visible\":false,\"left\":{\"type\":\"number\",\"value\":\"nan\"},\"right\":{\"type\":\"number\",\"value\":\"nan\"},\"top\":{\"type\":\"number\",\"value\":\"nan\"},\"bottom\":{\"type\":\"number\",\"value\":\"nan\"},\"left_units\":\"canvas\",\"right_units\":\"canvas\",\"top_units\":\"canvas\",\"bottom_units\":\"canvas\",\"line_color\":\"black\",\"line_alpha\":1.0,\"line_width\":2,\"line_dash\":[4,4],\"fill_color\":\"lightgrey\",\"fill_alpha\":0.5}}}},{\"type\":\"object\",\"name\":\"BoxZoomTool\",\"id\":\"p2976\",\"attributes\":{\"overlay\":{\"type\":\"object\",\"name\":\"BoxAnnotation\",\"id\":\"p2977\",\"attributes\":{\"syncable\":false,\"level\":\"overlay\",\"visible\":false,\"left\":{\"type\":\"number\",\"value\":\"nan\"},\"right\":{\"type\":\"number\",\"value\":\"nan\"},\"top\":{\"type\":\"number\",\"value\":\"nan\"},\"bottom\":{\"type\":\"number\",\"value\":\"nan\"},\"left_units\":\"canvas\",\"right_units\":\"canvas\",\"top_units\":\"canvas\",\"bottom_units\":\"canvas\",\"line_color\":\"black\",\"line_alpha\":1.0,\"line_width\":2,\"line_dash\":[4,4],\"fill_color\":\"lightgrey\",\"fill_alpha\":0.5}}}},{\"type\":\"object\",\"name\":\"BoxZoomTool\",\"id\":\"p3021\",\"attributes\":{\"overlay\":{\"type\":\"object\",\"name\":\"BoxAnnotation\",\"id\":\"p3022\",\"attributes\":{\"syncable\":false,\"level\":\"overlay\",\"visible\":false,\"left\":{\"type\":\"number\",\"value\":\"nan\"},\"right\":{\"type\":\"number\",\"value\":\"nan\"},\"top\":{\"type\":\"number\",\"value\":\"nan\"},\"bottom\":{\"type\":\"number\",\"value\":\"nan\"},\"left_units\":\"canvas\",\"right_units\":\"canvas\",\"top_units\":\"canvas\",\"bottom_units\":\"canvas\",\"line_color\":\"black\",\"line_alpha\":1.0,\"line_width\":2,\"line_dash\":[4,4],\"fill_color\":\"lightgrey\",\"fill_alpha\":0.5}}}},{\"type\":\"object\",\"name\":\"BoxZoomTool\",\"id\":\"p3066\",\"attributes\":{\"overlay\":{\"type\":\"object\",\"name\":\"BoxAnnotation\",\"id\":\"p3067\",\"attributes\":{\"syncable\":false,\"level\":\"overlay\",\"visible\":false,\"left\":{\"type\":\"number\",\"value\":\"nan\"},\"right\":{\"type\":\"number\",\"value\":\"nan\"},\"top\":{\"type\":\"number\",\"value\":\"nan\"},\"bottom\":{\"type\":\"number\",\"value\":\"nan\"},\"left_units\":\"canvas\",\"right_units\":\"canvas\",\"top_units\":\"canvas\",\"bottom_units\":\"canvas\",\"line_color\":\"black\",\"line_alpha\":1.0,\"line_width\":2,\"line_dash\":[4,4],\"fill_color\":\"lightgrey\",\"fill_alpha\":0.5}}}}]}},{\"type\":\"object\",\"name\":\"ToolProxy\",\"id\":\"p3094\",\"attributes\":{\"tools\":[{\"type\":\"object\",\"name\":\"UndoTool\",\"id\":\"p2499\"},{\"type\":\"object\",\"name\":\"UndoTool\",\"id\":\"p2596\"},{\"type\":\"object\",\"name\":\"UndoTool\",\"id\":\"p2455\"},{\"type\":\"object\",\"name\":\"UndoTool\",\"id\":\"p2651\"},{\"type\":\"object\",\"name\":\"UndoTool\",\"id\":\"p2756\"},{\"type\":\"object\",\"name\":\"UndoTool\",\"id\":\"p2801\"},{\"type\":\"object\",\"name\":\"UndoTool\",\"id\":\"p2846\"},{\"type\":\"object\",\"name\":\"UndoTool\",\"id\":\"p2892\"},{\"type\":\"object\",\"name\":\"UndoTool\",\"id\":\"p2937\"},{\"type\":\"object\",\"name\":\"UndoTool\",\"id\":\"p2982\"},{\"type\":\"object\",\"name\":\"UndoTool\",\"id\":\"p3027\"},{\"type\":\"object\",\"name\":\"UndoTool\",\"id\":\"p3072\"}]}},{\"type\":\"object\",\"name\":\"ToolProxy\",\"id\":\"p3095\",\"attributes\":{\"tools\":[{\"type\":\"object\",\"name\":\"RedoTool\",\"id\":\"p2500\"},{\"type\":\"object\",\"name\":\"RedoTool\",\"id\":\"p2597\"},{\"type\":\"object\",\"name\":\"RedoTool\",\"id\":\"p2456\"},{\"type\":\"object\",\"name\":\"RedoTool\",\"id\":\"p2652\"},{\"type\":\"object\",\"name\":\"RedoTool\",\"id\":\"p2757\"},{\"type\":\"object\",\"name\":\"RedoTool\",\"id\":\"p2802\"},{\"type\":\"object\",\"name\":\"RedoTool\",\"id\":\"p2847\"},{\"type\":\"object\",\"name\":\"RedoTool\",\"id\":\"p2893\"},{\"type\":\"object\",\"name\":\"RedoTool\",\"id\":\"p2938\"},{\"type\":\"object\",\"name\":\"RedoTool\",\"id\":\"p2983\"},{\"type\":\"object\",\"name\":\"RedoTool\",\"id\":\"p3028\"},{\"type\":\"object\",\"name\":\"RedoTool\",\"id\":\"p3073\"}]}},{\"type\":\"object\",\"name\":\"ToolProxy\",\"id\":\"p3096\",\"attributes\":{\"tools\":[{\"type\":\"object\",\"name\":\"ResetTool\",\"id\":\"p2501\"},{\"type\":\"object\",\"name\":\"ResetTool\",\"id\":\"p2598\"},{\"type\":\"object\",\"name\":\"ResetTool\",\"id\":\"p2457\"},{\"type\":\"object\",\"name\":\"ResetTool\",\"id\":\"p2653\"},{\"type\":\"object\",\"name\":\"ResetTool\",\"id\":\"p2758\"},{\"type\":\"object\",\"name\":\"ResetTool\",\"id\":\"p2803\"},{\"type\":\"object\",\"name\":\"ResetTool\",\"id\":\"p2848\"},{\"type\":\"object\",\"name\":\"ResetTool\",\"id\":\"p2894\"},{\"type\":\"object\",\"name\":\"ResetTool\",\"id\":\"p2939\"},{\"type\":\"object\",\"name\":\"ResetTool\",\"id\":\"p2984\"},{\"type\":\"object\",\"name\":\"ResetTool\",\"id\":\"p3029\"},{\"type\":\"object\",\"name\":\"ResetTool\",\"id\":\"p3074\"}]}},{\"type\":\"object\",\"name\":\"SaveTool\",\"id\":\"p3097\"},{\"type\":\"object\",\"name\":\"HoverTool\",\"id\":\"p2524\",\"attributes\":{\"renderers\":[{\"type\":\"object\",\"name\":\"GlyphRenderer\",\"id\":\"p2521\",\"attributes\":{\"data_source\":{\"type\":\"object\",\"name\":\"ColumnDataSource\",\"id\":\"p2459\",\"attributes\":{\"selected\":{\"type\":\"object\",\"name\":\"Selection\",\"id\":\"p2460\",\"attributes\":{\"indices\":[],\"line_indices\":[]}},\"selection_policy\":{\"type\":\"object\",\"name\":\"UnionRenderers\",\"id\":\"p2461\"},\"data\":{\"type\":\"map\",\"entries\":[[\"index\",{\"type\":\"ndarray\",\"array\":{\"type\":\"bytes\",\"data\":\"AAAAAAEAAAACAAAAAwAAAAQAAAAFAAAABgAAAAcAAAAIAAAACQAAAAoAAAALAAAADAAAAA0AAAAOAAAADwAAABAAAAARAAAAEgAAABMAAAAUAAAAFQAAABYAAAAXAAAAGAAAABkAAAAaAAAAGwAAABwAAAAdAAAAHgAAAB8AAAAgAAAAIQAAACIAAAAjAAAAJAAAACUAAAAmAAAAJwAAACgAAAApAAAAKgAAACsAAAAsAAAALQAAAC4AAAAvAAAAMAAAADEAAAAyAAAAMwAAADQAAAA1AAAANgAAADcAAAA4AAAAOQAAADoAAAA7AAAAPAAAAD0AAAA+AAAAPwAAAEAAAABBAAAAQgAAAEMAAABEAAAARQAAAEYAAABHAAAASAAAAEkAAABKAAAASwAAAEwAAABNAAAATgAAAE8AAABQAAAAUQAAAFIAAABTAAAAVAAAAFUAAAA=\"},\"shape\":[86],\"dtype\":\"int32\",\"order\":\"little\"}],[\"Open\",{\"type\":\"ndarray\",\"array\":{\"type\":\"bytes\",\"data\":\"AAAAwMxkZ0AAAABACgdnQAAAAMDMxGZAAAAAIK6/ZkAAAABA4cJmQAAAAKBw/WZAAAAAQDMLZ0AAAACgR1FnQAAAAIDrQWdAAAAAwB7FZkAAAADgo6hmQAAAAEDhQmdAAAAAYI+qZ0AAAACgmQloQAAAAOCjYGhAAAAAoHBtaEAAAABACmdoQAAAAOCjSGhAAAAA4FEAaEAAAACAFN5nQAAAAKBHYWdAAAAAIK7/ZkAAAAAghXtmQAAAAMDMhGdAAAAAIIVbZ0AAAADgetRnQAAAAOB6rGdAAAAAwMyUZ0AAAACgcI1nQAAAAOCjOGdAAAAAgD0qZ0AAAACgmfFmQAAAAKBw7WZAAAAAoEe5ZkAAAACAFL5mQAAAACBc72ZAAAAA4FEgZ0AAAAAgrsdmQAAAAEAzo2ZAAAAA4FHQZkAAAADgo6hmQAAAAKCZcWZAAAAAwMwEZkAAAADgUVhlQAAAAIDrYWVAAAAAwMwkZUAAAAAAACBlQAAAAIAUnmVAAAAAwMykZUAAAADgo5hlQAAAAMAenWVAAAAAoHBlZUAAAACAPfJlQAAAAEDhymVAAAAAQAr3ZUAAAACgmSFmQAAAAOBReGVAAAAAgD1SZUAAAAAAAEBlQAAAAMAeTWVAAAAAAAB4ZUAAAACAFGZlQAAAAGCPImVAAAAAoEcZZUAAAACgR0llQAAAAEDhMmVAAAAAwPUgZUAAAABgZhZlQAAAAKCZGWVAAAAAQOEKZUAAAADgUchlQAAAACCF62VAAAAAAAB4ZUAAAAAghTNlQAAAAMD1AGVAAAAAYLjGZEAAAADgo7BkQAAAAEAzq2RAAAAAoEfRZEAAAADA9TBlQAAAAAApPGVAAAAAANerZUAAAABgj6plQAAAAGCPMmVAAAAA4FGQZUAAAADAzFRnQA==\"},\"shape\":[86],\"dtype\":\"float64\",\"order\":\"little\"}],[\"High\",{\"type\":\"ndarray\",\"array\":{\"type\":\"bytes\",\"data\":\"AAAAgBSOZ0AAAAAAKTxnQAAAAEDh4mZAAAAA4FHYZkAAAABAMzNnQAAAAMDMJGdAAAAAwMxMZ0AAAACgmWFnQAAAACCuV2dAAAAA4FEIZ0AAAACAwt1mQAAAAOB6pGdAAAAAYGb+Z0AAAABgj2poQAAAAAAAeGhAAAAAACmMaEAAAADgo4hoQAAAAOBRWGhAAAAAYGYGaEAAAACgmflnQAAAAEAzY2dAAAAAYGZeZ0AAAABgj2pnQAAAAAAAqGdAAAAAgOupZ0AAAACgmeFnQAAAAKBHsWdAAAAAIK6/Z0AAAACgcJVnQAAAAGC4RmdAAAAAwPUwZ0AAAAAgrg9nQAAAAEAzG2dAAAAAgMLNZkAAAADgetxmQAAAAGC4HmdAAAAAoEchZ0AAAADgUdhmQAAAAKBw/WZAAAAAANfjZkAAAACAPdJmQAAAAMD1kGZAAAAAwMwcZkAAAACgR4FlQAAAACCuZ2VAAAAAIFxXZUAAAABgZrZlQAAAAAApzGVAAAAAwPXAZUAAAACAFKZlQAAAAIDryWVAAAAAANeTZUAAAABguDZmQAAAACCFE2ZAAAAAoHBVZkAAAAAgri9mQAAAAKCZoWVAAAAAgBR+ZUAAAACgcG1lQAAAAEAzs2VAAAAAIFyHZUAAAAAAAGhlQAAAAEDhKmVAAAAAgMJVZUAAAACgcH1lQAAAAOB6TGVAAAAAYGYmZUAAAABgj0JlQAAAAEDhImVAAAAAYLjuZUAAAAAghUtmQAAAAAApFGZAAAAA4FG4ZUAAAADAzFRlQAAAAOB6FGVAAAAAwMzMZEAAAADgUehkQAAAAKCZ4WRAAAAAoJkpZUAAAAAghVNlQAAAAEDhamVAAAAAwPUAZkAAAAAgrt9lQAAAAGC4lmVAAAAAoHCtZUAAAAAAAGBnQA==\"},\"shape\":[86],\"dtype\":\"float64\",\"order\":\"little\"}],[\"Low\",{\"type\":\"ndarray\",\"array\":{\"type\":\"bytes\",\"data\":\"AAAA4Hr8ZkAAAACAwu1mQAAAAAApnGZAAAAAoHCFZkAAAAAAALBmQAAAACBc12ZAAAAAoHD9ZkAAAAAA1/NmQAAAAIAUJmdAAAAAgMKdZkAAAACgmYlmQAAAAGCPOmdAAAAAgD2aZ0AAAADgUQhoQAAAAGCPOmhAAAAAQOFKaEAAAAAghSNoQAAAAIAU/mdAAAAAYI+yZ0AAAABACm9nQAAAAEAzC2dAAAAAgD36ZkAAAAAAAGhmQAAAAEDhOmdAAAAA4KNYZ0AAAAAghZNnQAAAAEAza2dAAAAAAACAZ0AAAACgR1lnQAAAAOBR8GZAAAAAgBTOZkAAAABAM6tmQAAAAKBwtWZAAAAAAACAZkAAAADAHpVmQAAAAGC4zmZAAAAAIFzHZkAAAADAzJRmQAAAAIDrcWZAAAAAACmEZkAAAADA9XBmQAAAAAApLGZAAAAAoEe5ZUAAAAAA1zNlQAAAAIDCFWVAAAAAIK4PZUAAAACAFB5lQAAAAKCZgWVAAAAA4FFgZUAAAADgUVhlQAAAAKCZgWVAAAAAoEdJZUAAAADgo7BlQAAAAMD1oGVAAAAAQOHiZUAAAABA4VplQAAAAIDrQWVAAAAAYGYuZUAAAABgjzJlQAAAACCFQ2VAAAAA4FFQZUAAAAAgXC9lQAAAACBcB2VAAAAAYI8SZUAAAACAPRplQAAAAGBmHmVAAAAAIK4HZUAAAABAMwtlQAAAACCF42RAAAAAwB4FZUAAAABguMZlQAAAAAAAkGVAAAAA4KMIZUAAAAAAAABlQAAAAKCZ0WRAAAAAYI+CZEAAAADgo5hkQAAAAKBwnWRAAAAAYLjGZEAAAADAzARlQAAAAIDCJWVAAAAAQDOjZUAAAAAAAEBlQAAAACCFI2VAAAAA4HpcZUAAAADAHtVmQA==\"},\"shape\":[86],\"dtype\":\"float64\",\"order\":\"little\"}],[\"Close\",{\"type\":\"ndarray\",\"array\":{\"type\":\"bytes\",\"data\":\"AAAA4Ho0Z0AAAAAAAAhnQAAAAMAevWZAAAAAgMKlZkAAAACA6zFnQAAAAOB6JGdAAAAAgBRGZ0AAAABA4TJnQAAAAKBwPWdAAAAAACn0ZkAAAACAwtVmQAAAAAAplGdAAAAAgOvxZ0AAAADgejxoQAAAAIDCZWhAAAAAAABQaEAAAACgcEVoQAAAAKBwDWhAAAAAIFz3Z0AAAACgR4FnQAAAAMDMDGdAAAAAIIVbZ0AAAABAMztnQAAAAIDCdWdAAAAAoJmpZ0AAAADAHq1nQAAAAIA9imdAAAAAQDObZ0AAAADAzGRnQAAAAKBHIWdAAAAAwMwEZ0AAAAAghftmQAAAAIDryWZAAAAAgOuxZkAAAACAPcpmQAAAAADXC2dAAAAA4KPQZkAAAADAHqVmQAAAAAAp1GZAAAAAoHCtZkAAAAAAAJhmQAAAAMAedWZAAAAAQDPjZUAAAAAA10NlQAAAAADXI2VAAAAAAAAgZUAAAAAgXFdlQAAAAAAAmGVAAAAAIFynZUAAAAAAKWRlQAAAAAAAoGVAAAAAANeTZUAAAABACrdlQAAAAGCPAmZAAAAAoHBVZkAAAAAA12tlQAAAAMD1iGVAAAAAQDNbZUAAAABguDZlQAAAAIDrqWVAAAAAIFxvZUAAAADA9UBlQAAAAEDhGmVAAAAAwMw0ZUAAAACAPRplQAAAAGCPMmVAAAAAYGYOZUAAAACgcDVlQAAAAMD1+GRAAAAAoEfhZUAAAACgmRFmQAAAAIAUlmVAAAAAACksZUAAAAAAAABlQAAAAKBH4WRAAAAAAACgZEAAAABA4bpkQAAAAMDM3GRAAAAA4KMgZUAAAADgejxlQAAAAKCZKWVAAAAAAACwZUAAAABgj0plQAAAAKCZKWVAAAAAwPWgZUAAAAAAKexmQA==\"},\"shape\":[86],\"dtype\":\"float64\",\"order\":\"little\"}],[\"Volume\",{\"type\":\"ndarray\",\"array\":{\"type\":\"bytes\",\"data\":\"fK3qBKRVewPwYUoERKy2AzR5hgPIto0CxADKAtCj7QIcI2kCuAXpA5gB0gIoRqYEiOcYBAySlQOQS4YCRFkyA9SERANQc6gCgGLPAshYVAMYX04DmBLeA/BMHAbADycE8J2XAhhqLwPQB3ECgAOxAoyKfQJckl4DZJhBA4Rz5gMYYvYCQN8yA2SxeQJo6h0D1HiwAkiWbwI01zwDLPrqAmicJQiAVmEE1L7bBPCaqwW0kBYEbAxHBKhqiQTsp5UD+NyQA/zpIANcklgEvHRAB+iggQRghEoD/CsvA7QyVAYoAD0ErF88A3CtawOUspcD/BXqA/SSwQJctfACtLfXAtB2MwMgtoECXBE7AgDBhwL0gPYCXJ9tBdQwDgaYAWIEYL5kBNCwCAPUAJICxB4KBLAy3gII4/MCmEPgAlx1AwMALqwCuC4QBNAV7gP8yAAD9JqdBSSaugk=\"},\"shape\":[86],\"dtype\":\"int32\",\"order\":\"little\"}],[\"datetime\",{\"type\":\"ndarray\",\"array\":{\"type\":\"bytes\",\"data\":\"AAAAhXfMeEIAAMDqycx4QgAAgFAczXhCAABAtm7NeEIAAIDnZc54QgAAQE24znhCAAAAswrPeEIAAMAYXc94QgAAgH6vz3hCAACAFfnQeEIAAEB7S9F4QgAAAOGd0XhCAADARvDReEIAAAB459J4QgAAwN0503hCAACAQ4zTeEIAAECp3tN4QgAAAA8x1HhCAABAQCjVeEIAAACmetV4QgAAwAvN1XhCAACAcR/WeEIAAEDXcdZ4QgAAgAhp13hCAABAbrvXeEIAAADUDdh4QgAAwDlg2HhCAACAn7LYeEIAAMDQqdl4QgAAgDb82XhCAABAnE7aeEIAAAACodp4QgAAwGfz2nhCAADA/jzceEIAAIBkj9x4QgAAQMrh3HhCAAAAMDTdeEIAAEBhK954QgAAAMd93nhCAADALNDeeEIAAICSIt94QgAAQPh033hCAACAKWzgeEIAAECPvuB4QgAAAPUQ4XhCAADAWmPheEIAAIDAteF4QgAAwPGs4nhCAACAV//ieEIAAEC9UeN4QgAAACOk43hCAADAiPbjeEIAAAC67eR4QgAAwB9A5XhCAACAhZLleEIAAEDr5OV4QgAAAFE35nhCAABAgi7neEIAAADogOd4QgAAwE3T53hCAACAsyXoeEIAAIBKb+l4QgAAQLDB6XhCAAAAFhTqeEIAAMB7Zup4QgAAgOG46nhCAADAErDreEIAAIB4Aux4QgAAQN5U7HhCAAAARKfseEIAAMCp+ex4QgAAANvw7XhCAADAQEPueEIAAICmle54QgAAQAzo7nhCAAAAcjrveEIAAECjMfB4QgAAAAmE8HhCAADAbtbweEIAAIDUKPF4QgAAQDp78XhCAACAa3LyeEIAAEDRxPJ4QgAAADcX83hCAADAnGnzeEIAAIACvPN4Qg==\"},\"shape\":[86],\"dtype\":\"float64\",\"order\":\"little\"}],[\"inc\",{\"type\":\"ndarray\",\"array\":[\"0\",\"1\",\"0\",\"0\",\"1\",\"1\",\"1\",\"0\",\"0\",\"1\",\"1\",\"1\",\"1\",\"1\",\"1\",\"0\",\"0\",\"0\",\"0\",\"0\",\"0\",\"1\",\"1\",\"0\",\"1\",\"0\",\"0\",\"1\",\"0\",\"0\",\"0\",\"1\",\"0\",\"0\",\"1\",\"1\",\"0\",\"0\",\"1\",\"0\",\"0\",\"1\",\"0\",\"0\",\"0\",\"0\",\"1\",\"0\",\"1\",\"0\",\"1\",\"1\",\"0\",\"1\",\"1\",\"0\",\"1\",\"1\",\"0\",\"1\",\"0\",\"0\",\"0\",\"1\",\"0\",\"0\",\"0\",\"1\",\"0\",\"1\",\"1\",\"0\",\"0\",\"0\",\"0\",\"0\",\"1\",\"1\",\"1\",\"1\",\"0\",\"1\",\"0\",\"0\",\"1\",\"0\"],\"shape\":[86],\"dtype\":\"object\",\"order\":\"little\"}],[\"equity\",{\"type\":\"ndarray\",\"array\":{\"type\":\"bytes\",\"data\":\"AAAAAAAA8D8AAAAAAADwPwAAAAAAAPA/AAAAAAAA8D8AAAAAAADwPwAAAAAAAPA/AAAAAAAA8D8AAAAAAADwPwAAAAAAAPA/AAAAAAAA8D8AAAAAAADwPwAAAAAAAPA/AAAAAAAA8D8AAAAAAADwPwAAAAAAAPA/AAAAAAAA8D8AAAAAAADwPwAAAAAAAPA/AAAAAAAA8D8AAAAAAADwPwAAAAAAAPA/AAAAAAAA8D8AAAAAAADwPwAAAAAAAPA/AAAAAAAA8D8AAAAAAADwPwAAAAAAAPA/AAAAAAAA8D8AAAAAAADwPwAAAAAAAPA/AAAAAAAA8D8AAAAAAADwPwAAAAAAAPA/AAAAAAAA8D8AAAAAAADwPwAAAAAAAPA/AAAAAAAA8D8AAAAAAADwPwAAAAAAAPA/AAAAAAAA8D8AAAAAAADwPwAAAAAAAPA/AAAAAAAA8D8AAAAAAADwPwAAAAAAAPA/AAAAAAAA8D8AAAAAAADwPwAAAAAAAPA/AAAAAAAA8D8AAAAAAADwPwAAAAAAAPA/ociLU3Ma8D/zXq3htzTwPwJqYggTbfA//R2CMeyq8D/kI1KoM/nvP0cqhNxUEvA/uszZEF7g7z87Sk7766nvPxj2rHLtKvA/wQ6MkXT+7z9MKdhUNLnvP2xv4ONegO8/UzG+PQ6n7z80dx1/an/vP7sBj322o+8/V/tkmr5t7z/2jkPSAqjvPwv+p/C+Te8/bq0nQT1U8D+crEk+THjwPyKThEsfHPA/o4mgPyma7z/G0xvDQFjvP7xr+VZnKu8/GprbkvnI7j/ANaCzF/HuPyGn2Ka3I+8/TO8LvfeI7z+xZLekhLLvP4R4TR1Xlu8/FnRz+HYv8D8mEJ9JiMfvP4R4TR1Xlu8/fDGMwj0k8D+8Zup8e2nxPw==\"},\"shape\":[86],\"dtype\":\"float64\",\"order\":\"little\"}],[\"sma_indic\\u2026(20)_0_1\",{\"type\":\"ndarray\",\"array\":{\"type\":\"bytes\",\"data\":\"AAAAAAAA+H8AAAAAAAD4fwAAAAAAAPh/AAAAAAAA+H8AAAAAAAD4fwAAAAAAAPh/AAAAAAAA+H8AAAAAAAD4fwAAAAAAAPh/AAAAAAAA+H8AAAAAAAD4fwAAAAAAAPh/AAAAAAAA+H8AAAAAAAD4fwAAAAAAAPh/AAAAAAAA+H8AAAAAAAD4fwAAAAAAAPh/AAAAAAAA+H9mZmb2fnxnQGZmZg6DemdAzczMHLB+Z0AAAADw/YRnQGZmZlZkj2dAZmZmPmCVZ0DNzMw8NZxnQAAAALCdn2dAzczM/NSkZ0AzMzPLzKZnQDMzM1MOqWdAAAAAcGirZ0DNzMykxqNnQAAAANj5lGdAmpmZeT+BZ0BmZmYGrGxnQGZmZsZ2XGdAAAAA8NJJZ0AAAADYzjdnQM3MzHw/KWdAAAAA8KceZ0BmZmbm0BhnQAAAAMhLDWdAzczMlBj8ZkCamZkBAOBmQGZmZka2v2ZAZmZmVg6fZkAAAAB46YJmQAAAAOgmaWZAZmZmRuFSZkBmZma+nzxmQM3MzLTIKmZAzczMzMwYZkBmZmZWDgtmQDMzM7tJAmZAAAAAsHL8ZUAzMzPjpedlQM3MzJRD12VAMzMzm8TGZUAzMzOTGLJlQAAAALgepWVAmpmZuUmWZUBmZmZG4YZlQM3MzCzdfGVAmpmZqRx8ZUCamZnJoXtlQDMzM1uPfGVAAAAAeOl4ZUBmZmbm+3NlQM3MzJRDa2VAzczMHIVxZUCamZkxM3dlQGZmZt5Pd2VAzczMNF5wZUAzMzOjcGNlQM3MzPzUUGVAZmZm1qNGZUAzMzMDVjxlQGZmZhYENmVAZmZmduk0ZUCamZmhcC9lQM3MzLTzK2VAzczMBIExZUAzMzNT4zNlQAAAAPhTM2VAmpmZYRA6ZUDNzMzcJFBlQA==\"},\"shape\":[86],\"dtype\":\"float64\",\"order\":\"little\"}],[\"sma_indic\\u2026(50)_1_1\",{\"type\":\"ndarray\",\"array\":{\"type\":\"bytes\",\"data\":\"AAAAAAAA+H8AAAAAAAD4fwAAAAAAAPh/AAAAAAAA+H8AAAAAAAD4fwAAAAAAAPh/AAAAAAAA+H8AAAAAAAD4fwAAAAAAAPh/AAAAAAAA+H8AAAAAAAD4fwAAAAAAAPh/AAAAAAAA+H8AAAAAAAD4fwAAAAAAAPh/AAAAAAAA+H8AAAAAAAD4fwAAAAAAAPh/AAAAAAAA+H8AAAAAAAD4fwAAAAAAAPh/AAAAAAAA+H8AAAAAAAD4fwAAAAAAAPh/AAAAAAAA+H8AAAAAAAD4fwAAAAAAAPh/AAAAAAAA+H8AAAAAAAD4fwAAAAAAAPh/AAAAAAAA+H8AAAAAAAD4fwAAAAAAAPh/AAAAAAAA+H8AAAAAAAD4fwAAAAAAAPh/AAAAAAAA+H8AAAAAAAD4fwAAAAAAAPh/AAAAAAAA+H8AAAAAAAD4fwAAAAAAAPh/AAAAAAAA+H8AAAAAAAD4fwAAAAAAAPh/AAAAAAAA+H8AAAAAAAD4fwAAAAAAAPh/AAAAAAAA+H+kcD2qrfhmQKRwPbqW8GZASOF6RCXpZkCuR+Fq5+NmQFyPwtWj4GZApHA9+jrcZkBmZmbmatNmQClcj+KDymZAKVyP4hTBZkCkcD0KtbZmQFyPwjUasGZAPQrXM++oZkBxPQrHB51mQFK4HlV9jmZAmpmZ2fl+ZkB7FK4HG25mQDMzMyMoXmZAw/UoLLJNZkAAAADQIj9mQIXrUdjOL2ZAzczM7HwnZkCF61HIdiJmQLgehStlGWZAmpmZudoOZkCuR+FaQgJmQGZmZkYD9GVACtej8GPkZUAK16PQANZlQGZmZob0x2VAuB6FG1q8ZUDsUbjup7JlQI/C9egmqWVAcT0Kh4WiZUCamZm52pplQMP1KAwCk2VAj8L1+A+NZUBcj8LFbYxlQA==\"},\"shape\":[86],\"dtype\":\"float64\",\"order\":\"little\"}],[\"rsi(14)_2_1\",{\"type\":\"ndarray\",\"array\":{\"type\":\"bytes\",\"data\":\"AAAAAAAA+H8AAAAAAAD4fwAAAAAAAPh/AAAAAAAA+H8AAAAAAAD4fwAAAAAAAPh/AAAAAAAA+H8AAAAAAAD4fwAAAAAAAPh/AAAAAAAA+H8AAAAAAAD4fwAAAAAAAPh/AAAAAAAA+H9AeHVb2CBSQCjz3Z7cnFJAlPdAeILlUUBhCpYHMItRQEsVYWBoiU9AZ5c4Tss8TkDX7PDuWHBIQNl8dTiATURAA/NiJUKPR0Bdlr8vVHhGQOioSdmrv0hAi7OpwnaYSkDINOdlVrhKQCNJ4brhSElAxktEr/31SUDMKGUOHrhHQPOGnYrOQ0VAC1ayFGtPREDemHJTyP5DQC4k2OlHW0JAcsoTDNGaQUAVqiHTn/1CQALHv9Ufa0ZA7mHsrGM+RED4zXSgxcxCQDGIC3oLMUVAXbQVc9vXQ0BfEDF5KR5DQDgaRuyU90FAPHuomr1EPEAoNbZHPpk2QJSL2xi/qDVAtJqShx6LNUDQHEB+vY07QPoPr0Gm9UBAtgKnMaavQUA4xQYElwZAQMInOqvw1EJA8ps9Mll/QkAfDf1jSiZEQANd/CorYEdAnL+EAChkSkBmfrHTqqNDQEvpU8W/pURAg7YrtIeMQ0DaOfDk7LFCQHWKd79zvkZApr4cdHQ9RUAwZqPDCxtEQMk/RjwJM0NA6MgnQj0vREA026xIE39DQM7Blz0QfURAfEj/W2t5Q0CvkAXwtyJFQP2Ul+xUYENAvXu4vWU4S0C7cQ0H0nRMQBC6gtwUwkhAuzFto+waRkDqsoNxKRdFQKQbZpGpY0RAwN+zTp/yQkAXQHJDRuRDQKLrGhMPFkVAYQ6/n8FcR0B84nZpBkJIQH4TdXwyrUdA8vI2qCLDS0CdPILQ86ZIQOCXkdPluEdA2Iq06pkXS0AWIaHQKrhQQA==\"},\"shape\":[86],\"dtype\":\"float64\",\"order\":\"little\"}],[\"macd_diff_3_1\",{\"type\":\"ndarray\",\"array\":{\"type\":\"bytes\",\"data\":\"AAAAAAAA+H8AAAAAAAD4fwAAAAAAAPh/AAAAAAAA+H8AAAAAAAD4fwAAAAAAAPh/AAAAAAAA+H8AAAAAAAD4fwAAAAAAAPh/AAAAAAAA+H8AAAAAAAD4fwAAAAAAAPh/AAAAAAAA+H8AAAAAAAD4fwAAAAAAAPh/AAAAAAAA+H8AAAAAAAD4fwAAAAAAAPh/AAAAAAAA+H8AAAAAAAD4fwAAAAAAAPh/AAAAAAAA+H8AAAAAAAD4fwAAAAAAAPh/AAAAAAAA+H8AAAAAAAD4fwAAAAAAAPh/AAAAAAAA+H8AAAAAAAD4fwAAAAAAAPh/AAAAAAAA+H8AAAAAAAD4fwAAAAAAAPh/++MryHwE67/816m9urPpv2J65l00MeO/tGJFB0Kw4b8p3vY6RlzivxAlqWVKFN2/QP9kFgYW278AefT5ZHjav5jNdVLBZ9y/1t8YXQb55r9V6qFgUH3yvxBxGWwRqfa/pj0bgibj97/qLGh63EL1v+4dIPtcA/C/eGm1WZvd5b/E7u9QtqrhvzABlmD1jdK/ICqFATEyur+AUfALX5S/P4jjIFX7PNw/oHT6VDsL6j9QXRDImy/iP4j4BtRzId4/oKPCtW+H1D/Q5e3co+zEP4gl/kOg99M/qG938J4E0z+AjwXUQCbKPyBsGqIcYbU/QIPcCT86tD+AOLmv4eilP0AQw+aBB7c/4HliErrrsD9gCnYUhQvDP2C9ABDIWbg/wINVMT5c4T/MA/g3rjHtP3KtZIh+0es/xIIXfopL4z+kd2LtrEXVP1Al3ypkb7k/QIRVTuJhxb9Ma/eoOWbQvxDiGJnjhsu/QMA4LDXNmr/Q7LUDgTTFP7zuYj4zXtA/TBwyDVWj4j9wb4anRDLiP4BlfYgIjt4/muT/Xwal5D/XfZXGtjL2Pw==\"},\"shape\":[86],\"dtype\":\"float64\",\"order\":\"little\"}],[\"stoch(14)_4_1\",{\"type\":\"ndarray\",\"array\":{\"type\":\"bytes\",\"data\":\"AAAAAAAA+H8AAAAAAAD4fwAAAAAAAPh/AAAAAAAA+H8AAAAAAAD4fwAAAAAAAPh/AAAAAAAA+H8AAAAAAAD4fwAAAAAAAPh/AAAAAAAA+H8AAAAAAAD4fwAAAAAAAPh/AAAAAAAA+H8B3nVjFaBWQJpS/sXZFVhAcd9Ukr0ZVkBvR7Asc5dVQAuWccvg11JACfyKE0DFUUBZMYKALxFIQNxHsg1ZfzlAfq6SVONlREAiF5+xs0NDQDZznvgdm0hAyX2a4qFVTUBzWCPp06dNQDQdn2xaeUpAH9jc7mEFTEBMuGB2Fg9HQGaAHoNmAkFAkzqJm62XP0A2bVSfmsxBQFUv9uXnYThAJx8c0oSTM0DZ0g9oWgQ6QI/TET7ksUVAHRDTxTLONkAVy79r2/4kQEWZo0AMuDpA0RD7WkrVMUAGQV0wtFMnQLS/3ZniMTRAl/PEel4YJUAA0QXBMyQJQOzzCUwZhAVAFJUVfP6mCECZ83RvwxErQAWssZZ7vTlAZHWEPPSjPEBoRotAQecvQFEB/JSPOj1AXMKNohfEOkDG/JB6zd9BQBfrAuv+80pAdA9ceEsjVUDRaPNOako8QHB9p9lqnUJAjNqppccuN0Bz6pGh9vcnQKY5tW7QdEZA2tW2OXAENkD+h9sGqykZQLR8L3clXxdAoC9iXPkzK0A0bwvoFZsWQJjTddG33ClAg2/tU7vbAECU2CpMFJYrQJuSb9yc0RlAO2734hK+V0AAAAAAUPpUQFVVVVXNzEhAVVVVVYUtNEDkOI7j+KQfQOmjouKEmBBAWKI5si/FGUCf4T5RWKYoQMRa28lyvzNA3WWFhgNMQUA68pll11dEQDznMjv+RkJAKaXcKNl9UED208TKPeJFQDznMjv+RkJAgbrbCCTUUUBInYdYLg1VQA==\"},\"shape\":[86],\"dtype\":\"float64\",\"order\":\"little\"}],[\"stoch_sig\\u2026(14)_5_1\",{\"type\":\"ndarray\",\"array\":{\"type\":\"bytes\",\"data\":\"AAAAAAAA+H8AAAAAAAD4fwAAAAAAAPh/AAAAAAAA+H8AAAAAAAD4fwAAAAAAAPh/AAAAAAAA+H8AAAAAAAD4fwAAAAAAAPh/AAAAAAAA+H8AAAAAAAD4fwAAAAAAAPh/AAAAAAAA+H8AAAAAAAD4fwAAAAAAAPh/r1qYPuTvVkDUfVYsrpdWQE6UJy5b2FRAgUjkA9xmU0CV42mKPTdQQMgZew90HkhAl1ZPyT8SQ0DbTa7Za3hBQPES8FQ8bEVAYK3yLtFmSEDQbcmWht1LQHumyRLwfExAQ2+KwdoMTECL5J7w8NlJQJsFdE1KskZAqZwW7RufQkBNLr36R95AQHHBYpVDhj5ATbiTp+CEOkBxYAtgQlM3QLXdb+c3qT1AsdisOMe8PkDt3pxSeJA5QPmExz7kATRAi9rUxZZZMkDdGO87EL0yQAN7Aq9XkDBAV5H09EdFLEAVTes0EJcmQIyYsH721hVAAB63LRnFB0CQjqjrsL0ZQKPlSWnTPCxAE4mlg3CjNkDgln4msHE3QKMIQnthmzhA9czvR237N0BolI65wJQ+QK/tSBJIZ0NA7axux8sITUDNlBEBmcpLQJXFnVASA0lAwBSk4leRPUCNQ+uN3SE4QLNr9Jt2sTpAIWqjIgROOkBkDkhIKWg4QFwP0ZBtxCZAq5AiiSAoIUCJjKquB7sgQJ+T9LW+dCVAE5qkESGWG0CxAjSmkzgjQNxT6bSLzh1ApYGC0fQzQ0DtRNR1qONOQE0INi9DClNAVVVVVWWdSUBpL6G9dOU5QAiz69ntfSVAvH8jKI+rGEAwAx69IY4eQB94Wz9HrSlAcDLX/+E4NkCoA16LDa0/QBwVxredo0JARGHXUC3eR0CDrOXHpGFIQIOs5cekYUhAvbqPstZFSUDNQ1QqmwFQQA==\"},\"shape\":[86],\"dtype\":\"float64\",\"order\":\"little\"}],[\"cci(20)_6_1\",{\"type\":\"ndarray\",\"array\":{\"type\":\"bytes\",\"data\":\"AAAAAAAA+H8AAAAAAAD4fwAAAAAAAPh/AAAAAAAA+H8AAAAAAAD4fwAAAAAAAPh/AAAAAAAA+H8AAAAAAAD4fwAAAAAAAPh/AAAAAAAA+H8AAAAAAAD4fwAAAAAAAPh/AAAAAAAA+H8AAAAAAAD4fwAAAAAAAPh/AAAAAAAA+H8AAAAAAAD4fwAAAAAAAPh/AAAAAAAA+H+M7uHPc402QG7zSvMSgkPAMgo5O5DzPsBaY7E+WWhPwDQCOLd6ICXAQMrjogeN9T+YOBFyBiY0QNHFTr7BHCDAkVDLdari5L9ybRrM3o1AwE2yjOMCt1fAlb1verIOXsBGWIn2j0hfwO0nIDKBIl3AyLSARkrDYMBB36Fo2rBbwA7ZlaoKiE/ArPg/3tvkUcAL0n3PQcxawIwDCKxtC1bAF4Jl36CHV8C5pi1GdPNYwC1irU8zmGDAhJ4jacSpaMCm+iuuNL5vwOjpEIDFTmzA86KVmdGPZ8BtafLcJnlgwJpITP6BP1bA+6te1SEtVMCuV2Y/hNhUwECc5yqDokzAmWtJaMKzUMB8Xn/0nLw0wDIrazqVISvAbj1Z6As4OEAnuHrJZ+dCwKSQRxWyCE3A19joI003UsCTgOsEKgtUwCg20+yJPTnA4ma54vAiR8CjueXYNppUwKPnxHghTGDANHfRESoKV8AXuWiXWAxVwPPza6svcFfA77SR0h6FXsDLJQgvozhVwIhZ3S4nBV7AIf74gvv0R0AEIi75smhiQDfvDcAgN1BA4R+is3h7QMB+ptzj0GtTwMCMAjk/5l/AFtwqrnJBaMAXKB5+AQ5iwGqzGg3TY13AiKmDZIrHSMBffL950UfiP5h61VPQ0DFAIo89dnznYkB/ngitvDlPQKJbsIKKoTBAeL+MV4krUkD6x0XIV1JyQA==\"},\"shape\":[86],\"dtype\":\"float64\",\"order\":\"little\"}],[\"average_t\\u2026(14)_7_1\",{\"type\":\"ndarray\",\"array\":{\"type\":\"bytes\",\"data\":\"AAAAAAAAAAAAAAAAAAAAAAAAAAAAAAAAAAAAAAAAAAAAAAAAAAAAAAAAAAAAAAAAAAAAAAAAAAAAAAAAAAAAAAAAAAAAAAAAAAAAAAAAAAAAAAAAAAAAAAAAAAAAAAAAAAAAAAAAAAAAAAAAAE8MQLdt27Y5YgtAcwpeTuuXCkD9m+kR538KQCKjxtncNwpAMgVdE+X3CUBmqWhtdpYKQN/BBUEUzApAT8ZgPPKrCkBuSjWBOWINQIqg+vfBOw1Apblor8SYDEA+Yyo1y/ILQLmA8NUZNAtAh3eoRsZlCkD+bpxBbbAJQOsdyHMp7wlAo9I5WfXYCUCXQ9rSp8sJQA3RE9YnxQlAH0LJRmdRCUDTmCidqcgIQJ/7N6SqhQhA7/szBlNgCEDwaXnzP9cHQKh0XvQboQhAUmzFGSOUCEC6Le6XaI8IQJpz70NKuwhAM6Lw9cBRCkAvu/EIIpILQBnAclF5EAtAYLIz8EJpCkAQATAooj4LQCFKmrdjYgtA1kQPT24nC0Drv7LbOaAKQBFpAUyKigpA2XNKtKYxCkC3tGmnRTsLQM8n4vYGVQtArpL2UvFsC0ChY8A63fANQINcINvEgg1AVTHnpiEFDUDz9mj2pP8LQCqcqpu4OAxA3kfVIkXOC0ApnurEZPYKQG+3kCSuEApAMGGGRkJnCUA/WqGKOVwJQINBcW4pcghAHk+yLyx3B0BSAAGaKccGQE2AJVgknQZAI/drdhtjCUB7Za1b+PEJQM4CIVW0cwpACF4MTx6zC0B1oNQkRDwLQP+UDtn7ewpANkH7JLRICkCOvMT9VNQJQKjTf6KcMwlAiUSbBM4qCUCjv7Tfd8YIQPKx3phpPQhAz8nOxKtaCkDSluR/u1ILQMP5wfa8bQtAfoyPwOHSC0CoXLCr2+gQQA==\"},\"shape\":[86],\"dtype\":\"float64\",\"order\":\"little\"}],[\"money_flo\\u2026(14)_8_1\",{\"type\":\"ndarray\",\"array\":{\"type\":\"bytes\",\"data\":\"AAAAAAAA+H8AAAAAAAD4fwAAAAAAAPh/AAAAAAAA+H8AAAAAAAD4fwAAAAAAAPh/AAAAAAAA+H8AAAAAAAD4fwAAAAAAAPh/AAAAAAAA+H8AAAAAAAD4fwAAAAAAAPh/AAAAAAAA+H8rzg4+XLVKQAb1zPHwAkxAbdQ598GfT0BI4C6W6xNQQNBH6yDdYVBAkiwcb+pRTUCDzv1UkgJKQDE8eXshuEZA3RhN6Z9aSkD2uwhlCBpGQDoiJnmGCkpAMSj1MbWtTEA3MdnYkA5MQNNfhItcr0hA+Dbc7R4lSEDltJPHK2NFQKjG3/ZNzkFAPJaQqmrhQUBmtYPgYXlBQFLYY5v8dkFAmt1jBh6QQUD6iyta+X1EQONgz4vR/ENAa4cH7UmXRUDa/VKAo2RBQH6GQmu20kFAlCufN4IEPECIf8uwVrU4QGACGUM5MzJARFsr54RxMUAASpAKQNEwQDQeMJ1KpzBASAKZc+WiMECMa62Ivw84QOQVpkaWLz5AlGYlCss/OUDo/0044KkzQOjPqxf4bjpAVDenB5+HOEB0Dn8LQ9o5QMAd0SABzT5Ajm3ZWKtsQ0AToyF8at1CQFgXW1AoFUNA0KWWj2TaQ0D17ZC9FRJEQPmzfqj4W0dA/OE3j8W0Q0AgbVkPXdhAQJD57PWuDUFAzZiq586nQ0BVbYiirvtCQCi0QjjDy0RAZlKw8rwGQUDELB4QFWtAQBwzllKzBTpAFxrlnCBIQ0AEH5ZWiQdJQBZdauq1ZkhAMhyXb6DsR0AJGwHYGY1EQB6MlY3jJ0VAzcQOcu+nREC7iQjgzY1HQAXWaL/plEdA9VXf3glkR0A4N4FeOjJKQGKlaZDYokxAePzg2nFRTUAHzkrDWLxMQA1FfXd2qEhAlYDwTIZbSEDcxZoj7jNPQA==\"},\"shape\":[86],\"dtype\":\"float64\",\"order\":\"little\"}],[\"ohlc_low\",{\"type\":\"ndarray\",\"array\":{\"type\":\"bytes\",\"data\":\"AAAA4Hr8ZkAAAACAwu1mQAAAAAApnGZAAAAAoHCFZkAAAAAAALBmQAAAACBc12ZAAAAAoHD9ZkAAAAAA1/NmQAAAAIAUJmdAAAAAgMKdZkAAAACgmYlmQAAAAGCPOmdAAAAAgD2aZ0AAAADgUQhoQAAAAGCPOmhAAAAAQOFKaEAAAAAghSNoQAAAAIAU/mdAAAAAYI+yZ0AAAABACm9nQAAAAEAzC2dAAAAAgD36ZkAAAAAAAGhmQAAAAEDhOmdAAAAA4KNYZ0AAAAAghZNnQAAAAEAza2dAAAAAAACAZ0AAAACgR1lnQAAAAOBR8GZAAAAAgBTOZkAAAABAM6tmQAAAAKBwtWZAAAAAAACAZkAAAADAHpVmQAAAAGC4zmZAAAAAIFzHZkAAAADAzJRmQAAAAIDrcWZAAAAAACmEZkAAAADA9XBmQAAAAAApLGZAAAAAoEe5ZUAAAAAA1zNlQAAAAIDCFWVAAAAAIK4PZUAAAACAFB5lQAAAAKCZgWVAAAAA4FFgZUAAAADgUVhlQAAAAKCZgWVAAAAAoEdJZUAAAADgo7BlQAAAAMD1oGVAAAAAQOHiZUAAAABA4VplQAAAAIDrQWVAAAAAYGYuZUAAAABgjzJlQAAAACCFQ2VAAAAA4FFQZUAAAAAgXC9lQAAAACBcB2VAAAAAYI8SZUAAAACAPRplQAAAAGBmHmVAAAAAIK4HZUAAAABAMwtlQAAAACCF42RAAAAAwB4FZUCamZkxM3dlQGZmZt5Pd2VAAAAA4KMIZUAAAAAAAABlQAAAAKCZ0WRAAAAAYI+CZEAAAADgo5hkQAAAAKBwnWRAAAAAYLjGZEAAAADAzARlQAAAAIDCJWVAzczMBIExZUAzMzNT4zNlQAAAACCFI2VAmpmZYRA6ZUDNzMzcJFBlQA==\"},\"shape\":[86],\"dtype\":\"float64\",\"order\":\"little\"}],[\"ohlc_high\",{\"type\":\"ndarray\",\"array\":{\"type\":\"bytes\",\"data\":\"AAAAgBSOZ0AAAAAAKTxnQAAAAEDh4mZAAAAA4FHYZkAAAABAMzNnQAAAAMDMJGdAAAAAwMxMZ0AAAACgmWFnQAAAACCuV2dAAAAA4FEIZ0AAAACAwt1mQAAAAOB6pGdAAAAAYGb+Z0AAAABgj2poQAAAAAAAeGhAAAAAACmMaEAAAADgo4hoQAAAAOBRWGhAAAAAYGYGaEAAAACgmflnQGZmZg6DemdAzczMHLB+Z0AAAADw/YRnQAAAAAAAqGdAAAAAgOupZ0AAAACgmeFnQAAAAKBHsWdAAAAAIK6/Z0AzMzPLzKZnQDMzM1MOqWdAAAAAcGirZ0DNzMykxqNnQAAAANj5lGdAmpmZeT+BZ0BmZmYGrGxnQGZmZsZ2XGdAAAAA8NJJZ0AAAADYzjdnQM3MzHw/KWdAAAAA8KceZ0BmZmbm0BhnQAAAAMhLDWdAzczMlBj8ZkCamZkBAOBmQGZmZka2v2ZAZmZmVg6fZkAAAAB46YJmQAAAAOgmaWZAZmZmRuFSZkBmZma+nzxmQM3MzLTIKmZAzczMzMwYZkAAAABguDZmQAAAACCFE2ZAAAAAoHBVZkAAAAAgri9mQM3MzJRD12VAMzMzm8TGZUAzMzOTGLJlQAAAAEAzs2VAmpmZuUmWZUBmZmZG4YZlQM3MzCzdfGVAmpmZqRx8ZUAAAACgcH1lQDMzM1uPfGVAAAAAeOl4ZUBmZmbm+3NlQM3MzJRDa2VAAAAAYLjuZUAAAAAghUtmQAAAAAApFGZAAAAA4FG4ZUAzMzOjcGNlQM3MzPzUUGVAZmZm1qNGZUAzMzMDVjxlQGZmZhYENmVAZmZmduk0ZUAAAAAghVNlQAAAAEDhamVAAAAAwPUAZkAAAAAgrt9lQAAAAGC4lmVAAAAAoHCtZUAAAAAAAGBnQA==\"},\"shape\":[86],\"dtype\":\"float64\",\"order\":\"little\"}]]}}},\"view\":{\"type\":\"object\",\"name\":\"CDSView\",\"id\":\"p2522\",\"attributes\":{\"filter\":{\"type\":\"object\",\"name\":\"AllIndices\",\"id\":\"p2523\"}}},\"glyph\":{\"type\":\"object\",\"name\":\"Line\",\"id\":\"p2518\",\"attributes\":{\"x\":{\"type\":\"field\",\"field\":\"index\"},\"y\":{\"type\":\"field\",\"field\":\"equity\"},\"line_color\":\"#1f77b4\",\"line_width\":1.5}},\"nonselection_glyph\":{\"type\":\"object\",\"name\":\"Line\",\"id\":\"p2519\",\"attributes\":{\"x\":{\"type\":\"field\",\"field\":\"index\"},\"y\":{\"type\":\"field\",\"field\":\"equity\"},\"line_color\":\"#1f77b4\",\"line_alpha\":0.1,\"line_width\":1.5}},\"muted_glyph\":{\"type\":\"object\",\"name\":\"Line\",\"id\":\"p2520\",\"attributes\":{\"x\":{\"type\":\"field\",\"field\":\"index\"},\"y\":{\"type\":\"field\",\"field\":\"equity\"},\"line_color\":\"#1f77b4\",\"line_alpha\":0.2,\"line_width\":1.5}}}}],\"tooltips\":[[\"Date\",\"@datetime{%c}\"],[\"Equity\",\"@equity{+0,0.[000]%}\"]],\"formatters\":{\"type\":\"map\",\"entries\":[[\"@datetime\",\"datetime\"]]},\"mode\":\"vline\",\"point_policy\":\"follow_mouse\"}},{\"type\":\"object\",\"name\":\"HoverTool\",\"id\":\"p2619\",\"attributes\":{\"renderers\":[{\"type\":\"object\",\"name\":\"GlyphRenderer\",\"id\":\"p2607\",\"attributes\":{\"data_source\":{\"type\":\"object\",\"name\":\"ColumnDataSource\",\"id\":\"p2462\",\"attributes\":{\"selected\":{\"type\":\"object\",\"name\":\"Selection\",\"id\":\"p2463\",\"attributes\":{\"indices\":[],\"line_indices\":[]}},\"selection_policy\":{\"type\":\"object\",\"name\":\"UnionRenderers\",\"id\":\"p2464\"},\"data\":{\"type\":\"map\",\"entries\":[[\"index\",{\"type\":\"ndarray\",\"array\":{\"type\":\"bytes\",\"data\":\"VQAAAA==\"},\"shape\":[1],\"dtype\":\"int32\",\"order\":\"little\"}],[\"datetime\",{\"type\":\"ndarray\",\"array\":{\"type\":\"bytes\",\"data\":\"AACAArzzeEI=\"},\"shape\":[1],\"dtype\":\"float64\",\"order\":\"little\"}],[\"exit_price\",{\"type\":\"ndarray\",\"array\":{\"type\":\"bytes\",\"data\":\"AAAAwMxUZ0A=\"},\"shape\":[1],\"dtype\":\"float64\",\"order\":\"little\"}],[\"size\",{\"type\":\"ndarray\",\"array\":{\"type\":\"bytes\",\"data\":\"RwIAAA==\"},\"shape\":[1],\"dtype\":\"int32\",\"order\":\"little\"}],[\"returns_positive\",{\"type\":\"ndarray\",\"array\":[\"1\"],\"shape\":[1],\"dtype\":\"object\",\"order\":\"little\"}],[\"returns_long\",{\"type\":\"ndarray\",\"array\":{\"type\":\"bytes\",\"data\":\"0IaxzzKYtj8=\"},\"shape\":[1],\"dtype\":\"float64\",\"order\":\"little\"}],[\"returns_short\",{\"type\":\"ndarray\",\"array\":{\"type\":\"bytes\",\"data\":\"AAAAAAAA+H8=\"},\"shape\":[1],\"dtype\":\"float64\",\"order\":\"little\"}],[\"marker_size\",{\"type\":\"ndarray\",\"array\":{\"type\":\"bytes\",\"data\":\"AAAAAAAANEA=\"},\"shape\":[1],\"dtype\":\"float64\",\"order\":\"little\"}],[\"position_lines_xs\",[[51,85]]],[\"position_lines_ys\",[[171.5123381652832,186.64999389648438]]]]}}},\"view\":{\"type\":\"object\",\"name\":\"CDSView\",\"id\":\"p2608\",\"attributes\":{\"filter\":{\"type\":\"object\",\"name\":\"AllIndices\",\"id\":\"p2609\"}}},\"glyph\":{\"type\":\"object\",\"name\":\"Scatter\",\"id\":\"p2604\",\"attributes\":{\"x\":{\"type\":\"field\",\"field\":\"index\"},\"y\":{\"type\":\"field\",\"field\":\"returns_long\"},\"size\":{\"type\":\"field\",\"field\":\"marker_size\"},\"fill_color\":{\"type\":\"field\",\"field\":\"returns_positive\",\"transform\":{\"type\":\"object\",\"name\":\"CategoricalColorMapper\",\"id\":\"p2466\",\"attributes\":{\"palette\":[\"tomato\",\"lime\"],\"factors\":[\"0\",\"1\"]}}},\"marker\":{\"type\":\"value\",\"value\":\"triangle\"}}},\"nonselection_glyph\":{\"type\":\"object\",\"name\":\"Scatter\",\"id\":\"p2605\",\"attributes\":{\"x\":{\"type\":\"field\",\"field\":\"index\"},\"y\":{\"type\":\"field\",\"field\":\"returns_long\"},\"size\":{\"type\":\"field\",\"field\":\"marker_size\"},\"line_alpha\":{\"type\":\"value\",\"value\":0.1},\"fill_color\":{\"type\":\"field\",\"field\":\"returns_positive\",\"transform\":{\"id\":\"p2466\"}},\"fill_alpha\":{\"type\":\"value\",\"value\":0.1},\"hatch_alpha\":{\"type\":\"value\",\"value\":0.1},\"marker\":{\"type\":\"value\",\"value\":\"triangle\"}}},\"muted_glyph\":{\"type\":\"object\",\"name\":\"Scatter\",\"id\":\"p2606\",\"attributes\":{\"x\":{\"type\":\"field\",\"field\":\"index\"},\"y\":{\"type\":\"field\",\"field\":\"returns_long\"},\"size\":{\"type\":\"field\",\"field\":\"marker_size\"},\"line_alpha\":{\"type\":\"value\",\"value\":0.2},\"fill_color\":{\"type\":\"field\",\"field\":\"returns_positive\",\"transform\":{\"id\":\"p2466\"}},\"fill_alpha\":{\"type\":\"value\",\"value\":0.2},\"hatch_alpha\":{\"type\":\"value\",\"value\":0.2},\"marker\":{\"type\":\"value\",\"value\":\"triangle\"}}}}}],\"tooltips\":[[\"Date\",\"@datetime{%c}\"],[\"Size\",\"@size{0,0}\"],[\"P/L\",\"@returns_long{+0.[000]%}\"]],\"formatters\":{\"type\":\"map\",\"entries\":[[\"@datetime\",\"datetime\"]]},\"point_policy\":\"follow_mouse\"}},{\"type\":\"object\",\"name\":\"HoverTool\",\"id\":\"p2620\",\"attributes\":{\"renderers\":[{\"type\":\"object\",\"name\":\"GlyphRenderer\",\"id\":\"p2616\",\"attributes\":{\"data_source\":{\"id\":\"p2462\"},\"view\":{\"type\":\"object\",\"name\":\"CDSView\",\"id\":\"p2617\",\"attributes\":{\"filter\":{\"type\":\"object\",\"name\":\"AllIndices\",\"id\":\"p2618\"}}},\"glyph\":{\"type\":\"object\",\"name\":\"Scatter\",\"id\":\"p2613\",\"attributes\":{\"x\":{\"type\":\"field\",\"field\":\"index\"},\"y\":{\"type\":\"field\",\"field\":\"returns_short\"},\"size\":{\"type\":\"field\",\"field\":\"marker_size\"},\"fill_color\":{\"type\":\"field\",\"field\":\"returns_positive\",\"transform\":{\"id\":\"p2466\"}},\"marker\":{\"type\":\"value\",\"value\":\"inverted_triangle\"}}},\"nonselection_glyph\":{\"type\":\"object\",\"name\":\"Scatter\",\"id\":\"p2614\",\"attributes\":{\"x\":{\"type\":\"field\",\"field\":\"index\"},\"y\":{\"type\":\"field\",\"field\":\"returns_short\"},\"size\":{\"type\":\"field\",\"field\":\"marker_size\"},\"line_alpha\":{\"type\":\"value\",\"value\":0.1},\"fill_color\":{\"type\":\"field\",\"field\":\"returns_positive\",\"transform\":{\"id\":\"p2466\"}},\"fill_alpha\":{\"type\":\"value\",\"value\":0.1},\"hatch_alpha\":{\"type\":\"value\",\"value\":0.1},\"marker\":{\"type\":\"value\",\"value\":\"inverted_triangle\"}}},\"muted_glyph\":{\"type\":\"object\",\"name\":\"Scatter\",\"id\":\"p2615\",\"attributes\":{\"x\":{\"type\":\"field\",\"field\":\"index\"},\"y\":{\"type\":\"field\",\"field\":\"returns_short\"},\"size\":{\"type\":\"field\",\"field\":\"marker_size\"},\"line_alpha\":{\"type\":\"value\",\"value\":0.2},\"fill_color\":{\"type\":\"field\",\"field\":\"returns_positive\",\"transform\":{\"id\":\"p2466\"}},\"fill_alpha\":{\"type\":\"value\",\"value\":0.2},\"hatch_alpha\":{\"type\":\"value\",\"value\":0.2},\"marker\":{\"type\":\"value\",\"value\":\"inverted_triangle\"}}}}}],\"tooltips\":[[\"Date\",\"@datetime{%c}\"],[\"Size\",\"@size{0,0}\"],[\"P/L\",\"@returns_short{+0.[000]%}\"]],\"formatters\":{\"type\":\"map\",\"entries\":[[\"@datetime\",\"datetime\"]]},\"point_policy\":\"follow_mouse\"}},{\"type\":\"object\",\"name\":\"HoverTool\",\"id\":\"p3088\",\"attributes\":{\"renderers\":[{\"type\":\"object\",\"name\":\"GlyphRenderer\",\"id\":\"p2703\",\"attributes\":{\"data_source\":{\"id\":\"p2459\"},\"view\":{\"type\":\"object\",\"name\":\"CDSView\",\"id\":\"p2704\",\"attributes\":{\"filter\":{\"type\":\"object\",\"name\":\"AllIndices\",\"id\":\"p2705\"}}},\"glyph\":{\"type\":\"object\",\"name\":\"VBar\",\"id\":\"p2700\",\"attributes\":{\"x\":{\"type\":\"field\",\"field\":\"index\"},\"width\":{\"type\":\"value\",\"value\":0.8},\"bottom\":{\"type\":\"field\",\"field\":\"Close\"},\"top\":{\"type\":\"field\",\"field\":\"Open\"},\"fill_color\":{\"type\":\"field\",\"field\":\"inc\",\"transform\":{\"type\":\"object\",\"name\":\"CategoricalColorMapper\",\"id\":\"p2465\",\"attributes\":{\"palette\":[\"tomato\",\"lime\"],\"factors\":[\"0\",\"1\"]}}}}},\"nonselection_glyph\":{\"type\":\"object\",\"name\":\"VBar\",\"id\":\"p2701\",\"attributes\":{\"x\":{\"type\":\"field\",\"field\":\"index\"},\"width\":{\"type\":\"value\",\"value\":0.8},\"bottom\":{\"type\":\"field\",\"field\":\"Close\"},\"top\":{\"type\":\"field\",\"field\":\"Open\"},\"line_alpha\":{\"type\":\"value\",\"value\":0.1},\"fill_color\":{\"type\":\"field\",\"field\":\"inc\",\"transform\":{\"id\":\"p2465\"}},\"fill_alpha\":{\"type\":\"value\",\"value\":0.1},\"hatch_alpha\":{\"type\":\"value\",\"value\":0.1}}},\"muted_glyph\":{\"type\":\"object\",\"name\":\"VBar\",\"id\":\"p2702\",\"attributes\":{\"x\":{\"type\":\"field\",\"field\":\"index\"},\"width\":{\"type\":\"value\",\"value\":0.8},\"bottom\":{\"type\":\"field\",\"field\":\"Close\"},\"top\":{\"type\":\"field\",\"field\":\"Open\"},\"line_alpha\":{\"type\":\"value\",\"value\":0.2},\"fill_color\":{\"type\":\"field\",\"field\":\"inc\",\"transform\":{\"id\":\"p2465\"}},\"fill_alpha\":{\"type\":\"value\",\"value\":0.2},\"hatch_alpha\":{\"type\":\"value\",\"value\":0.2}}}}}],\"tooltips\":[[\"Date\",\"@datetime{%c}\"],[\"x, y\",\"$index\\u00a0\\u00a0\\u00a0\\u00a0$y{0,0.0[0000]}\"],[\"OHLC\",\"@Open{0,0.0[0000]}\\u00a0\\u00a0\\u00a0\\u00a0@High{0,0.0[0000]}\\u00a0\\u00a0\\u00a0\\u00a0@Low{0,0.0[0000]}\\u00a0\\u00a0\\u00a0\\u00a0@Close{0,0.0[0000]}\"],[\"Volume\",\"@Volume{0,0}\"],[\"sma_indic\\u2026(20)\",\"@{sma_indic\\u2026(20)_0_1}{0,0.0[0000]}\"]],\"formatters\":{\"type\":\"map\",\"entries\":[[\"@datetime\",\"datetime\"]]},\"mode\":\"vline\",\"point_policy\":\"follow_mouse\"}},{\"type\":\"object\",\"name\":\"HoverTool\",\"id\":\"p2664\",\"attributes\":{\"renderers\":[{\"type\":\"object\",\"name\":\"GlyphRenderer\",\"id\":\"p2661\",\"attributes\":{\"data_source\":{\"id\":\"p2459\"},\"view\":{\"type\":\"object\",\"name\":\"CDSView\",\"id\":\"p2662\",\"attributes\":{\"filter\":{\"type\":\"object\",\"name\":\"AllIndices\",\"id\":\"p2663\"}}},\"glyph\":{\"type\":\"object\",\"name\":\"VBar\",\"id\":\"p2658\",\"attributes\":{\"x\":{\"type\":\"field\",\"field\":\"index\"},\"width\":{\"type\":\"value\",\"value\":0.8},\"top\":{\"type\":\"field\",\"field\":\"Volume\"},\"line_color\":{\"type\":\"field\",\"field\":\"inc\",\"transform\":{\"id\":\"p2465\"}},\"fill_color\":{\"type\":\"field\",\"field\":\"inc\",\"transform\":{\"id\":\"p2465\"}},\"hatch_color\":{\"type\":\"field\",\"field\":\"inc\",\"transform\":{\"id\":\"p2465\"}}}},\"nonselection_glyph\":{\"type\":\"object\",\"name\":\"VBar\",\"id\":\"p2659\",\"attributes\":{\"x\":{\"type\":\"field\",\"field\":\"index\"},\"width\":{\"type\":\"value\",\"value\":0.8},\"top\":{\"type\":\"field\",\"field\":\"Volume\"},\"line_color\":{\"type\":\"field\",\"field\":\"inc\",\"transform\":{\"id\":\"p2465\"}},\"line_alpha\":{\"type\":\"value\",\"value\":0.1},\"fill_color\":{\"type\":\"field\",\"field\":\"inc\",\"transform\":{\"id\":\"p2465\"}},\"fill_alpha\":{\"type\":\"value\",\"value\":0.1},\"hatch_color\":{\"type\":\"field\",\"field\":\"inc\",\"transform\":{\"id\":\"p2465\"}},\"hatch_alpha\":{\"type\":\"value\",\"value\":0.1}}},\"muted_glyph\":{\"type\":\"object\",\"name\":\"VBar\",\"id\":\"p2660\",\"attributes\":{\"x\":{\"type\":\"field\",\"field\":\"index\"},\"width\":{\"type\":\"value\",\"value\":0.8},\"top\":{\"type\":\"field\",\"field\":\"Volume\"},\"line_color\":{\"type\":\"field\",\"field\":\"inc\",\"transform\":{\"id\":\"p2465\"}},\"line_alpha\":{\"type\":\"value\",\"value\":0.2},\"fill_color\":{\"type\":\"field\",\"field\":\"inc\",\"transform\":{\"id\":\"p2465\"}},\"fill_alpha\":{\"type\":\"value\",\"value\":0.2},\"hatch_color\":{\"type\":\"field\",\"field\":\"inc\",\"transform\":{\"id\":\"p2465\"}},\"hatch_alpha\":{\"type\":\"value\",\"value\":0.2}}}}}],\"tooltips\":[[\"Date\",\"@datetime{%c}\"],[\"Volume\",\"@Volume{0.00 a}\"]],\"formatters\":{\"type\":\"map\",\"entries\":[[\"@datetime\",\"datetime\"]]},\"mode\":\"vline\",\"point_policy\":\"follow_mouse\"}},{\"type\":\"object\",\"name\":\"HoverTool\",\"id\":\"p2771\",\"attributes\":{\"renderers\":[{\"type\":\"object\",\"name\":\"GlyphRenderer\",\"id\":\"p2766\",\"attributes\":{\"data_source\":{\"id\":\"p2459\"},\"view\":{\"type\":\"object\",\"name\":\"CDSView\",\"id\":\"p2767\",\"attributes\":{\"filter\":{\"type\":\"object\",\"name\":\"AllIndices\",\"id\":\"p2768\"}}},\"glyph\":{\"type\":\"object\",\"name\":\"Line\",\"id\":\"p2763\",\"attributes\":{\"x\":{\"type\":\"field\",\"field\":\"index\"},\"y\":{\"type\":\"field\",\"field\":\"sma_indic\\u2026(50)_1_1\"},\"line_color\":\"#1f77b4\",\"line_width\":1.3}},\"nonselection_glyph\":{\"type\":\"object\",\"name\":\"Line\",\"id\":\"p2764\",\"attributes\":{\"x\":{\"type\":\"field\",\"field\":\"index\"},\"y\":{\"type\":\"field\",\"field\":\"sma_indic\\u2026(50)_1_1\"},\"line_color\":\"#1f77b4\",\"line_alpha\":0.1,\"line_width\":1.3}},\"muted_glyph\":{\"type\":\"object\",\"name\":\"Line\",\"id\":\"p2765\",\"attributes\":{\"x\":{\"type\":\"field\",\"field\":\"index\"},\"y\":{\"type\":\"field\",\"field\":\"sma_indic\\u2026(50)_1_1\"},\"line_color\":\"#1f77b4\",\"line_alpha\":0.2,\"line_width\":1.3}}}}],\"tooltips\":[[\"Date\",\"@datetime{%c}\"],[\"sma_indic\\u2026(50)\",\"@{sma_indic\\u2026(50)_1_1}{0,0.0[0000]}\"]],\"formatters\":{\"type\":\"map\",\"entries\":[[\"@datetime\",\"datetime\"]]},\"mode\":\"vline\",\"point_policy\":\"follow_mouse\"}},{\"type\":\"object\",\"name\":\"HoverTool\",\"id\":\"p2816\",\"attributes\":{\"renderers\":[{\"type\":\"object\",\"name\":\"GlyphRenderer\",\"id\":\"p2811\",\"attributes\":{\"data_source\":{\"id\":\"p2459\"},\"view\":{\"type\":\"object\",\"name\":\"CDSView\",\"id\":\"p2812\",\"attributes\":{\"filter\":{\"type\":\"object\",\"name\":\"AllIndices\",\"id\":\"p2813\"}}},\"glyph\":{\"type\":\"object\",\"name\":\"Line\",\"id\":\"p2808\",\"attributes\":{\"x\":{\"type\":\"field\",\"field\":\"index\"},\"y\":{\"type\":\"field\",\"field\":\"rsi(14)_2_1\"},\"line_color\":\"#1f77b4\",\"line_width\":1.3}},\"nonselection_glyph\":{\"type\":\"object\",\"name\":\"Line\",\"id\":\"p2809\",\"attributes\":{\"x\":{\"type\":\"field\",\"field\":\"index\"},\"y\":{\"type\":\"field\",\"field\":\"rsi(14)_2_1\"},\"line_color\":\"#1f77b4\",\"line_alpha\":0.1,\"line_width\":1.3}},\"muted_glyph\":{\"type\":\"object\",\"name\":\"Line\",\"id\":\"p2810\",\"attributes\":{\"x\":{\"type\":\"field\",\"field\":\"index\"},\"y\":{\"type\":\"field\",\"field\":\"rsi(14)_2_1\"},\"line_color\":\"#1f77b4\",\"line_alpha\":0.2,\"line_width\":1.3}}}}],\"tooltips\":[[\"Date\",\"@datetime{%c}\"],[\"rsi(14)\",\"@{rsi(14)_2_1}{0,0.0[0000]}\"]],\"formatters\":{\"type\":\"map\",\"entries\":[[\"@datetime\",\"datetime\"]]},\"mode\":\"vline\",\"point_policy\":\"follow_mouse\"}},{\"type\":\"object\",\"name\":\"HoverTool\",\"id\":\"p2862\",\"attributes\":{\"renderers\":[{\"type\":\"object\",\"name\":\"GlyphRenderer\",\"id\":\"p2856\",\"attributes\":{\"data_source\":{\"id\":\"p2459\"},\"view\":{\"type\":\"object\",\"name\":\"CDSView\",\"id\":\"p2857\",\"attributes\":{\"filter\":{\"type\":\"object\",\"name\":\"AllIndices\",\"id\":\"p2858\"}}},\"glyph\":{\"type\":\"object\",\"name\":\"Line\",\"id\":\"p2853\",\"attributes\":{\"x\":{\"type\":\"field\",\"field\":\"index\"},\"y\":{\"type\":\"field\",\"field\":\"macd_diff_3_1\"},\"line_color\":\"#1f77b4\",\"line_width\":1.3}},\"nonselection_glyph\":{\"type\":\"object\",\"name\":\"Line\",\"id\":\"p2854\",\"attributes\":{\"x\":{\"type\":\"field\",\"field\":\"index\"},\"y\":{\"type\":\"field\",\"field\":\"macd_diff_3_1\"},\"line_color\":\"#1f77b4\",\"line_alpha\":0.1,\"line_width\":1.3}},\"muted_glyph\":{\"type\":\"object\",\"name\":\"Line\",\"id\":\"p2855\",\"attributes\":{\"x\":{\"type\":\"field\",\"field\":\"index\"},\"y\":{\"type\":\"field\",\"field\":\"macd_diff_3_1\"},\"line_color\":\"#1f77b4\",\"line_alpha\":0.2,\"line_width\":1.3}}}}],\"tooltips\":[[\"Date\",\"@datetime{%c}\"],[\"macd_diff\",\"@{macd_diff_3_1}{0,0.0[0000]}\"]],\"formatters\":{\"type\":\"map\",\"entries\":[[\"@datetime\",\"datetime\"]]},\"mode\":\"vline\",\"point_policy\":\"follow_mouse\"}},{\"type\":\"object\",\"name\":\"HoverTool\",\"id\":\"p2907\",\"attributes\":{\"renderers\":[{\"type\":\"object\",\"name\":\"GlyphRenderer\",\"id\":\"p2902\",\"attributes\":{\"data_source\":{\"id\":\"p2459\"},\"view\":{\"type\":\"object\",\"name\":\"CDSView\",\"id\":\"p2903\",\"attributes\":{\"filter\":{\"type\":\"object\",\"name\":\"AllIndices\",\"id\":\"p2904\"}}},\"glyph\":{\"type\":\"object\",\"name\":\"Line\",\"id\":\"p2899\",\"attributes\":{\"x\":{\"type\":\"field\",\"field\":\"index\"},\"y\":{\"type\":\"field\",\"field\":\"stoch(14)_4_1\"},\"line_color\":\"#1f77b4\",\"line_width\":1.3}},\"nonselection_glyph\":{\"type\":\"object\",\"name\":\"Line\",\"id\":\"p2900\",\"attributes\":{\"x\":{\"type\":\"field\",\"field\":\"index\"},\"y\":{\"type\":\"field\",\"field\":\"stoch(14)_4_1\"},\"line_color\":\"#1f77b4\",\"line_alpha\":0.1,\"line_width\":1.3}},\"muted_glyph\":{\"type\":\"object\",\"name\":\"Line\",\"id\":\"p2901\",\"attributes\":{\"x\":{\"type\":\"field\",\"field\":\"index\"},\"y\":{\"type\":\"field\",\"field\":\"stoch(14)_4_1\"},\"line_color\":\"#1f77b4\",\"line_alpha\":0.2,\"line_width\":1.3}}}}],\"tooltips\":[[\"Date\",\"@datetime{%c}\"],[\"stoch(14)\",\"@{stoch(14)_4_1}{0,0.0[0000]}\"]],\"formatters\":{\"type\":\"map\",\"entries\":[[\"@datetime\",\"datetime\"]]},\"mode\":\"vline\",\"point_policy\":\"follow_mouse\"}},{\"type\":\"object\",\"name\":\"HoverTool\",\"id\":\"p2952\",\"attributes\":{\"renderers\":[{\"type\":\"object\",\"name\":\"GlyphRenderer\",\"id\":\"p2947\",\"attributes\":{\"data_source\":{\"id\":\"p2459\"},\"view\":{\"type\":\"object\",\"name\":\"CDSView\",\"id\":\"p2948\",\"attributes\":{\"filter\":{\"type\":\"object\",\"name\":\"AllIndices\",\"id\":\"p2949\"}}},\"glyph\":{\"type\":\"object\",\"name\":\"Line\",\"id\":\"p2944\",\"attributes\":{\"x\":{\"type\":\"field\",\"field\":\"index\"},\"y\":{\"type\":\"field\",\"field\":\"stoch_sig\\u2026(14)_5_1\"},\"line_color\":\"#1f77b4\",\"line_width\":1.3}},\"nonselection_glyph\":{\"type\":\"object\",\"name\":\"Line\",\"id\":\"p2945\",\"attributes\":{\"x\":{\"type\":\"field\",\"field\":\"index\"},\"y\":{\"type\":\"field\",\"field\":\"stoch_sig\\u2026(14)_5_1\"},\"line_color\":\"#1f77b4\",\"line_alpha\":0.1,\"line_width\":1.3}},\"muted_glyph\":{\"type\":\"object\",\"name\":\"Line\",\"id\":\"p2946\",\"attributes\":{\"x\":{\"type\":\"field\",\"field\":\"index\"},\"y\":{\"type\":\"field\",\"field\":\"stoch_sig\\u2026(14)_5_1\"},\"line_color\":\"#1f77b4\",\"line_alpha\":0.2,\"line_width\":1.3}}}}],\"tooltips\":[[\"Date\",\"@datetime{%c}\"],[\"stoch_sig\\u2026(14)\",\"@{stoch_sig\\u2026(14)_5_1}{0,0.0[0000]}\"]],\"formatters\":{\"type\":\"map\",\"entries\":[[\"@datetime\",\"datetime\"]]},\"mode\":\"vline\",\"point_policy\":\"follow_mouse\"}},{\"type\":\"object\",\"name\":\"HoverTool\",\"id\":\"p2997\",\"attributes\":{\"renderers\":[{\"type\":\"object\",\"name\":\"GlyphRenderer\",\"id\":\"p2992\",\"attributes\":{\"data_source\":{\"id\":\"p2459\"},\"view\":{\"type\":\"object\",\"name\":\"CDSView\",\"id\":\"p2993\",\"attributes\":{\"filter\":{\"type\":\"object\",\"name\":\"AllIndices\",\"id\":\"p2994\"}}},\"glyph\":{\"type\":\"object\",\"name\":\"Line\",\"id\":\"p2989\",\"attributes\":{\"x\":{\"type\":\"field\",\"field\":\"index\"},\"y\":{\"type\":\"field\",\"field\":\"cci(20)_6_1\"},\"line_color\":\"#1f77b4\",\"line_width\":1.3}},\"nonselection_glyph\":{\"type\":\"object\",\"name\":\"Line\",\"id\":\"p2990\",\"attributes\":{\"x\":{\"type\":\"field\",\"field\":\"index\"},\"y\":{\"type\":\"field\",\"field\":\"cci(20)_6_1\"},\"line_color\":\"#1f77b4\",\"line_alpha\":0.1,\"line_width\":1.3}},\"muted_glyph\":{\"type\":\"object\",\"name\":\"Line\",\"id\":\"p2991\",\"attributes\":{\"x\":{\"type\":\"field\",\"field\":\"index\"},\"y\":{\"type\":\"field\",\"field\":\"cci(20)_6_1\"},\"line_color\":\"#1f77b4\",\"line_alpha\":0.2,\"line_width\":1.3}}}}],\"tooltips\":[[\"Date\",\"@datetime{%c}\"],[\"cci(20)\",\"@{cci(20)_6_1}{0,0.0[0000]}\"]],\"formatters\":{\"type\":\"map\",\"entries\":[[\"@datetime\",\"datetime\"]]},\"mode\":\"vline\",\"point_policy\":\"follow_mouse\"}},{\"type\":\"object\",\"name\":\"HoverTool\",\"id\":\"p3042\",\"attributes\":{\"renderers\":[{\"type\":\"object\",\"name\":\"GlyphRenderer\",\"id\":\"p3037\",\"attributes\":{\"data_source\":{\"id\":\"p2459\"},\"view\":{\"type\":\"object\",\"name\":\"CDSView\",\"id\":\"p3038\",\"attributes\":{\"filter\":{\"type\":\"object\",\"name\":\"AllIndices\",\"id\":\"p3039\"}}},\"glyph\":{\"type\":\"object\",\"name\":\"Line\",\"id\":\"p3034\",\"attributes\":{\"x\":{\"type\":\"field\",\"field\":\"index\"},\"y\":{\"type\":\"field\",\"field\":\"average_t\\u2026(14)_7_1\"},\"line_color\":\"#1f77b4\",\"line_width\":1.3}},\"nonselection_glyph\":{\"type\":\"object\",\"name\":\"Line\",\"id\":\"p3035\",\"attributes\":{\"x\":{\"type\":\"field\",\"field\":\"index\"},\"y\":{\"type\":\"field\",\"field\":\"average_t\\u2026(14)_7_1\"},\"line_color\":\"#1f77b4\",\"line_alpha\":0.1,\"line_width\":1.3}},\"muted_glyph\":{\"type\":\"object\",\"name\":\"Line\",\"id\":\"p3036\",\"attributes\":{\"x\":{\"type\":\"field\",\"field\":\"index\"},\"y\":{\"type\":\"field\",\"field\":\"average_t\\u2026(14)_7_1\"},\"line_color\":\"#1f77b4\",\"line_alpha\":0.2,\"line_width\":1.3}}}}],\"tooltips\":[[\"Date\",\"@datetime{%c}\"],[\"average_t\\u2026(14)\",\"@{average_t\\u2026(14)_7_1}{0,0.0[0000]}\"]],\"formatters\":{\"type\":\"map\",\"entries\":[[\"@datetime\",\"datetime\"]]},\"mode\":\"vline\",\"point_policy\":\"follow_mouse\"}},{\"type\":\"object\",\"name\":\"HoverTool\",\"id\":\"p3087\",\"attributes\":{\"renderers\":[{\"type\":\"object\",\"name\":\"GlyphRenderer\",\"id\":\"p3082\",\"attributes\":{\"data_source\":{\"id\":\"p2459\"},\"view\":{\"type\":\"object\",\"name\":\"CDSView\",\"id\":\"p3083\",\"attributes\":{\"filter\":{\"type\":\"object\",\"name\":\"AllIndices\",\"id\":\"p3084\"}}},\"glyph\":{\"type\":\"object\",\"name\":\"Line\",\"id\":\"p3079\",\"attributes\":{\"x\":{\"type\":\"field\",\"field\":\"index\"},\"y\":{\"type\":\"field\",\"field\":\"money_flo\\u2026(14)_8_1\"},\"line_color\":\"#1f77b4\",\"line_width\":1.3}},\"nonselection_glyph\":{\"type\":\"object\",\"name\":\"Line\",\"id\":\"p3080\",\"attributes\":{\"x\":{\"type\":\"field\",\"field\":\"index\"},\"y\":{\"type\":\"field\",\"field\":\"money_flo\\u2026(14)_8_1\"},\"line_color\":\"#1f77b4\",\"line_alpha\":0.1,\"line_width\":1.3}},\"muted_glyph\":{\"type\":\"object\",\"name\":\"Line\",\"id\":\"p3081\",\"attributes\":{\"x\":{\"type\":\"field\",\"field\":\"index\"},\"y\":{\"type\":\"field\",\"field\":\"money_flo\\u2026(14)_8_1\"},\"line_color\":\"#1f77b4\",\"line_alpha\":0.2,\"line_width\":1.3}}}}],\"tooltips\":[[\"Date\",\"@datetime{%c}\"],[\"money_flo\\u2026(14)\",\"@{money_flo\\u2026(14)_8_1}{0,0.0[0000]}\"]],\"formatters\":{\"type\":\"map\",\"entries\":[[\"@datetime\",\"datetime\"]]},\"mode\":\"vline\",\"point_policy\":\"follow_mouse\"}},{\"type\":\"object\",\"name\":\"ToolProxy\",\"id\":\"p3098\",\"attributes\":{\"tools\":[{\"type\":\"object\",\"name\":\"CrosshairTool\",\"id\":\"p3090\"},{\"id\":\"p3090\"},{\"id\":\"p3090\"},{\"id\":\"p3090\"},{\"id\":\"p3090\"},{\"id\":\"p3090\"},{\"id\":\"p3090\"},{\"id\":\"p3090\"},{\"id\":\"p3090\"},{\"id\":\"p3090\"},{\"id\":\"p3090\"},{\"id\":\"p3090\"}]}}],\"active_drag\":{\"id\":\"p3064\"},\"active_scroll\":{\"id\":\"p3065\"}}},\"toolbar_location\":\"right\",\"children\":[[{\"type\":\"object\",\"name\":\"Figure\",\"id\":\"p2470\",\"attributes\":{\"width\":null,\"height\":110,\"sizing_mode\":\"stretch_width\",\"x_range\":{\"type\":\"object\",\"name\":\"Range1d\",\"id\":\"p2425\",\"attributes\":{\"js_property_callbacks\":{\"type\":\"map\",\"entries\":[[\"change:end\",[{\"type\":\"object\",\"name\":\"CustomJS\",\"id\":\"p3089\",\"attributes\":{\"args\":{\"type\":\"map\",\"entries\":[[\"ohlc_range\",{\"type\":\"object\",\"name\":\"DataRange1d\",\"id\":\"p2428\"}],[\"source\",{\"id\":\"p2459\"}],[\"volume_range\",{\"type\":\"object\",\"name\":\"DataRange1d\",\"id\":\"p2624\"}]]},\"code\":\"if (!window._bt_scale_range) {\\n    window._bt_scale_range = function (range, min, max, pad) {\\n        \\\"use strict\\\";\\n        if (min !== Infinity && max !== -Infinity) {\\n            pad = pad ? (max - min) * .03 : 0;\\n            range.start = min - pad;\\n            range.end = max + pad;\\n        } else console.error('backtesting: scale range error:', min, max, range);\\n    };\\n}\\n\\nclearTimeout(window._bt_autoscale_timeout);\\n\\nwindow._bt_autoscale_timeout = setTimeout(function () {\\n    /**\\n     * @variable cb_obj `fig_ohlc.x_range`.\\n     * @variable source `ColumnDataSource`\\n     * @variable ohlc_range `fig_ohlc.y_range`.\\n     * @variable volume_range `fig_volume.y_range`.\\n     */\\n    \\\"use strict\\\";\\n\\n    let i = Math.max(Math.floor(cb_obj.start), 0),\\n        j = Math.min(Math.ceil(cb_obj.end), source.data['ohlc_high'].length);\\n\\n    let max = Math.max.apply(null, source.data['ohlc_high'].slice(i, j)),\\n        min = Math.min.apply(null, source.data['ohlc_low'].slice(i, j));\\n    _bt_scale_range(ohlc_range, min, max, true);\\n\\n    if (volume_range) {\\n        max = Math.max.apply(null, source.data['Volume'].slice(i, j));\\n        _bt_scale_range(volume_range, 0, max * 1.03, false);\\n    }\\n\\n}, 50);\\n\"}}]]]},\"end\":85,\"bounds\":[-4.25,89.25],\"min_interval\":10}},\"y_range\":{\"type\":\"object\",\"name\":\"DataRange1d\",\"id\":\"p2472\"},\"x_scale\":{\"type\":\"object\",\"name\":\"LinearScale\",\"id\":\"p2479\"},\"y_scale\":{\"type\":\"object\",\"name\":\"LinearScale\",\"id\":\"p2480\"},\"title\":{\"type\":\"object\",\"name\":\"Title\",\"id\":\"p2477\"},\"outline_line_color\":\"#666666\",\"renderers\":[{\"type\":\"object\",\"name\":\"GlyphRenderer\",\"id\":\"p2512\",\"attributes\":{\"data_source\":{\"type\":\"object\",\"name\":\"ColumnDataSource\",\"id\":\"p2503\",\"attributes\":{\"selected\":{\"type\":\"object\",\"name\":\"Selection\",\"id\":\"p2504\",\"attributes\":{\"indices\":[],\"line_indices\":[]}},\"selection_policy\":{\"type\":\"object\",\"name\":\"UnionRenderers\",\"id\":\"p2505\"},\"data\":{\"type\":\"map\",\"entries\":[[\"index\",{\"type\":\"ndarray\",\"array\":{\"type\":\"bytes\",\"data\":\"AAAAAAEAAAACAAAAAwAAAAQAAAAFAAAABgAAAAcAAAAIAAAACQAAAAoAAAALAAAADAAAAA0AAAAOAAAADwAAABAAAAARAAAAEgAAABMAAAAUAAAAFQAAABYAAAAXAAAAGAAAABkAAAAaAAAAGwAAABwAAAAdAAAAHgAAAB8AAAAgAAAAIQAAACIAAAAjAAAAJAAAACUAAAAmAAAAJwAAACgAAAApAAAAKgAAACsAAAAsAAAALQAAAC4AAAAvAAAAMAAAADEAAAAyAAAAMwAAADQAAAA1AAAANgAAADcAAAA4AAAAOQAAADoAAAA7AAAAPAAAAD0AAAA+AAAAPwAAAEAAAABBAAAAQgAAAEMAAABEAAAARQAAAEYAAABHAAAASAAAAEkAAABKAAAASwAAAEwAAABNAAAATgAAAE8AAABQAAAAUQAAAFIAAABTAAAAVAAAAFUAAABVAAAAVAAAAFMAAABSAAAAUQAAAFAAAABPAAAATgAAAE0AAABMAAAASwAAAEoAAABJAAAASAAAAEcAAABGAAAARQAAAEQAAABDAAAAQgAAAEEAAABAAAAAPwAAAD4AAAA9AAAAPAAAADsAAAA6AAAAOQAAADgAAAA3AAAANgAAADUAAAA0AAAAMwAAADIAAAAxAAAAMAAAAC8AAAAuAAAALQAAACwAAAArAAAAKgAAACkAAAAoAAAAJwAAACYAAAAlAAAAJAAAACMAAAAiAAAAIQAAACAAAAAfAAAAHgAAAB0AAAAcAAAAGwAAABoAAAAZAAAAGAAAABcAAAAWAAAAFQAAABQAAAATAAAAEgAAABEAAAAQAAAADwAAAA4AAAANAAAADAAAAAsAAAAKAAAACQAAAAgAAAAHAAAABgAAAAUAAAAEAAAAAwAAAAIAAAABAAAAAAAAAA==\"},\"shape\":[172],\"dtype\":\"int32\",\"order\":\"little\"}],[\"equity_dd\",{\"type\":\"ndarray\",\"array\":{\"type\":\"bytes\",\"data\":\"AAAAAAAA8D8AAAAAAADwPwAAAAAAAPA/AAAAAAAA8D8AAAAAAADwPwAAAAAAAPA/AAAAAAAA8D8AAAAAAADwPwAAAAAAAPA/AAAAAAAA8D8AAAAAAADwPwAAAAAAAPA/AAAAAAAA8D8AAAAAAADwPwAAAAAAAPA/AAAAAAAA8D8AAAAAAADwPwAAAAAAAPA/AAAAAAAA8D8AAAAAAADwPwAAAAAAAPA/AAAAAAAA8D8AAAAAAADwPwAAAAAAAPA/AAAAAAAA8D8AAAAAAADwPwAAAAAAAPA/AAAAAAAA8D8AAAAAAADwPwAAAAAAAPA/AAAAAAAA8D8AAAAAAADwPwAAAAAAAPA/AAAAAAAA8D8AAAAAAADwPwAAAAAAAPA/AAAAAAAA8D8AAAAAAADwPwAAAAAAAPA/AAAAAAAA8D8AAAAAAADwPwAAAAAAAPA/AAAAAAAA8D8AAAAAAADwPwAAAAAAAPA/AAAAAAAA8D8AAAAAAADwPwAAAAAAAPA/AAAAAAAA8D8AAAAAAADwPwAAAAAAAPA/ociLU3Ma8D/zXq3htzTwPwJqYggTbfA//R2CMeyq8D/kI1KoM/nvP0cqhNxUEvA/uszZEF7g7z87Sk7766nvPxj2rHLtKvA/wQ6MkXT+7z9MKdhUNLnvP2xv4ONegO8/UzG+PQ6n7z80dx1/an/vP7sBj322o+8/V/tkmr5t7z/2jkPSAqjvPwv+p/C+Te8/bq0nQT1U8D+crEk+THjwPyKThEsfHPA/o4mgPyma7z/G0xvDQFjvP7xr+VZnKu8/GprbkvnI7j/ANaCzF/HuPyGn2Ka3I+8/TO8LvfeI7z+xZLekhLLvP4R4TR1Xlu8/FnRz+HYv8D8mEJ9JiMfvP4R4TR1Xlu8/fDGMwj0k8D+8Zup8e2nxP7xm6nx7afE//R2CMeyq8D/9HYIx7KrwP/0dgjHsqvA//R2CMeyq8D/9HYIx7KrwP/0dgjHsqvA//R2CMeyq8D/9HYIx7KrwP/0dgjHsqvA//R2CMeyq8D/9HYIx7KrwP/0dgjHsqvA//R2CMeyq8D/9HYIx7KrwP/0dgjHsqvA//R2CMeyq8D/9HYIx7KrwP/0dgjHsqvA//R2CMeyq8D/9HYIx7KrwP/0dgjHsqvA//R2CMeyq8D/9HYIx7KrwP/0dgjHsqvA//R2CMeyq8D/9HYIx7KrwP/0dgjHsqvA//R2CMeyq8D/9HYIx7KrwP/0dgjHsqvA//R2CMeyq8D8CamIIE23wP/NereG3NPA/ociLU3Ma8D8AAAAAAADwPwAAAAAAAPA/AAAAAAAA8D8AAAAAAADwPwAAAAAAAPA/AAAAAAAA8D8AAAAAAADwPwAAAAAAAPA/AAAAAAAA8D8AAAAAAADwPwAAAAAAAPA/AAAAAAAA8D8AAAAAAADwPwAAAAAAAPA/AAAAAAAA8D8AAAAAAADwPwAAAAAAAPA/AAAAAAAA8D8AAAAAAADwPwAAAAAAAPA/AAAAAAAA8D8AAAAAAADwPwAAAAAAAPA/AAAAAAAA8D8AAAAAAADwPwAAAAAAAPA/AAAAAAAA8D8AAAAAAADwPwAAAAAAAPA/AAAAAAAA8D8AAAAAAADwPwAAAAAAAPA/AAAAAAAA8D8AAAAAAADwPwAAAAAAAPA/AAAAAAAA8D8AAAAAAADwPwAAAAAAAPA/AAAAAAAA8D8AAAAAAADwPwAAAAAAAPA/AAAAAAAA8D8AAAAAAADwPwAAAAAAAPA/AAAAAAAA8D8AAAAAAADwPwAAAAAAAPA/AAAAAAAA8D8AAAAAAADwPwAAAAAAAPA/AAAAAAAA8D8=\"},\"shape\":[172],\"dtype\":\"float64\",\"order\":\"little\"}]]}}},\"view\":{\"type\":\"object\",\"name\":\"CDSView\",\"id\":\"p2513\",\"attributes\":{\"filter\":{\"type\":\"object\",\"name\":\"AllIndices\",\"id\":\"p2514\"}}},\"glyph\":{\"type\":\"object\",\"name\":\"Patch\",\"id\":\"p2509\",\"attributes\":{\"x\":{\"type\":\"field\",\"field\":\"index\"},\"y\":{\"type\":\"field\",\"field\":\"equity_dd\"},\"line_color\":\"#ffcb66\",\"fill_color\":\"#ffffea\"}},\"nonselection_glyph\":{\"type\":\"object\",\"name\":\"Patch\",\"id\":\"p2510\",\"attributes\":{\"x\":{\"type\":\"field\",\"field\":\"index\"},\"y\":{\"type\":\"field\",\"field\":\"equity_dd\"},\"line_color\":\"#ffcb66\",\"line_alpha\":0.1,\"fill_color\":\"#ffffea\",\"fill_alpha\":0.1,\"hatch_alpha\":0.1}},\"muted_glyph\":{\"type\":\"object\",\"name\":\"Patch\",\"id\":\"p2511\",\"attributes\":{\"x\":{\"type\":\"field\",\"field\":\"index\"},\"y\":{\"type\":\"field\",\"field\":\"equity_dd\"},\"line_color\":\"#ffcb66\",\"line_alpha\":0.2,\"fill_color\":\"#ffffea\",\"fill_alpha\":0.2,\"hatch_alpha\":0.2}}}},{\"id\":\"p2521\"},{\"type\":\"object\",\"name\":\"GlyphRenderer\",\"id\":\"p2532\",\"attributes\":{\"data_source\":{\"type\":\"object\",\"name\":\"ColumnDataSource\",\"id\":\"p2526\",\"attributes\":{\"selected\":{\"type\":\"object\",\"name\":\"Selection\",\"id\":\"p2527\",\"attributes\":{\"indices\":[],\"line_indices\":[]}},\"selection_policy\":{\"type\":\"object\",\"name\":\"UnionRenderers\",\"id\":\"p2528\"},\"data\":{\"type\":\"map\"}}},\"view\":{\"type\":\"object\",\"name\":\"CDSView\",\"id\":\"p2533\",\"attributes\":{\"filter\":{\"type\":\"object\",\"name\":\"AllIndices\",\"id\":\"p2534\"}}},\"glyph\":{\"type\":\"object\",\"name\":\"Scatter\",\"id\":\"p2529\",\"attributes\":{\"x\":{\"type\":\"value\",\"value\":85},\"y\":{\"type\":\"value\",\"value\":1.088252532912903},\"size\":{\"type\":\"value\",\"value\":8},\"line_color\":{\"type\":\"value\",\"value\":\"cyan\"},\"fill_color\":{\"type\":\"value\",\"value\":\"cyan\"},\"hatch_color\":{\"type\":\"value\",\"value\":\"cyan\"}}},\"nonselection_glyph\":{\"type\":\"object\",\"name\":\"Scatter\",\"id\":\"p2530\",\"attributes\":{\"x\":{\"type\":\"value\",\"value\":85},\"y\":{\"type\":\"value\",\"value\":1.088252532912903},\"size\":{\"type\":\"value\",\"value\":8},\"line_color\":{\"type\":\"value\",\"value\":\"cyan\"},\"line_alpha\":{\"type\":\"value\",\"value\":0.1},\"fill_color\":{\"type\":\"value\",\"value\":\"cyan\"},\"fill_alpha\":{\"type\":\"value\",\"value\":0.1},\"hatch_color\":{\"type\":\"value\",\"value\":\"cyan\"},\"hatch_alpha\":{\"type\":\"value\",\"value\":0.1}}},\"muted_glyph\":{\"type\":\"object\",\"name\":\"Scatter\",\"id\":\"p2531\",\"attributes\":{\"x\":{\"type\":\"value\",\"value\":85},\"y\":{\"type\":\"value\",\"value\":1.088252532912903},\"size\":{\"type\":\"value\",\"value\":8},\"line_color\":{\"type\":\"value\",\"value\":\"cyan\"},\"line_alpha\":{\"type\":\"value\",\"value\":0.2},\"fill_color\":{\"type\":\"value\",\"value\":\"cyan\"},\"fill_alpha\":{\"type\":\"value\",\"value\":0.2},\"hatch_color\":{\"type\":\"value\",\"value\":\"cyan\"},\"hatch_alpha\":{\"type\":\"value\",\"value\":0.2}}}}},{\"type\":\"object\",\"name\":\"GlyphRenderer\",\"id\":\"p2543\",\"attributes\":{\"data_source\":{\"type\":\"object\",\"name\":\"ColumnDataSource\",\"id\":\"p2537\",\"attributes\":{\"selected\":{\"type\":\"object\",\"name\":\"Selection\",\"id\":\"p2538\",\"attributes\":{\"indices\":[],\"line_indices\":[]}},\"selection_policy\":{\"type\":\"object\",\"name\":\"UnionRenderers\",\"id\":\"p2539\"},\"data\":{\"type\":\"map\"}}},\"view\":{\"type\":\"object\",\"name\":\"CDSView\",\"id\":\"p2544\",\"attributes\":{\"filter\":{\"type\":\"object\",\"name\":\"AllIndices\",\"id\":\"p2545\"}}},\"glyph\":{\"type\":\"object\",\"name\":\"Scatter\",\"id\":\"p2540\",\"attributes\":{\"x\":{\"type\":\"value\",\"value\":85},\"y\":{\"type\":\"value\",\"value\":1.088252532912903},\"size\":{\"type\":\"value\",\"value\":8},\"line_color\":{\"type\":\"value\",\"value\":\"blue\"},\"fill_color\":{\"type\":\"value\",\"value\":\"blue\"},\"hatch_color\":{\"type\":\"value\",\"value\":\"blue\"}}},\"nonselection_glyph\":{\"type\":\"object\",\"name\":\"Scatter\",\"id\":\"p2541\",\"attributes\":{\"x\":{\"type\":\"value\",\"value\":85},\"y\":{\"type\":\"value\",\"value\":1.088252532912903},\"size\":{\"type\":\"value\",\"value\":8},\"line_color\":{\"type\":\"value\",\"value\":\"blue\"},\"line_alpha\":{\"type\":\"value\",\"value\":0.1},\"fill_color\":{\"type\":\"value\",\"value\":\"blue\"},\"fill_alpha\":{\"type\":\"value\",\"value\":0.1},\"hatch_color\":{\"type\":\"value\",\"value\":\"blue\"},\"hatch_alpha\":{\"type\":\"value\",\"value\":0.1}}},\"muted_glyph\":{\"type\":\"object\",\"name\":\"Scatter\",\"id\":\"p2542\",\"attributes\":{\"x\":{\"type\":\"value\",\"value\":85},\"y\":{\"type\":\"value\",\"value\":1.088252532912903},\"size\":{\"type\":\"value\",\"value\":8},\"line_color\":{\"type\":\"value\",\"value\":\"blue\"},\"line_alpha\":{\"type\":\"value\",\"value\":0.2},\"fill_color\":{\"type\":\"value\",\"value\":\"blue\"},\"fill_alpha\":{\"type\":\"value\",\"value\":0.2},\"hatch_color\":{\"type\":\"value\",\"value\":\"blue\"},\"hatch_alpha\":{\"type\":\"value\",\"value\":0.2}}}}},{\"type\":\"object\",\"name\":\"GlyphRenderer\",\"id\":\"p2553\",\"attributes\":{\"data_source\":{\"type\":\"object\",\"name\":\"ColumnDataSource\",\"id\":\"p2547\",\"attributes\":{\"selected\":{\"type\":\"object\",\"name\":\"Selection\",\"id\":\"p2548\",\"attributes\":{\"indices\":[],\"line_indices\":[]}},\"selection_policy\":{\"type\":\"object\",\"name\":\"UnionRenderers\",\"id\":\"p2549\"},\"data\":{\"type\":\"map\"}}},\"view\":{\"type\":\"object\",\"name\":\"CDSView\",\"id\":\"p2554\",\"attributes\":{\"filter\":{\"type\":\"object\",\"name\":\"AllIndices\",\"id\":\"p2555\"}}},\"glyph\":{\"type\":\"object\",\"name\":\"Scatter\",\"id\":\"p2550\",\"attributes\":{\"x\":{\"type\":\"value\",\"value\":75},\"y\":{\"type\":\"value\",\"value\":0.9620330684963989},\"size\":{\"type\":\"value\",\"value\":8},\"line_color\":{\"type\":\"value\",\"value\":\"red\"},\"fill_color\":{\"type\":\"value\",\"value\":\"red\"},\"hatch_color\":{\"type\":\"value\",\"value\":\"red\"}}},\"nonselection_glyph\":{\"type\":\"object\",\"name\":\"Scatter\",\"id\":\"p2551\",\"attributes\":{\"x\":{\"type\":\"value\",\"value\":75},\"y\":{\"type\":\"value\",\"value\":0.9620330684963989},\"size\":{\"type\":\"value\",\"value\":8},\"line_color\":{\"type\":\"value\",\"value\":\"red\"},\"line_alpha\":{\"type\":\"value\",\"value\":0.1},\"fill_color\":{\"type\":\"value\",\"value\":\"red\"},\"fill_alpha\":{\"type\":\"value\",\"value\":0.1},\"hatch_color\":{\"type\":\"value\",\"value\":\"red\"},\"hatch_alpha\":{\"type\":\"value\",\"value\":0.1}}},\"muted_glyph\":{\"type\":\"object\",\"name\":\"Scatter\",\"id\":\"p2552\",\"attributes\":{\"x\":{\"type\":\"value\",\"value\":75},\"y\":{\"type\":\"value\",\"value\":0.9620330684963989},\"size\":{\"type\":\"value\",\"value\":8},\"line_color\":{\"type\":\"value\",\"value\":\"red\"},\"line_alpha\":{\"type\":\"value\",\"value\":0.2},\"fill_color\":{\"type\":\"value\",\"value\":\"red\"},\"fill_alpha\":{\"type\":\"value\",\"value\":0.2},\"hatch_color\":{\"type\":\"value\",\"value\":\"red\"},\"hatch_alpha\":{\"type\":\"value\",\"value\":0.2}}}}},{\"type\":\"object\",\"name\":\"GlyphRenderer\",\"id\":\"p2563\",\"attributes\":{\"data_source\":{\"type\":\"object\",\"name\":\"ColumnDataSource\",\"id\":\"p2557\",\"attributes\":{\"selected\":{\"type\":\"object\",\"name\":\"Selection\",\"id\":\"p2558\",\"attributes\":{\"indices\":[],\"line_indices\":[]}},\"selection_policy\":{\"type\":\"object\",\"name\":\"UnionRenderers\",\"id\":\"p2559\"},\"data\":{\"type\":\"map\",\"entries\":[[\"x\",[54,85]]]}}},\"view\":{\"type\":\"object\",\"name\":\"CDSView\",\"id\":\"p2564\",\"attributes\":{\"filter\":{\"type\":\"object\",\"name\":\"AllIndices\",\"id\":\"p2565\"}}},\"glyph\":{\"type\":\"object\",\"name\":\"Line\",\"id\":\"p2560\",\"attributes\":{\"x\":{\"type\":\"field\",\"field\":\"x\"},\"y\":{\"type\":\"value\",\"value\":1.0417291578213501},\"line_color\":\"red\",\"line_width\":2}},\"nonselection_glyph\":{\"type\":\"object\",\"name\":\"Line\",\"id\":\"p2561\",\"attributes\":{\"x\":{\"type\":\"field\",\"field\":\"x\"},\"y\":{\"type\":\"value\",\"value\":1.0417291578213501},\"line_color\":\"red\",\"line_alpha\":0.1,\"line_width\":2}},\"muted_glyph\":{\"type\":\"object\",\"name\":\"Line\",\"id\":\"p2562\",\"attributes\":{\"x\":{\"type\":\"field\",\"field\":\"x\"},\"y\":{\"type\":\"value\",\"value\":1.0417291578213501},\"line_color\":\"red\",\"line_alpha\":0.2,\"line_width\":2}}}}],\"toolbar\":{\"type\":\"object\",\"name\":\"Toolbar\",\"id\":\"p2478\",\"attributes\":{\"tools\":[{\"id\":\"p2491\"},{\"id\":\"p2492\"},{\"id\":\"p2493\"},{\"id\":\"p2499\"},{\"id\":\"p2500\"},{\"id\":\"p2501\"},{\"type\":\"object\",\"name\":\"SaveTool\",\"id\":\"p2502\"},{\"id\":\"p2524\"},{\"id\":\"p3090\"}],\"active_drag\":{\"id\":\"p2491\"},\"active_scroll\":{\"id\":\"p2492\"}}},\"toolbar_location\":null,\"left\":[{\"type\":\"object\",\"name\":\"LinearAxis\",\"id\":\"p2486\",\"attributes\":{\"ticker\":{\"type\":\"object\",\"name\":\"BasicTicker\",\"id\":\"p2487\",\"attributes\":{\"mantissas\":[1,2,5]}},\"formatter\":{\"type\":\"object\",\"name\":\"NumeralTickFormatter\",\"id\":\"p2525\",\"attributes\":{\"format\":\"0,0.[00]%\"}},\"axis_label\":\"Equity\",\"major_label_policy\":{\"type\":\"object\",\"name\":\"AllLabels\",\"id\":\"p2489\"},\"minor_tick_line_color\":null}}],\"below\":[{\"type\":\"object\",\"name\":\"LinearAxis\",\"id\":\"p2481\",\"attributes\":{\"visible\":false,\"ticker\":{\"type\":\"object\",\"name\":\"BasicTicker\",\"id\":\"p2482\",\"attributes\":{\"mantissas\":[1,2,5]}},\"formatter\":{\"type\":\"object\",\"name\":\"BasicTickFormatter\",\"id\":\"p2483\"},\"major_label_policy\":{\"type\":\"object\",\"name\":\"AllLabels\",\"id\":\"p2484\"}}}],\"center\":[{\"type\":\"object\",\"name\":\"Grid\",\"id\":\"p2485\",\"attributes\":{\"axis\":{\"id\":\"p2481\"}}},{\"type\":\"object\",\"name\":\"Grid\",\"id\":\"p2490\",\"attributes\":{\"dimension\":1,\"axis\":{\"id\":\"p2486\"}}},{\"type\":\"object\",\"name\":\"Legend\",\"id\":\"p2535\",\"attributes\":{\"location\":\"top_left\",\"border_line_color\":\"#333333\",\"click_policy\":\"hide\",\"label_text_font_size\":\"8pt\",\"margin\":0,\"padding\":5,\"spacing\":0,\"items\":[{\"type\":\"object\",\"name\":\"LegendItem\",\"id\":\"p2536\",\"attributes\":{\"label\":{\"type\":\"value\",\"value\":\"Peak (109%)\"},\"renderers\":[{\"id\":\"p2532\"}]}},{\"type\":\"object\",\"name\":\"LegendItem\",\"id\":\"p2546\",\"attributes\":{\"label\":{\"type\":\"value\",\"value\":\"Final (109%)\"},\"renderers\":[{\"id\":\"p2543\"}]}},{\"type\":\"object\",\"name\":\"LegendItem\",\"id\":\"p2556\",\"attributes\":{\"label\":{\"type\":\"value\",\"value\":\"Max Drawdown (-7.7%)\"},\"renderers\":[{\"id\":\"p2553\"}]}},{\"type\":\"object\",\"name\":\"LegendItem\",\"id\":\"p2566\",\"attributes\":{\"label\":{\"type\":\"value\",\"value\":\"Max Dd Dur. (44 days)\"},\"renderers\":[{\"id\":\"p2563\"}]}}]}}],\"min_border_top\":3,\"min_border_bottom\":6,\"min_border_left\":0,\"min_border_right\":10}},0,0],[{\"type\":\"object\",\"name\":\"Figure\",\"id\":\"p2567\",\"attributes\":{\"width\":null,\"height\":90,\"sizing_mode\":\"stretch_width\",\"x_range\":{\"id\":\"p2425\"},\"y_range\":{\"type\":\"object\",\"name\":\"DataRange1d\",\"id\":\"p2569\"},\"x_scale\":{\"type\":\"object\",\"name\":\"LinearScale\",\"id\":\"p2576\"},\"y_scale\":{\"type\":\"object\",\"name\":\"LinearScale\",\"id\":\"p2577\"},\"title\":{\"type\":\"object\",\"name\":\"Title\",\"id\":\"p2574\"},\"outline_line_color\":\"#666666\",\"renderers\":[{\"id\":\"p2607\"},{\"id\":\"p2616\"}],\"toolbar\":{\"type\":\"object\",\"name\":\"Toolbar\",\"id\":\"p2575\",\"attributes\":{\"tools\":[{\"id\":\"p2588\"},{\"id\":\"p2589\"},{\"id\":\"p2590\"},{\"id\":\"p2596\"},{\"id\":\"p2597\"},{\"id\":\"p2598\"},{\"type\":\"object\",\"name\":\"SaveTool\",\"id\":\"p2599\"},{\"id\":\"p2619\"},{\"id\":\"p2620\"},{\"id\":\"p3090\"}],\"active_drag\":{\"id\":\"p2588\"},\"active_scroll\":{\"id\":\"p2589\"}}},\"toolbar_location\":null,\"left\":[{\"type\":\"object\",\"name\":\"LinearAxis\",\"id\":\"p2583\",\"attributes\":{\"ticker\":{\"type\":\"object\",\"name\":\"BasicTicker\",\"id\":\"p2584\",\"attributes\":{\"mantissas\":[1,2,5]}},\"formatter\":{\"type\":\"object\",\"name\":\"NumeralTickFormatter\",\"id\":\"p2621\",\"attributes\":{\"format\":\"0.[00]%\"}},\"axis_label\":\"Profit / Loss\",\"major_label_policy\":{\"type\":\"object\",\"name\":\"AllLabels\",\"id\":\"p2586\"},\"minor_tick_line_color\":null}}],\"below\":[{\"type\":\"object\",\"name\":\"LinearAxis\",\"id\":\"p2578\",\"attributes\":{\"visible\":false,\"ticker\":{\"type\":\"object\",\"name\":\"BasicTicker\",\"id\":\"p2579\",\"attributes\":{\"mantissas\":[1,2,5]}},\"formatter\":{\"type\":\"object\",\"name\":\"BasicTickFormatter\",\"id\":\"p2580\"},\"major_label_policy\":{\"type\":\"object\",\"name\":\"AllLabels\",\"id\":\"p2581\"}}}],\"center\":[{\"type\":\"object\",\"name\":\"Grid\",\"id\":\"p2582\",\"attributes\":{\"axis\":{\"id\":\"p2578\"}}},{\"type\":\"object\",\"name\":\"Grid\",\"id\":\"p2587\",\"attributes\":{\"dimension\":1,\"axis\":{\"id\":\"p2583\"}}},{\"type\":\"object\",\"name\":\"Span\",\"id\":\"p2600\",\"attributes\":{\"location\":0,\"line_color\":\"#666666\",\"line_dash\":[6]}}],\"min_border_top\":3,\"min_border_bottom\":6,\"min_border_left\":0,\"min_border_right\":10}},1,0],[{\"type\":\"object\",\"name\":\"Figure\",\"id\":\"p2426\",\"attributes\":{\"width\":null,\"height\":400,\"sizing_mode\":\"stretch_width\",\"x_range\":{\"id\":\"p2425\"},\"y_range\":{\"id\":\"p2428\"},\"x_scale\":{\"type\":\"object\",\"name\":\"LinearScale\",\"id\":\"p2435\"},\"y_scale\":{\"type\":\"object\",\"name\":\"LinearScale\",\"id\":\"p2436\"},\"title\":{\"type\":\"object\",\"name\":\"Title\",\"id\":\"p2433\"},\"outline_line_color\":\"#666666\",\"renderers\":[{\"type\":\"object\",\"name\":\"GlyphRenderer\",\"id\":\"p2675\",\"attributes\":{\"data_source\":{\"type\":\"object\",\"name\":\"ColumnDataSource\",\"id\":\"p2666\",\"attributes\":{\"selected\":{\"type\":\"object\",\"name\":\"Selection\",\"id\":\"p2667\",\"attributes\":{\"indices\":[],\"line_indices\":[]}},\"selection_policy\":{\"type\":\"object\",\"name\":\"UnionRenderers\",\"id\":\"p2668\"},\"data\":{\"type\":\"map\",\"entries\":[[\"index\",{\"type\":\"ndarray\",\"array\":{\"type\":\"bytes\",\"data\":\"AAAAAAAAJEAAAAAAAIA+QAAAAAAAQElAAAAAAADgUUAAAAAAAABVQA==\"},\"shape\":[5],\"dtype\":\"float64\",\"order\":\"little\"}],[\"Open\",{\"type\":\"ndarray\",\"array\":{\"type\":\"bytes\",\"data\":\"AAAAwMxkZ0AAAAAgrv9mQAAAAKCZcWZAAAAAgBRmZUAAAABgjzJlQA==\"},\"shape\":[5],\"dtype\":\"float64\",\"order\":\"little\"}],[\"High\",{\"type\":\"ndarray\",\"array\":{\"type\":\"bytes\",\"data\":\"AAAAACmMaEAAAACgmeFnQAAAAMD1kGZAAAAAIIVLZkAAAAAAAGBnQA==\"},\"shape\":[5],\"dtype\":\"float64\",\"order\":\"little\"}],[\"Low\",{\"type\":\"ndarray\",\"array\":{\"type\":\"bytes\",\"data\":\"AAAAoHCFZkAAAAAAAGhmQAAAACCuD2VAAAAAYI+CZEAAAAAghSNlQA==\"},\"shape\":[5],\"dtype\":\"float64\",\"order\":\"little\"}],[\"Close\",{\"type\":\"ndarray\",\"array\":{\"type\":\"bytes\",\"data\":\"AAAAwMwMZ0AAAAAAAJhmQAAAACBcb2VAAAAAYI9KZUAAAAAAKexmQA==\"},\"shape\":[5],\"dtype\":\"float64\",\"order\":\"little\"}],[\"Volume\",{\"type\":\"ndarray\",\"array\":{\"type\":\"bytes\",\"data\":\"ZIfDRngFPUXQh2ZVCCJAShT+WBI=\"},\"shape\":[5],\"dtype\":\"int32\",\"order\":\"little\"}],[\"_width\",{\"type\":\"ndarray\",\"array\":{\"type\":\"bytes\",\"data\":\"ZmZmZmbmNEBmZmZmZuYzQGZmZmZm5jNAZmZmZmbmNUAzMzMzMzMHQA==\"},\"shape\":[5],\"dtype\":\"float64\",\"order\":\"little\"}],[\"inc\",{\"type\":\"ndarray\",\"array\":[\"0\",\"0\",\"0\",\"0\",\"1\"],\"shape\":[5],\"dtype\":\"object\",\"order\":\"little\"}]]}}},\"view\":{\"type\":\"object\",\"name\":\"CDSView\",\"id\":\"p2676\",\"attributes\":{\"filter\":{\"type\":\"object\",\"name\":\"AllIndices\",\"id\":\"p2677\"}}},\"glyph\":{\"type\":\"object\",\"name\":\"Segment\",\"id\":\"p2672\",\"attributes\":{\"x0\":{\"type\":\"field\",\"field\":\"index\"},\"y0\":{\"type\":\"field\",\"field\":\"High\"},\"x1\":{\"type\":\"field\",\"field\":\"index\"},\"y1\":{\"type\":\"field\",\"field\":\"Low\"},\"line_color\":{\"type\":\"value\",\"value\":\"#bbbbbb\"}}},\"nonselection_glyph\":{\"type\":\"object\",\"name\":\"Segment\",\"id\":\"p2673\",\"attributes\":{\"x0\":{\"type\":\"field\",\"field\":\"index\"},\"y0\":{\"type\":\"field\",\"field\":\"High\"},\"x1\":{\"type\":\"field\",\"field\":\"index\"},\"y1\":{\"type\":\"field\",\"field\":\"Low\"},\"line_color\":{\"type\":\"value\",\"value\":\"#bbbbbb\"},\"line_alpha\":{\"type\":\"value\",\"value\":0.1}}},\"muted_glyph\":{\"type\":\"object\",\"name\":\"Segment\",\"id\":\"p2674\",\"attributes\":{\"x0\":{\"type\":\"field\",\"field\":\"index\"},\"y0\":{\"type\":\"field\",\"field\":\"High\"},\"x1\":{\"type\":\"field\",\"field\":\"index\"},\"y1\":{\"type\":\"field\",\"field\":\"Low\"},\"line_color\":{\"type\":\"value\",\"value\":\"#bbbbbb\"},\"line_alpha\":{\"type\":\"value\",\"value\":0.2}}}}},{\"type\":\"object\",\"name\":\"GlyphRenderer\",\"id\":\"p2685\",\"attributes\":{\"data_source\":{\"id\":\"p2666\"},\"view\":{\"type\":\"object\",\"name\":\"CDSView\",\"id\":\"p2686\",\"attributes\":{\"filter\":{\"type\":\"object\",\"name\":\"AllIndices\",\"id\":\"p2687\"}}},\"glyph\":{\"type\":\"object\",\"name\":\"VBar\",\"id\":\"p2682\",\"attributes\":{\"x\":{\"type\":\"field\",\"field\":\"index\"},\"width\":{\"type\":\"field\",\"field\":\"_width\"},\"bottom\":{\"type\":\"field\",\"field\":\"Close\"},\"top\":{\"type\":\"field\",\"field\":\"Open\"},\"line_color\":{\"type\":\"value\",\"value\":null},\"fill_color\":{\"type\":\"field\",\"field\":\"inc\",\"transform\":{\"type\":\"object\",\"name\":\"CategoricalColorMapper\",\"id\":\"p2678\",\"attributes\":{\"palette\":[\"rgb(255.0, 220.40869565217392, 214.20000000000002)\",\"rgb(214.20000000000005, 254.99999999999997, 214.20000000000005)\"],\"factors\":[\"0\",\"1\"]}}}}},\"nonselection_glyph\":{\"type\":\"object\",\"name\":\"VBar\",\"id\":\"p2683\",\"attributes\":{\"x\":{\"type\":\"field\",\"field\":\"index\"},\"width\":{\"type\":\"field\",\"field\":\"_width\"},\"bottom\":{\"type\":\"field\",\"field\":\"Close\"},\"top\":{\"type\":\"field\",\"field\":\"Open\"},\"line_color\":{\"type\":\"value\",\"value\":null},\"line_alpha\":{\"type\":\"value\",\"value\":0.1},\"fill_color\":{\"type\":\"field\",\"field\":\"inc\",\"transform\":{\"id\":\"p2678\"}},\"fill_alpha\":{\"type\":\"value\",\"value\":0.1},\"hatch_alpha\":{\"type\":\"value\",\"value\":0.1}}},\"muted_glyph\":{\"type\":\"object\",\"name\":\"VBar\",\"id\":\"p2684\",\"attributes\":{\"x\":{\"type\":\"field\",\"field\":\"index\"},\"width\":{\"type\":\"field\",\"field\":\"_width\"},\"bottom\":{\"type\":\"field\",\"field\":\"Close\"},\"top\":{\"type\":\"field\",\"field\":\"Open\"},\"line_color\":{\"type\":\"value\",\"value\":null},\"line_alpha\":{\"type\":\"value\",\"value\":0.2},\"fill_color\":{\"type\":\"field\",\"field\":\"inc\",\"transform\":{\"id\":\"p2678\"}},\"fill_alpha\":{\"type\":\"value\",\"value\":0.2},\"hatch_alpha\":{\"type\":\"value\",\"value\":0.2}}}}},{\"type\":\"object\",\"name\":\"GlyphRenderer\",\"id\":\"p2694\",\"attributes\":{\"data_source\":{\"id\":\"p2459\"},\"view\":{\"type\":\"object\",\"name\":\"CDSView\",\"id\":\"p2695\",\"attributes\":{\"filter\":{\"type\":\"object\",\"name\":\"AllIndices\",\"id\":\"p2696\"}}},\"glyph\":{\"type\":\"object\",\"name\":\"Segment\",\"id\":\"p2691\",\"attributes\":{\"x0\":{\"type\":\"field\",\"field\":\"index\"},\"y0\":{\"type\":\"field\",\"field\":\"High\"},\"x1\":{\"type\":\"field\",\"field\":\"index\"},\"y1\":{\"type\":\"field\",\"field\":\"Low\"}}},\"nonselection_glyph\":{\"type\":\"object\",\"name\":\"Segment\",\"id\":\"p2692\",\"attributes\":{\"x0\":{\"type\":\"field\",\"field\":\"index\"},\"y0\":{\"type\":\"field\",\"field\":\"High\"},\"x1\":{\"type\":\"field\",\"field\":\"index\"},\"y1\":{\"type\":\"field\",\"field\":\"Low\"},\"line_alpha\":{\"type\":\"value\",\"value\":0.1}}},\"muted_glyph\":{\"type\":\"object\",\"name\":\"Segment\",\"id\":\"p2693\",\"attributes\":{\"x0\":{\"type\":\"field\",\"field\":\"index\"},\"y0\":{\"type\":\"field\",\"field\":\"High\"},\"x1\":{\"type\":\"field\",\"field\":\"index\"},\"y1\":{\"type\":\"field\",\"field\":\"Low\"},\"line_alpha\":{\"type\":\"value\",\"value\":0.2}}}}},{\"id\":\"p2703\"},{\"type\":\"object\",\"name\":\"GlyphRenderer\",\"id\":\"p2712\",\"attributes\":{\"data_source\":{\"id\":\"p2462\"},\"view\":{\"type\":\"object\",\"name\":\"CDSView\",\"id\":\"p2713\",\"attributes\":{\"filter\":{\"type\":\"object\",\"name\":\"AllIndices\",\"id\":\"p2714\"}}},\"glyph\":{\"type\":\"object\",\"name\":\"MultiLine\",\"id\":\"p2709\",\"attributes\":{\"xs\":{\"type\":\"field\",\"field\":\"position_lines_xs\"},\"ys\":{\"type\":\"field\",\"field\":\"position_lines_ys\"},\"line_color\":{\"type\":\"field\",\"field\":\"returns_positive\",\"transform\":{\"type\":\"object\",\"name\":\"CategoricalColorMapper\",\"id\":\"p2467\",\"attributes\":{\"palette\":[\"rgb(178.5, 27.163043478260846, 0.0)\",\"rgb(0.0, 178.5, 0.0)\"],\"factors\":[\"0\",\"1\"]}}},\"line_width\":{\"type\":\"value\",\"value\":8},\"line_dash\":{\"type\":\"value\",\"value\":\"dotted\"}}},\"nonselection_glyph\":{\"type\":\"object\",\"name\":\"MultiLine\",\"id\":\"p2710\",\"attributes\":{\"xs\":{\"type\":\"field\",\"field\":\"position_lines_xs\"},\"ys\":{\"type\":\"field\",\"field\":\"position_lines_ys\"},\"line_color\":{\"type\":\"field\",\"field\":\"returns_positive\",\"transform\":{\"id\":\"p2467\"}},\"line_alpha\":{\"type\":\"value\",\"value\":0.1},\"line_width\":{\"type\":\"value\",\"value\":8},\"line_dash\":{\"type\":\"value\",\"value\":\"dotted\"}}},\"muted_glyph\":{\"type\":\"object\",\"name\":\"MultiLine\",\"id\":\"p2711\",\"attributes\":{\"xs\":{\"type\":\"field\",\"field\":\"position_lines_xs\"},\"ys\":{\"type\":\"field\",\"field\":\"position_lines_ys\"},\"line_color\":{\"type\":\"field\",\"field\":\"returns_positive\",\"transform\":{\"id\":\"p2467\"}},\"line_alpha\":{\"type\":\"value\",\"value\":0.2},\"line_width\":{\"type\":\"value\",\"value\":8},\"line_dash\":{\"type\":\"value\",\"value\":\"dotted\"}}}}},{\"type\":\"object\",\"name\":\"GlyphRenderer\",\"id\":\"p2723\",\"attributes\":{\"data_source\":{\"id\":\"p2459\"},\"view\":{\"type\":\"object\",\"name\":\"CDSView\",\"id\":\"p2724\",\"attributes\":{\"filter\":{\"type\":\"object\",\"name\":\"AllIndices\",\"id\":\"p2725\"}}},\"glyph\":{\"type\":\"object\",\"name\":\"Line\",\"id\":\"p2720\",\"attributes\":{\"x\":{\"type\":\"field\",\"field\":\"index\"},\"y\":{\"type\":\"field\",\"field\":\"sma_indic\\u2026(20)_0_1\"},\"line_color\":\"#1f77b4\",\"line_width\":1.3}},\"nonselection_glyph\":{\"type\":\"object\",\"name\":\"Line\",\"id\":\"p2721\",\"attributes\":{\"x\":{\"type\":\"field\",\"field\":\"index\"},\"y\":{\"type\":\"field\",\"field\":\"sma_indic\\u2026(20)_0_1\"},\"line_color\":\"#1f77b4\",\"line_alpha\":0.1,\"line_width\":1.3}},\"muted_glyph\":{\"type\":\"object\",\"name\":\"Line\",\"id\":\"p2722\",\"attributes\":{\"x\":{\"type\":\"field\",\"field\":\"index\"},\"y\":{\"type\":\"field\",\"field\":\"sma_indic\\u2026(20)_0_1\"},\"line_color\":\"#1f77b4\",\"line_alpha\":0.2,\"line_width\":1.3}}}}],\"toolbar\":{\"type\":\"object\",\"name\":\"Toolbar\",\"id\":\"p2434\",\"attributes\":{\"tools\":[{\"id\":\"p2447\"},{\"id\":\"p2448\"},{\"id\":\"p2449\"},{\"id\":\"p2455\"},{\"id\":\"p2456\"},{\"id\":\"p2457\"},{\"type\":\"object\",\"name\":\"SaveTool\",\"id\":\"p2458\"},{\"id\":\"p3088\"},{\"id\":\"p3090\"}],\"active_drag\":{\"id\":\"p2447\"},\"active_scroll\":{\"id\":\"p2448\"}}},\"toolbar_location\":null,\"left\":[{\"type\":\"object\",\"name\":\"LinearAxis\",\"id\":\"p2442\",\"attributes\":{\"ticker\":{\"type\":\"object\",\"name\":\"BasicTicker\",\"id\":\"p2443\",\"attributes\":{\"mantissas\":[1,2,5]}},\"formatter\":{\"type\":\"object\",\"name\":\"BasicTickFormatter\",\"id\":\"p2444\"},\"major_label_policy\":{\"type\":\"object\",\"name\":\"AllLabels\",\"id\":\"p2445\"}}}],\"below\":[{\"type\":\"object\",\"name\":\"LinearAxis\",\"id\":\"p2437\",\"attributes\":{\"visible\":false,\"ticker\":{\"type\":\"object\",\"name\":\"BasicTicker\",\"id\":\"p2438\",\"attributes\":{\"mantissas\":[1,2,5]}},\"formatter\":{\"type\":\"object\",\"name\":\"CustomJSTickFormatter\",\"id\":\"p2469\",\"attributes\":{\"args\":{\"type\":\"map\",\"entries\":[[\"axis\",{\"id\":\"p2437\"}],[\"formatter\",{\"type\":\"object\",\"name\":\"DatetimeTickFormatter\",\"id\":\"p2468\",\"attributes\":{\"days\":\"%d %b\"}}],[\"source\",{\"id\":\"p2459\"}]]},\"code\":\"\\nthis.labels = this.labels || formatter.doFormat(ticks\\n                                                .map(i => source.data.datetime[i])\\n                                                .filter(t => t !== undefined));\\nreturn this.labels[index] || \\\"\\\";\\n        \"}},\"major_label_policy\":{\"type\":\"object\",\"name\":\"AllLabels\",\"id\":\"p2440\"}}}],\"center\":[{\"type\":\"object\",\"name\":\"Grid\",\"id\":\"p2441\",\"attributes\":{\"axis\":{\"id\":\"p2437\"}}},{\"type\":\"object\",\"name\":\"Grid\",\"id\":\"p2446\",\"attributes\":{\"dimension\":1,\"axis\":{\"id\":\"p2442\"}}},{\"type\":\"object\",\"name\":\"Legend\",\"id\":\"p2715\",\"attributes\":{\"location\":\"top_left\",\"border_line_color\":\"#333333\",\"click_policy\":\"hide\",\"label_text_font_size\":\"8pt\",\"margin\":0,\"padding\":5,\"spacing\":0,\"items\":[{\"type\":\"object\",\"name\":\"LegendItem\",\"id\":\"p2716\",\"attributes\":{\"label\":{\"type\":\"value\",\"value\":\"Trades (1)\"},\"renderers\":[{\"id\":\"p2712\"}]}},{\"type\":\"object\",\"name\":\"LegendItem\",\"id\":\"p2726\",\"attributes\":{\"label\":{\"type\":\"value\",\"value\":\"sma_indic\\u2026(20)\"},\"renderers\":[{\"id\":\"p2723\"}]}}]}}],\"min_border_top\":3,\"min_border_bottom\":6,\"min_border_left\":0,\"min_border_right\":10}},2,0],[{\"type\":\"object\",\"name\":\"Figure\",\"id\":\"p2622\",\"attributes\":{\"width\":null,\"height\":90,\"sizing_mode\":\"stretch_width\",\"x_range\":{\"id\":\"p2425\"},\"y_range\":{\"id\":\"p2624\"},\"x_scale\":{\"type\":\"object\",\"name\":\"LinearScale\",\"id\":\"p2631\"},\"y_scale\":{\"type\":\"object\",\"name\":\"LinearScale\",\"id\":\"p2632\"},\"title\":{\"type\":\"object\",\"name\":\"Title\",\"id\":\"p2629\"},\"outline_line_color\":\"#666666\",\"renderers\":[{\"id\":\"p2661\"}],\"toolbar\":{\"type\":\"object\",\"name\":\"Toolbar\",\"id\":\"p2630\",\"attributes\":{\"tools\":[{\"id\":\"p2643\"},{\"id\":\"p2644\"},{\"id\":\"p2645\"},{\"id\":\"p2651\"},{\"id\":\"p2652\"},{\"id\":\"p2653\"},{\"type\":\"object\",\"name\":\"SaveTool\",\"id\":\"p2654\"},{\"id\":\"p2664\"},{\"id\":\"p3090\"}],\"active_drag\":{\"id\":\"p2643\"},\"active_scroll\":{\"id\":\"p2644\"}}},\"toolbar_location\":null,\"left\":[{\"type\":\"object\",\"name\":\"LinearAxis\",\"id\":\"p2638\",\"attributes\":{\"ticker\":{\"type\":\"object\",\"name\":\"BasicTicker\",\"id\":\"p2639\",\"attributes\":{\"mantissas\":[1,2,5]}},\"formatter\":{\"type\":\"object\",\"name\":\"NumeralTickFormatter\",\"id\":\"p2665\",\"attributes\":{\"format\":\"0 a\"}},\"axis_label\":\"Volume\",\"major_label_policy\":{\"type\":\"object\",\"name\":\"AllLabels\",\"id\":\"p2641\"},\"minor_tick_line_color\":null}}],\"below\":[{\"type\":\"object\",\"name\":\"LinearAxis\",\"id\":\"p2633\",\"attributes\":{\"visible\":true,\"ticker\":{\"type\":\"object\",\"name\":\"BasicTicker\",\"id\":\"p2634\",\"attributes\":{\"mantissas\":[1,2,5]}},\"formatter\":{\"id\":\"p2469\"},\"major_label_policy\":{\"type\":\"object\",\"name\":\"AllLabels\",\"id\":\"p2636\"}}}],\"center\":[{\"type\":\"object\",\"name\":\"Grid\",\"id\":\"p2637\",\"attributes\":{\"axis\":{\"id\":\"p2633\"}}},{\"type\":\"object\",\"name\":\"Grid\",\"id\":\"p2642\",\"attributes\":{\"dimension\":1,\"axis\":{\"id\":\"p2638\"}}}],\"min_border_top\":3,\"min_border_bottom\":6,\"min_border_left\":0,\"min_border_right\":10}},3,0],[{\"type\":\"object\",\"name\":\"Figure\",\"id\":\"p2727\",\"attributes\":{\"width\":null,\"height\":90,\"sizing_mode\":\"stretch_width\",\"x_range\":{\"id\":\"p2425\"},\"y_range\":{\"type\":\"object\",\"name\":\"DataRange1d\",\"id\":\"p2729\"},\"x_scale\":{\"type\":\"object\",\"name\":\"LinearScale\",\"id\":\"p2736\"},\"y_scale\":{\"type\":\"object\",\"name\":\"LinearScale\",\"id\":\"p2737\"},\"title\":{\"type\":\"object\",\"name\":\"Title\",\"id\":\"p2734\"},\"outline_line_color\":\"#666666\",\"renderers\":[{\"id\":\"p2766\"}],\"toolbar\":{\"type\":\"object\",\"name\":\"Toolbar\",\"id\":\"p2735\",\"attributes\":{\"tools\":[{\"id\":\"p2748\"},{\"id\":\"p2749\"},{\"id\":\"p2750\"},{\"id\":\"p2756\"},{\"id\":\"p2757\"},{\"id\":\"p2758\"},{\"type\":\"object\",\"name\":\"SaveTool\",\"id\":\"p2759\"},{\"id\":\"p2771\"},{\"id\":\"p3090\"}],\"active_drag\":{\"id\":\"p2748\"},\"active_scroll\":{\"id\":\"p2749\"}}},\"toolbar_location\":null,\"left\":[{\"type\":\"object\",\"name\":\"LinearAxis\",\"id\":\"p2743\",\"attributes\":{\"ticker\":{\"type\":\"object\",\"name\":\"BasicTicker\",\"id\":\"p2744\",\"attributes\":{\"mantissas\":[1,2,5]}},\"formatter\":{\"type\":\"object\",\"name\":\"BasicTickFormatter\",\"id\":\"p2745\"},\"major_label_policy\":{\"type\":\"object\",\"name\":\"AllLabels\",\"id\":\"p2746\"},\"minor_tick_line_color\":null}}],\"below\":[{\"type\":\"object\",\"name\":\"LinearAxis\",\"id\":\"p2738\",\"attributes\":{\"visible\":false,\"ticker\":{\"type\":\"object\",\"name\":\"BasicTicker\",\"id\":\"p2739\",\"attributes\":{\"mantissas\":[1,2,5]}},\"formatter\":{\"type\":\"object\",\"name\":\"BasicTickFormatter\",\"id\":\"p2740\"},\"major_label_policy\":{\"type\":\"object\",\"name\":\"AllLabels\",\"id\":\"p2741\"}}}],\"center\":[{\"type\":\"object\",\"name\":\"Grid\",\"id\":\"p2742\",\"attributes\":{\"axis\":{\"id\":\"p2738\"}}},{\"type\":\"object\",\"name\":\"Grid\",\"id\":\"p2747\",\"attributes\":{\"dimension\":1,\"axis\":{\"id\":\"p2743\"}}},{\"type\":\"object\",\"name\":\"Legend\",\"id\":\"p2769\",\"attributes\":{\"location\":\"top_left\",\"border_line_color\":\"#333333\",\"click_policy\":\"hide\",\"label_text_font_size\":\"8pt\",\"glyph_width\":0,\"margin\":0,\"padding\":5,\"spacing\":0,\"items\":[{\"type\":\"object\",\"name\":\"LegendItem\",\"id\":\"p2770\",\"attributes\":{\"label\":{\"type\":\"value\",\"value\":\"sma_indic\\u2026(50)\"},\"renderers\":[{\"id\":\"p2766\"}]}}]}}],\"min_border_top\":3,\"min_border_bottom\":6,\"min_border_left\":0,\"min_border_right\":10}},4,0],[{\"type\":\"object\",\"name\":\"Figure\",\"id\":\"p2772\",\"attributes\":{\"width\":null,\"height\":90,\"sizing_mode\":\"stretch_width\",\"x_range\":{\"id\":\"p2425\"},\"y_range\":{\"type\":\"object\",\"name\":\"DataRange1d\",\"id\":\"p2774\"},\"x_scale\":{\"type\":\"object\",\"name\":\"LinearScale\",\"id\":\"p2781\"},\"y_scale\":{\"type\":\"object\",\"name\":\"LinearScale\",\"id\":\"p2782\"},\"title\":{\"type\":\"object\",\"name\":\"Title\",\"id\":\"p2779\"},\"outline_line_color\":\"#666666\",\"renderers\":[{\"id\":\"p2811\"}],\"toolbar\":{\"type\":\"object\",\"name\":\"Toolbar\",\"id\":\"p2780\",\"attributes\":{\"tools\":[{\"id\":\"p2793\"},{\"id\":\"p2794\"},{\"id\":\"p2795\"},{\"id\":\"p2801\"},{\"id\":\"p2802\"},{\"id\":\"p2803\"},{\"type\":\"object\",\"name\":\"SaveTool\",\"id\":\"p2804\"},{\"id\":\"p2816\"},{\"id\":\"p3090\"}],\"active_drag\":{\"id\":\"p2793\"},\"active_scroll\":{\"id\":\"p2794\"}}},\"toolbar_location\":null,\"left\":[{\"type\":\"object\",\"name\":\"LinearAxis\",\"id\":\"p2788\",\"attributes\":{\"ticker\":{\"type\":\"object\",\"name\":\"BasicTicker\",\"id\":\"p2789\",\"attributes\":{\"mantissas\":[1,2,5]}},\"formatter\":{\"type\":\"object\",\"name\":\"BasicTickFormatter\",\"id\":\"p2790\"},\"major_label_policy\":{\"type\":\"object\",\"name\":\"AllLabels\",\"id\":\"p2791\"},\"minor_tick_line_color\":null}}],\"below\":[{\"type\":\"object\",\"name\":\"LinearAxis\",\"id\":\"p2783\",\"attributes\":{\"visible\":false,\"ticker\":{\"type\":\"object\",\"name\":\"BasicTicker\",\"id\":\"p2784\",\"attributes\":{\"mantissas\":[1,2,5]}},\"formatter\":{\"type\":\"object\",\"name\":\"BasicTickFormatter\",\"id\":\"p2785\"},\"major_label_policy\":{\"type\":\"object\",\"name\":\"AllLabels\",\"id\":\"p2786\"}}}],\"center\":[{\"type\":\"object\",\"name\":\"Grid\",\"id\":\"p2787\",\"attributes\":{\"axis\":{\"id\":\"p2783\"}}},{\"type\":\"object\",\"name\":\"Grid\",\"id\":\"p2792\",\"attributes\":{\"dimension\":1,\"axis\":{\"id\":\"p2788\"}}},{\"type\":\"object\",\"name\":\"Legend\",\"id\":\"p2814\",\"attributes\":{\"location\":\"top_left\",\"border_line_color\":\"#333333\",\"click_policy\":\"hide\",\"label_text_font_size\":\"8pt\",\"glyph_width\":0,\"margin\":0,\"padding\":5,\"spacing\":0,\"items\":[{\"type\":\"object\",\"name\":\"LegendItem\",\"id\":\"p2815\",\"attributes\":{\"label\":{\"type\":\"value\",\"value\":\"rsi(14)\"},\"renderers\":[{\"id\":\"p2811\"}]}}]}}],\"min_border_top\":3,\"min_border_bottom\":6,\"min_border_left\":0,\"min_border_right\":10}},5,0],[{\"type\":\"object\",\"name\":\"Figure\",\"id\":\"p2817\",\"attributes\":{\"width\":null,\"height\":90,\"sizing_mode\":\"stretch_width\",\"x_range\":{\"id\":\"p2425\"},\"y_range\":{\"type\":\"object\",\"name\":\"DataRange1d\",\"id\":\"p2819\"},\"x_scale\":{\"type\":\"object\",\"name\":\"LinearScale\",\"id\":\"p2826\"},\"y_scale\":{\"type\":\"object\",\"name\":\"LinearScale\",\"id\":\"p2827\"},\"title\":{\"type\":\"object\",\"name\":\"Title\",\"id\":\"p2824\"},\"outline_line_color\":\"#666666\",\"renderers\":[{\"id\":\"p2856\"}],\"toolbar\":{\"type\":\"object\",\"name\":\"Toolbar\",\"id\":\"p2825\",\"attributes\":{\"tools\":[{\"id\":\"p2838\"},{\"id\":\"p2839\"},{\"id\":\"p2840\"},{\"id\":\"p2846\"},{\"id\":\"p2847\"},{\"id\":\"p2848\"},{\"type\":\"object\",\"name\":\"SaveTool\",\"id\":\"p2849\"},{\"id\":\"p2862\"},{\"id\":\"p3090\"}],\"active_drag\":{\"id\":\"p2838\"},\"active_scroll\":{\"id\":\"p2839\"}}},\"toolbar_location\":null,\"left\":[{\"type\":\"object\",\"name\":\"LinearAxis\",\"id\":\"p2833\",\"attributes\":{\"ticker\":{\"type\":\"object\",\"name\":\"BasicTicker\",\"id\":\"p2834\",\"attributes\":{\"mantissas\":[1,2,5]}},\"formatter\":{\"type\":\"object\",\"name\":\"BasicTickFormatter\",\"id\":\"p2835\"},\"major_label_policy\":{\"type\":\"object\",\"name\":\"AllLabels\",\"id\":\"p2836\"},\"minor_tick_line_color\":null}}],\"below\":[{\"type\":\"object\",\"name\":\"LinearAxis\",\"id\":\"p2828\",\"attributes\":{\"visible\":false,\"ticker\":{\"type\":\"object\",\"name\":\"BasicTicker\",\"id\":\"p2829\",\"attributes\":{\"mantissas\":[1,2,5]}},\"formatter\":{\"type\":\"object\",\"name\":\"BasicTickFormatter\",\"id\":\"p2830\"},\"major_label_policy\":{\"type\":\"object\",\"name\":\"AllLabels\",\"id\":\"p2831\"}}}],\"center\":[{\"type\":\"object\",\"name\":\"Grid\",\"id\":\"p2832\",\"attributes\":{\"axis\":{\"id\":\"p2828\"}}},{\"type\":\"object\",\"name\":\"Grid\",\"id\":\"p2837\",\"attributes\":{\"dimension\":1,\"axis\":{\"id\":\"p2833\"}}},{\"type\":\"object\",\"name\":\"Legend\",\"id\":\"p2859\",\"attributes\":{\"location\":\"top_left\",\"border_line_color\":\"#333333\",\"click_policy\":\"hide\",\"label_text_font_size\":\"8pt\",\"glyph_width\":0,\"margin\":0,\"padding\":5,\"spacing\":0,\"items\":[{\"type\":\"object\",\"name\":\"LegendItem\",\"id\":\"p2860\",\"attributes\":{\"label\":{\"type\":\"value\",\"value\":\"macd_diff\"},\"renderers\":[{\"id\":\"p2856\"}]}}]}},{\"type\":\"object\",\"name\":\"Span\",\"id\":\"p2861\",\"attributes\":{\"location\":-0.05191523306231402,\"line_color\":\"#666666\",\"line_width\":0.5,\"line_dash\":[6]}}],\"min_border_top\":3,\"min_border_bottom\":6,\"min_border_left\":0,\"min_border_right\":10}},6,0],[{\"type\":\"object\",\"name\":\"Figure\",\"id\":\"p2863\",\"attributes\":{\"width\":null,\"height\":90,\"sizing_mode\":\"stretch_width\",\"x_range\":{\"id\":\"p2425\"},\"y_range\":{\"type\":\"object\",\"name\":\"DataRange1d\",\"id\":\"p2865\"},\"x_scale\":{\"type\":\"object\",\"name\":\"LinearScale\",\"id\":\"p2872\"},\"y_scale\":{\"type\":\"object\",\"name\":\"LinearScale\",\"id\":\"p2873\"},\"title\":{\"type\":\"object\",\"name\":\"Title\",\"id\":\"p2870\"},\"outline_line_color\":\"#666666\",\"renderers\":[{\"id\":\"p2902\"}],\"toolbar\":{\"type\":\"object\",\"name\":\"Toolbar\",\"id\":\"p2871\",\"attributes\":{\"tools\":[{\"id\":\"p2884\"},{\"id\":\"p2885\"},{\"id\":\"p2886\"},{\"id\":\"p2892\"},{\"id\":\"p2893\"},{\"id\":\"p2894\"},{\"type\":\"object\",\"name\":\"SaveTool\",\"id\":\"p2895\"},{\"id\":\"p2907\"},{\"id\":\"p3090\"}],\"active_drag\":{\"id\":\"p2884\"},\"active_scroll\":{\"id\":\"p2885\"}}},\"toolbar_location\":null,\"left\":[{\"type\":\"object\",\"name\":\"LinearAxis\",\"id\":\"p2879\",\"attributes\":{\"ticker\":{\"type\":\"object\",\"name\":\"BasicTicker\",\"id\":\"p2880\",\"attributes\":{\"mantissas\":[1,2,5]}},\"formatter\":{\"type\":\"object\",\"name\":\"BasicTickFormatter\",\"id\":\"p2881\"},\"major_label_policy\":{\"type\":\"object\",\"name\":\"AllLabels\",\"id\":\"p2882\"},\"minor_tick_line_color\":null}}],\"below\":[{\"type\":\"object\",\"name\":\"LinearAxis\",\"id\":\"p2874\",\"attributes\":{\"visible\":false,\"ticker\":{\"type\":\"object\",\"name\":\"BasicTicker\",\"id\":\"p2875\",\"attributes\":{\"mantissas\":[1,2,5]}},\"formatter\":{\"type\":\"object\",\"name\":\"BasicTickFormatter\",\"id\":\"p2876\"},\"major_label_policy\":{\"type\":\"object\",\"name\":\"AllLabels\",\"id\":\"p2877\"}}}],\"center\":[{\"type\":\"object\",\"name\":\"Grid\",\"id\":\"p2878\",\"attributes\":{\"axis\":{\"id\":\"p2874\"}}},{\"type\":\"object\",\"name\":\"Grid\",\"id\":\"p2883\",\"attributes\":{\"dimension\":1,\"axis\":{\"id\":\"p2879\"}}},{\"type\":\"object\",\"name\":\"Legend\",\"id\":\"p2905\",\"attributes\":{\"location\":\"top_left\",\"border_line_color\":\"#333333\",\"click_policy\":\"hide\",\"label_text_font_size\":\"8pt\",\"glyph_width\":0,\"margin\":0,\"padding\":5,\"spacing\":0,\"items\":[{\"type\":\"object\",\"name\":\"LegendItem\",\"id\":\"p2906\",\"attributes\":{\"label\":{\"type\":\"value\",\"value\":\"stoch(14)\"},\"renderers\":[{\"id\":\"p2902\"}]}}]}}],\"min_border_top\":3,\"min_border_bottom\":6,\"min_border_left\":0,\"min_border_right\":10}},7,0],[{\"type\":\"object\",\"name\":\"Figure\",\"id\":\"p2908\",\"attributes\":{\"width\":null,\"height\":90,\"sizing_mode\":\"stretch_width\",\"x_range\":{\"id\":\"p2425\"},\"y_range\":{\"type\":\"object\",\"name\":\"DataRange1d\",\"id\":\"p2910\"},\"x_scale\":{\"type\":\"object\",\"name\":\"LinearScale\",\"id\":\"p2917\"},\"y_scale\":{\"type\":\"object\",\"name\":\"LinearScale\",\"id\":\"p2918\"},\"title\":{\"type\":\"object\",\"name\":\"Title\",\"id\":\"p2915\"},\"outline_line_color\":\"#666666\",\"renderers\":[{\"id\":\"p2947\"}],\"toolbar\":{\"type\":\"object\",\"name\":\"Toolbar\",\"id\":\"p2916\",\"attributes\":{\"tools\":[{\"id\":\"p2929\"},{\"id\":\"p2930\"},{\"id\":\"p2931\"},{\"id\":\"p2937\"},{\"id\":\"p2938\"},{\"id\":\"p2939\"},{\"type\":\"object\",\"name\":\"SaveTool\",\"id\":\"p2940\"},{\"id\":\"p2952\"},{\"id\":\"p3090\"}],\"active_drag\":{\"id\":\"p2929\"},\"active_scroll\":{\"id\":\"p2930\"}}},\"toolbar_location\":null,\"left\":[{\"type\":\"object\",\"name\":\"LinearAxis\",\"id\":\"p2924\",\"attributes\":{\"ticker\":{\"type\":\"object\",\"name\":\"BasicTicker\",\"id\":\"p2925\",\"attributes\":{\"mantissas\":[1,2,5]}},\"formatter\":{\"type\":\"object\",\"name\":\"BasicTickFormatter\",\"id\":\"p2926\"},\"major_label_policy\":{\"type\":\"object\",\"name\":\"AllLabels\",\"id\":\"p2927\"},\"minor_tick_line_color\":null}}],\"below\":[{\"type\":\"object\",\"name\":\"LinearAxis\",\"id\":\"p2919\",\"attributes\":{\"visible\":false,\"ticker\":{\"type\":\"object\",\"name\":\"BasicTicker\",\"id\":\"p2920\",\"attributes\":{\"mantissas\":[1,2,5]}},\"formatter\":{\"type\":\"object\",\"name\":\"BasicTickFormatter\",\"id\":\"p2921\"},\"major_label_policy\":{\"type\":\"object\",\"name\":\"AllLabels\",\"id\":\"p2922\"}}}],\"center\":[{\"type\":\"object\",\"name\":\"Grid\",\"id\":\"p2923\",\"attributes\":{\"axis\":{\"id\":\"p2919\"}}},{\"type\":\"object\",\"name\":\"Grid\",\"id\":\"p2928\",\"attributes\":{\"dimension\":1,\"axis\":{\"id\":\"p2924\"}}},{\"type\":\"object\",\"name\":\"Legend\",\"id\":\"p2950\",\"attributes\":{\"location\":\"top_left\",\"border_line_color\":\"#333333\",\"click_policy\":\"hide\",\"label_text_font_size\":\"8pt\",\"glyph_width\":0,\"margin\":0,\"padding\":5,\"spacing\":0,\"items\":[{\"type\":\"object\",\"name\":\"LegendItem\",\"id\":\"p2951\",\"attributes\":{\"label\":{\"type\":\"value\",\"value\":\"stoch_sig\\u2026(14)\"},\"renderers\":[{\"id\":\"p2947\"}]}}]}}],\"min_border_top\":3,\"min_border_bottom\":6,\"min_border_left\":0,\"min_border_right\":10}},8,0],[{\"type\":\"object\",\"name\":\"Figure\",\"id\":\"p2953\",\"attributes\":{\"width\":null,\"height\":90,\"sizing_mode\":\"stretch_width\",\"x_range\":{\"id\":\"p2425\"},\"y_range\":{\"type\":\"object\",\"name\":\"DataRange1d\",\"id\":\"p2955\"},\"x_scale\":{\"type\":\"object\",\"name\":\"LinearScale\",\"id\":\"p2962\"},\"y_scale\":{\"type\":\"object\",\"name\":\"LinearScale\",\"id\":\"p2963\"},\"title\":{\"type\":\"object\",\"name\":\"Title\",\"id\":\"p2960\"},\"outline_line_color\":\"#666666\",\"renderers\":[{\"id\":\"p2992\"}],\"toolbar\":{\"type\":\"object\",\"name\":\"Toolbar\",\"id\":\"p2961\",\"attributes\":{\"tools\":[{\"id\":\"p2974\"},{\"id\":\"p2975\"},{\"id\":\"p2976\"},{\"id\":\"p2982\"},{\"id\":\"p2983\"},{\"id\":\"p2984\"},{\"type\":\"object\",\"name\":\"SaveTool\",\"id\":\"p2985\"},{\"id\":\"p2997\"},{\"id\":\"p3090\"}],\"active_drag\":{\"id\":\"p2974\"},\"active_scroll\":{\"id\":\"p2975\"}}},\"toolbar_location\":null,\"left\":[{\"type\":\"object\",\"name\":\"LinearAxis\",\"id\":\"p2969\",\"attributes\":{\"ticker\":{\"type\":\"object\",\"name\":\"BasicTicker\",\"id\":\"p2970\",\"attributes\":{\"mantissas\":[1,2,5]}},\"formatter\":{\"type\":\"object\",\"name\":\"BasicTickFormatter\",\"id\":\"p2971\"},\"major_label_policy\":{\"type\":\"object\",\"name\":\"AllLabels\",\"id\":\"p2972\"},\"minor_tick_line_color\":null}}],\"below\":[{\"type\":\"object\",\"name\":\"LinearAxis\",\"id\":\"p2964\",\"attributes\":{\"visible\":false,\"ticker\":{\"type\":\"object\",\"name\":\"BasicTicker\",\"id\":\"p2965\",\"attributes\":{\"mantissas\":[1,2,5]}},\"formatter\":{\"type\":\"object\",\"name\":\"BasicTickFormatter\",\"id\":\"p2966\"},\"major_label_policy\":{\"type\":\"object\",\"name\":\"AllLabels\",\"id\":\"p2967\"}}}],\"center\":[{\"type\":\"object\",\"name\":\"Grid\",\"id\":\"p2968\",\"attributes\":{\"axis\":{\"id\":\"p2964\"}}},{\"type\":\"object\",\"name\":\"Grid\",\"id\":\"p2973\",\"attributes\":{\"dimension\":1,\"axis\":{\"id\":\"p2969\"}}},{\"type\":\"object\",\"name\":\"Legend\",\"id\":\"p2995\",\"attributes\":{\"location\":\"top_left\",\"border_line_color\":\"#333333\",\"click_policy\":\"hide\",\"label_text_font_size\":\"8pt\",\"glyph_width\":0,\"margin\":0,\"padding\":5,\"spacing\":0,\"items\":[{\"type\":\"object\",\"name\":\"LegendItem\",\"id\":\"p2996\",\"attributes\":{\"label\":{\"type\":\"value\",\"value\":\"cci(20)\"},\"renderers\":[{\"id\":\"p2992\"}]}}]}}],\"min_border_top\":3,\"min_border_bottom\":6,\"min_border_left\":0,\"min_border_right\":10}},9,0],[{\"type\":\"object\",\"name\":\"Figure\",\"id\":\"p2998\",\"attributes\":{\"width\":null,\"height\":90,\"sizing_mode\":\"stretch_width\",\"x_range\":{\"id\":\"p2425\"},\"y_range\":{\"type\":\"object\",\"name\":\"DataRange1d\",\"id\":\"p3000\"},\"x_scale\":{\"type\":\"object\",\"name\":\"LinearScale\",\"id\":\"p3007\"},\"y_scale\":{\"type\":\"object\",\"name\":\"LinearScale\",\"id\":\"p3008\"},\"title\":{\"type\":\"object\",\"name\":\"Title\",\"id\":\"p3005\"},\"outline_line_color\":\"#666666\",\"renderers\":[{\"id\":\"p3037\"}],\"toolbar\":{\"type\":\"object\",\"name\":\"Toolbar\",\"id\":\"p3006\",\"attributes\":{\"tools\":[{\"id\":\"p3019\"},{\"id\":\"p3020\"},{\"id\":\"p3021\"},{\"id\":\"p3027\"},{\"id\":\"p3028\"},{\"id\":\"p3029\"},{\"type\":\"object\",\"name\":\"SaveTool\",\"id\":\"p3030\"},{\"id\":\"p3042\"},{\"id\":\"p3090\"}],\"active_drag\":{\"id\":\"p3019\"},\"active_scroll\":{\"id\":\"p3020\"}}},\"toolbar_location\":null,\"left\":[{\"type\":\"object\",\"name\":\"LinearAxis\",\"id\":\"p3014\",\"attributes\":{\"ticker\":{\"type\":\"object\",\"name\":\"BasicTicker\",\"id\":\"p3015\",\"attributes\":{\"mantissas\":[1,2,5]}},\"formatter\":{\"type\":\"object\",\"name\":\"BasicTickFormatter\",\"id\":\"p3016\"},\"major_label_policy\":{\"type\":\"object\",\"name\":\"AllLabels\",\"id\":\"p3017\"},\"minor_tick_line_color\":null}}],\"below\":[{\"type\":\"object\",\"name\":\"LinearAxis\",\"id\":\"p3009\",\"attributes\":{\"visible\":false,\"ticker\":{\"type\":\"object\",\"name\":\"BasicTicker\",\"id\":\"p3010\",\"attributes\":{\"mantissas\":[1,2,5]}},\"formatter\":{\"type\":\"object\",\"name\":\"BasicTickFormatter\",\"id\":\"p3011\"},\"major_label_policy\":{\"type\":\"object\",\"name\":\"AllLabels\",\"id\":\"p3012\"}}}],\"center\":[{\"type\":\"object\",\"name\":\"Grid\",\"id\":\"p3013\",\"attributes\":{\"axis\":{\"id\":\"p3009\"}}},{\"type\":\"object\",\"name\":\"Grid\",\"id\":\"p3018\",\"attributes\":{\"dimension\":1,\"axis\":{\"id\":\"p3014\"}}},{\"type\":\"object\",\"name\":\"Legend\",\"id\":\"p3040\",\"attributes\":{\"location\":\"top_left\",\"border_line_color\":\"#333333\",\"click_policy\":\"hide\",\"label_text_font_size\":\"8pt\",\"glyph_width\":0,\"margin\":0,\"padding\":5,\"spacing\":0,\"items\":[{\"type\":\"object\",\"name\":\"LegendItem\",\"id\":\"p3041\",\"attributes\":{\"label\":{\"type\":\"value\",\"value\":\"average_t\\u2026(14)\"},\"renderers\":[{\"id\":\"p3037\"}]}}]}}],\"min_border_top\":3,\"min_border_bottom\":6,\"min_border_left\":0,\"min_border_right\":10}},10,0],[{\"type\":\"object\",\"name\":\"Figure\",\"id\":\"p3043\",\"attributes\":{\"width\":null,\"height\":90,\"sizing_mode\":\"stretch_width\",\"x_range\":{\"id\":\"p2425\"},\"y_range\":{\"type\":\"object\",\"name\":\"DataRange1d\",\"id\":\"p3045\"},\"x_scale\":{\"type\":\"object\",\"name\":\"LinearScale\",\"id\":\"p3052\"},\"y_scale\":{\"type\":\"object\",\"name\":\"LinearScale\",\"id\":\"p3053\"},\"title\":{\"type\":\"object\",\"name\":\"Title\",\"id\":\"p3050\"},\"outline_line_color\":\"#666666\",\"renderers\":[{\"id\":\"p3082\"}],\"toolbar\":{\"type\":\"object\",\"name\":\"Toolbar\",\"id\":\"p3051\",\"attributes\":{\"tools\":[{\"id\":\"p3064\"},{\"id\":\"p3065\"},{\"id\":\"p3066\"},{\"id\":\"p3072\"},{\"id\":\"p3073\"},{\"id\":\"p3074\"},{\"type\":\"object\",\"name\":\"SaveTool\",\"id\":\"p3075\"},{\"id\":\"p3087\"},{\"id\":\"p3090\"}],\"active_drag\":{\"id\":\"p3064\"},\"active_scroll\":{\"id\":\"p3065\"}}},\"toolbar_location\":null,\"left\":[{\"type\":\"object\",\"name\":\"LinearAxis\",\"id\":\"p3059\",\"attributes\":{\"ticker\":{\"type\":\"object\",\"name\":\"BasicTicker\",\"id\":\"p3060\",\"attributes\":{\"mantissas\":[1,2,5]}},\"formatter\":{\"type\":\"object\",\"name\":\"BasicTickFormatter\",\"id\":\"p3061\"},\"major_label_policy\":{\"type\":\"object\",\"name\":\"AllLabels\",\"id\":\"p3062\"},\"minor_tick_line_color\":null}}],\"below\":[{\"type\":\"object\",\"name\":\"LinearAxis\",\"id\":\"p3054\",\"attributes\":{\"visible\":false,\"ticker\":{\"type\":\"object\",\"name\":\"BasicTicker\",\"id\":\"p3055\",\"attributes\":{\"mantissas\":[1,2,5]}},\"formatter\":{\"type\":\"object\",\"name\":\"BasicTickFormatter\",\"id\":\"p3056\"},\"major_label_policy\":{\"type\":\"object\",\"name\":\"AllLabels\",\"id\":\"p3057\"}}}],\"center\":[{\"type\":\"object\",\"name\":\"Grid\",\"id\":\"p3058\",\"attributes\":{\"axis\":{\"id\":\"p3054\"}}},{\"type\":\"object\",\"name\":\"Grid\",\"id\":\"p3063\",\"attributes\":{\"dimension\":1,\"axis\":{\"id\":\"p3059\"}}},{\"type\":\"object\",\"name\":\"Legend\",\"id\":\"p3085\",\"attributes\":{\"location\":\"top_left\",\"border_line_color\":\"#333333\",\"click_policy\":\"hide\",\"label_text_font_size\":\"8pt\",\"glyph_width\":0,\"margin\":0,\"padding\":5,\"spacing\":0,\"items\":[{\"type\":\"object\",\"name\":\"LegendItem\",\"id\":\"p3086\",\"attributes\":{\"label\":{\"type\":\"value\",\"value\":\"money_flo\\u2026(14)\"},\"renderers\":[{\"id\":\"p3082\"}]}}]}}],\"min_border_top\":3,\"min_border_bottom\":6,\"min_border_left\":0,\"min_border_right\":10}},11,0]]}}]}};\n",
              "  const render_items = [{\"docid\":\"cb89d39a-2ebf-4c28-bdf6-ca5e1f6e599e\",\"roots\":{\"p3100\":\"db5b25e6-b316-43a0-899f-6f7b25f4097a\"},\"root_ids\":[\"p3100\"]}];\n",
              "  root.Bokeh.embed.embed_items_notebook(docs_json, render_items);\n",
              "  }\n",
              "  if (root.Bokeh !== undefined) {\n",
              "    embed_document(root);\n",
              "  } else {\n",
              "    let attempts = 0;\n",
              "    const timer = setInterval(function(root) {\n",
              "      if (root.Bokeh !== undefined) {\n",
              "        clearInterval(timer);\n",
              "        embed_document(root);\n",
              "      } else {\n",
              "        attempts++;\n",
              "        if (attempts > 100) {\n",
              "          clearInterval(timer);\n",
              "          console.log(\"Bokeh: ERROR: Unable to run BokehJS code because BokehJS library is missing\");\n",
              "        }\n",
              "      }\n",
              "    }, 10, root)\n",
              "  }\n",
              "})(window);"
            ],
            "application/vnd.bokehjs_exec.v0+json": ""
          },
          "metadata": {
            "application/vnd.bokehjs_exec.v0+json": {
              "id": "p3100"
            }
          }
        }
      ]
    },
    {
      "cell_type": "code",
      "source": [
        "print(stats)"
      ],
      "metadata": {
        "colab": {
          "base_uri": "https://localhost:8080/"
        },
        "id": "2f9Cj5mbPWct",
        "outputId": "00226cd9-a668-4c88-d751-d2038d394dd5"
      },
      "execution_count": 37,
      "outputs": [
        {
          "output_type": "stream",
          "name": "stdout",
          "text": [
            "Start                     2024-01-02 00:00:00\n",
            "End                       2024-05-03 00:00:00\n",
            "Duration                    122 days 00:00:00\n",
            "Exposure Time [%]                   40.697674\n",
            "Equity Final [$]                108825.253291\n",
            "Equity Peak [$]                 108825.253291\n",
            "Return [%]                           8.825253\n",
            "Buy & Hold Return [%]               -1.217407\n",
            "Return (Ann.) [%]                    28.12283\n",
            "Volatility (Ann.) [%]               26.640482\n",
            "Sharpe Ratio                         1.055643\n",
            "Sortino Ratio                        2.691485\n",
            "Calmar Ratio                         3.676011\n",
            "Max. Drawdown [%]                   -7.650366\n",
            "Avg. Drawdown [%]                   -7.650366\n",
            "Max. Drawdown Duration       44 days 00:00:00\n",
            "Avg. Drawdown Duration       44 days 00:00:00\n",
            "# Trades                                    1\n",
            "Win Rate [%]                            100.0\n",
            "Best Trade [%]                       8.825986\n",
            "Worst Trade [%]                      8.825986\n",
            "Avg. Trade [%]                       8.825986\n",
            "Max. Trade Duration          49 days 00:00:00\n",
            "Avg. Trade Duration          49 days 00:00:00\n",
            "Profit Factor                             NaN\n",
            "Expectancy [%]                       8.825986\n",
            "SQN                                       NaN\n",
            "_strategy                          MLStrategy\n",
            "_equity_curve                             ...\n",
            "_trades                      Size  EntryBa...\n",
            "dtype: object\n"
          ]
        }
      ]
    },
    {
      "cell_type": "code",
      "source": [
        "trades = stats['_trades']\n",
        "trades"
      ],
      "metadata": {
        "colab": {
          "base_uri": "https://localhost:8080/",
          "height": 81
        },
        "id": "KxKaYUw9TSHU",
        "outputId": "4e4bcb0d-3f8d-450e-9f96-9dbfbbb11643"
      },
      "execution_count": 38,
      "outputs": [
        {
          "output_type": "execute_result",
          "data": {
            "text/plain": [
              "   Size  EntryBar  ExitBar  EntryPrice   ExitPrice          PnL  ReturnPct  \\\n",
              "0   583        51       85  171.512338  186.649994  8825.253291    0.08826   \n",
              "\n",
              "   EntryTime   ExitTime Duration  \n",
              "0 2024-03-15 2024-05-03  49 days  "
            ],
            "text/html": [
              "\n",
              "  <div id=\"df-e9cc5da8-a760-4b55-a7fd-79dbe75a18c2\" class=\"colab-df-container\">\n",
              "    <div>\n",
              "<style scoped>\n",
              "    .dataframe tbody tr th:only-of-type {\n",
              "        vertical-align: middle;\n",
              "    }\n",
              "\n",
              "    .dataframe tbody tr th {\n",
              "        vertical-align: top;\n",
              "    }\n",
              "\n",
              "    .dataframe thead th {\n",
              "        text-align: right;\n",
              "    }\n",
              "</style>\n",
              "<table border=\"1\" class=\"dataframe\">\n",
              "  <thead>\n",
              "    <tr style=\"text-align: right;\">\n",
              "      <th></th>\n",
              "      <th>Size</th>\n",
              "      <th>EntryBar</th>\n",
              "      <th>ExitBar</th>\n",
              "      <th>EntryPrice</th>\n",
              "      <th>ExitPrice</th>\n",
              "      <th>PnL</th>\n",
              "      <th>ReturnPct</th>\n",
              "      <th>EntryTime</th>\n",
              "      <th>ExitTime</th>\n",
              "      <th>Duration</th>\n",
              "    </tr>\n",
              "  </thead>\n",
              "  <tbody>\n",
              "    <tr>\n",
              "      <th>0</th>\n",
              "      <td>583</td>\n",
              "      <td>51</td>\n",
              "      <td>85</td>\n",
              "      <td>171.512338</td>\n",
              "      <td>186.649994</td>\n",
              "      <td>8825.253291</td>\n",
              "      <td>0.08826</td>\n",
              "      <td>2024-03-15</td>\n",
              "      <td>2024-05-03</td>\n",
              "      <td>49 days</td>\n",
              "    </tr>\n",
              "  </tbody>\n",
              "</table>\n",
              "</div>\n",
              "    <div class=\"colab-df-buttons\">\n",
              "\n",
              "  <div class=\"colab-df-container\">\n",
              "    <button class=\"colab-df-convert\" onclick=\"convertToInteractive('df-e9cc5da8-a760-4b55-a7fd-79dbe75a18c2')\"\n",
              "            title=\"Convert this dataframe to an interactive table.\"\n",
              "            style=\"display:none;\">\n",
              "\n",
              "  <svg xmlns=\"http://www.w3.org/2000/svg\" height=\"24px\" viewBox=\"0 -960 960 960\">\n",
              "    <path d=\"M120-120v-720h720v720H120Zm60-500h600v-160H180v160Zm220 220h160v-160H400v160Zm0 220h160v-160H400v160ZM180-400h160v-160H180v160Zm440 0h160v-160H620v160ZM180-180h160v-160H180v160Zm440 0h160v-160H620v160Z\"/>\n",
              "  </svg>\n",
              "    </button>\n",
              "\n",
              "  <style>\n",
              "    .colab-df-container {\n",
              "      display:flex;\n",
              "      gap: 12px;\n",
              "    }\n",
              "\n",
              "    .colab-df-convert {\n",
              "      background-color: #E8F0FE;\n",
              "      border: none;\n",
              "      border-radius: 50%;\n",
              "      cursor: pointer;\n",
              "      display: none;\n",
              "      fill: #1967D2;\n",
              "      height: 32px;\n",
              "      padding: 0 0 0 0;\n",
              "      width: 32px;\n",
              "    }\n",
              "\n",
              "    .colab-df-convert:hover {\n",
              "      background-color: #E2EBFA;\n",
              "      box-shadow: 0px 1px 2px rgba(60, 64, 67, 0.3), 0px 1px 3px 1px rgba(60, 64, 67, 0.15);\n",
              "      fill: #174EA6;\n",
              "    }\n",
              "\n",
              "    .colab-df-buttons div {\n",
              "      margin-bottom: 4px;\n",
              "    }\n",
              "\n",
              "    [theme=dark] .colab-df-convert {\n",
              "      background-color: #3B4455;\n",
              "      fill: #D2E3FC;\n",
              "    }\n",
              "\n",
              "    [theme=dark] .colab-df-convert:hover {\n",
              "      background-color: #434B5C;\n",
              "      box-shadow: 0px 1px 3px 1px rgba(0, 0, 0, 0.15);\n",
              "      filter: drop-shadow(0px 1px 2px rgba(0, 0, 0, 0.3));\n",
              "      fill: #FFFFFF;\n",
              "    }\n",
              "  </style>\n",
              "\n",
              "    <script>\n",
              "      const buttonEl =\n",
              "        document.querySelector('#df-e9cc5da8-a760-4b55-a7fd-79dbe75a18c2 button.colab-df-convert');\n",
              "      buttonEl.style.display =\n",
              "        google.colab.kernel.accessAllowed ? 'block' : 'none';\n",
              "\n",
              "      async function convertToInteractive(key) {\n",
              "        const element = document.querySelector('#df-e9cc5da8-a760-4b55-a7fd-79dbe75a18c2');\n",
              "        const dataTable =\n",
              "          await google.colab.kernel.invokeFunction('convertToInteractive',\n",
              "                                                    [key], {});\n",
              "        if (!dataTable) return;\n",
              "\n",
              "        const docLinkHtml = 'Like what you see? Visit the ' +\n",
              "          '<a target=\"_blank\" href=https://colab.research.google.com/notebooks/data_table.ipynb>data table notebook</a>'\n",
              "          + ' to learn more about interactive tables.';\n",
              "        element.innerHTML = '';\n",
              "        dataTable['output_type'] = 'display_data';\n",
              "        await google.colab.output.renderOutput(dataTable, element);\n",
              "        const docLink = document.createElement('div');\n",
              "        docLink.innerHTML = docLinkHtml;\n",
              "        element.appendChild(docLink);\n",
              "      }\n",
              "    </script>\n",
              "  </div>\n",
              "\n",
              "    </div>\n",
              "  </div>\n"
            ],
            "application/vnd.google.colaboratory.intrinsic+json": {
              "type": "dataframe",
              "variable_name": "trades",
              "summary": "{\n  \"name\": \"trades\",\n  \"rows\": 1,\n  \"fields\": [\n    {\n      \"column\": \"Size\",\n      \"properties\": {\n        \"dtype\": \"number\",\n        \"std\": null,\n        \"min\": 583,\n        \"max\": 583,\n        \"num_unique_values\": 1,\n        \"samples\": [\n          583\n        ],\n        \"semantic_type\": \"\",\n        \"description\": \"\"\n      }\n    },\n    {\n      \"column\": \"EntryBar\",\n      \"properties\": {\n        \"dtype\": \"number\",\n        \"std\": null,\n        \"min\": 51,\n        \"max\": 51,\n        \"num_unique_values\": 1,\n        \"samples\": [\n          51\n        ],\n        \"semantic_type\": \"\",\n        \"description\": \"\"\n      }\n    },\n    {\n      \"column\": \"ExitBar\",\n      \"properties\": {\n        \"dtype\": \"number\",\n        \"std\": null,\n        \"min\": 85,\n        \"max\": 85,\n        \"num_unique_values\": 1,\n        \"samples\": [\n          85\n        ],\n        \"semantic_type\": \"\",\n        \"description\": \"\"\n      }\n    },\n    {\n      \"column\": \"EntryPrice\",\n      \"properties\": {\n        \"dtype\": \"number\",\n        \"std\": null,\n        \"min\": 171.5123381652832,\n        \"max\": 171.5123381652832,\n        \"num_unique_values\": 1,\n        \"samples\": [\n          171.5123381652832\n        ],\n        \"semantic_type\": \"\",\n        \"description\": \"\"\n      }\n    },\n    {\n      \"column\": \"ExitPrice\",\n      \"properties\": {\n        \"dtype\": \"number\",\n        \"std\": null,\n        \"min\": 186.64999389648438,\n        \"max\": 186.64999389648438,\n        \"num_unique_values\": 1,\n        \"samples\": [\n          186.64999389648438\n        ],\n        \"semantic_type\": \"\",\n        \"description\": \"\"\n      }\n    },\n    {\n      \"column\": \"PnL\",\n      \"properties\": {\n        \"dtype\": \"number\",\n        \"std\": null,\n        \"min\": 8825.253291290279,\n        \"max\": 8825.253291290279,\n        \"num_unique_values\": 1,\n        \"samples\": [\n          8825.253291290279\n        ],\n        \"semantic_type\": \"\",\n        \"description\": \"\"\n      }\n    },\n    {\n      \"column\": \"ReturnPct\",\n      \"properties\": {\n        \"dtype\": \"number\",\n        \"std\": null,\n        \"min\": 0.08825986452714152,\n        \"max\": 0.08825986452714152,\n        \"num_unique_values\": 1,\n        \"samples\": [\n          0.08825986452714152\n        ],\n        \"semantic_type\": \"\",\n        \"description\": \"\"\n      }\n    },\n    {\n      \"column\": \"EntryTime\",\n      \"properties\": {\n        \"dtype\": \"date\",\n        \"min\": \"2024-03-15 00:00:00\",\n        \"max\": \"2024-03-15 00:00:00\",\n        \"num_unique_values\": 1,\n        \"samples\": [\n          \"2024-03-15 00:00:00\"\n        ],\n        \"semantic_type\": \"\",\n        \"description\": \"\"\n      }\n    },\n    {\n      \"column\": \"ExitTime\",\n      \"properties\": {\n        \"dtype\": \"date\",\n        \"min\": \"2024-05-03 00:00:00\",\n        \"max\": \"2024-05-03 00:00:00\",\n        \"num_unique_values\": 1,\n        \"samples\": [\n          \"2024-05-03 00:00:00\"\n        ],\n        \"semantic_type\": \"\",\n        \"description\": \"\"\n      }\n    },\n    {\n      \"column\": \"Duration\",\n      \"properties\": {\n        \"dtype\": \"timedelta64[ns]\",\n        \"num_unique_values\": 1,\n        \"samples\": [\n          \"49 days 00:00:00\"\n        ],\n        \"semantic_type\": \"\",\n        \"description\": \"\"\n      }\n    }\n  ]\n}"
            }
          },
          "metadata": {},
          "execution_count": 38
        }
      ]
    },
    {
      "cell_type": "markdown",
      "source": [
        "Polecana strategia inwestycyjna: zakup 2024-03-15, sprzedaż 2024-05-03\n",
        "\n",
        "Zysk: 8.826 %"
      ],
      "metadata": {
        "id": "EflgsLqtTqn3"
      }
    }
  ]
}